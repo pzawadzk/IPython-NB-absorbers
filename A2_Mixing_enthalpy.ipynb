{
 "metadata": {
  "name": "",
  "signature": "sha256:70589a5ba927dcb94cb4e16d48ff1afc93bf8e9db2cca05abd9978aa6cc1ef85"
 },
 "nbformat": 3,
 "nbformat_minor": 0,
 "worksheets": [
  {
   "cells": [
    {
     "cell_type": "markdown",
     "metadata": {},
     "source": [
      "# Caluclation of mixing enthalpy between Cu2SnS3 and Cu3SnS4"
     ]
    },
    {
     "cell_type": "code",
     "collapsed": false,
     "input": [
      "%pylab inline\n",
      "import numpy as np\n",
      "import os\n",
      "import sys\n",
      "from pylada.crystal import  read, write\n"
     ],
     "language": "python",
     "metadata": {},
     "outputs": [
      {
       "output_type": "stream",
       "stream": "stdout",
       "text": [
        "Populating the interactive namespace from numpy and matplotlib\n"
       ]
      }
     ],
     "prompt_number": 1
    },
    {
     "cell_type": "code",
     "collapsed": false,
     "input": [
      "E314 = -.34355317E+02/8\n",
      "E213 = -4.300420833333333\n",
      "\n",
      "x = np.array([128., 130., 132., 136., 140., ])\n",
      "\n",
      "E=[\n",
      "[-.16451955E+04, -.16465189E+04,-.16448780E+04,-.16464240E+04,-.16457578E+04, -.16467757E+04],\n",
      "[-.16472122E+04,-.16465855E+04,-.16467954E+04,-.16461009E+04,-.16467815E+04,],\n",
      "[-.16481923E+04,-.16477573E+04,-.16474010E+04,-.16473703E+04,-.16471450E+04],\n",
      "[-.16486918E+04,-.16473741E+04,-.16479581E+04,-.16486187E+04],\n",
      "[-.16481936E+04,-.16475522E+04],\n",
      "#[E314*2*192],\n",
      "]\n",
      "\n",
      "end_comp = -1\n",
      "x -= x[0]\n",
      "x_true = x.copy()\n",
      "\n",
      "x /=  x[end_comp]\n",
      "x_true /= 144-128\n"
     ],
     "language": "python",
     "metadata": {},
     "outputs": [],
     "prompt_number": 2
    },
    {
     "cell_type": "code",
     "collapsed": false,
     "input": [
      "ax = gca()\n",
      "for i in range(len(x)):\n",
      "    for j in range(len(E[i])):\n",
      "        y = E[i][j] - (x[end_comp]-x[i]) * min(E[0]) -  x[i] * min(E[end_comp])\n",
      "        \n",
      "        y *= 1000 /(2*192)\n",
      "        ax.plot(x_true[i], y, 'b+', markersize=12, markeredgewidth=2)\n",
      "        #print '%.3f\\t%.3f'%(x_true[i], y)\n",
      "        ax.plot([0,1],[0,0], 'k-')\n",
      "        \n",
      "ax.set_ylabel(r'$\\Delta_m H$ [meV/atom]')\n",
      "ax.text(0.1, 7, r'Cu$_{2+x/4}$Sn$_{1-x/4}$S$_3$')\n",
      "ax.set_xlabel(r'$x$')\n",
      "ax.axis(xmin = -0.0, xmax = 1.0, ymin = -10, ymax=10)\n"
     ],
     "language": "python",
     "metadata": {},
     "outputs": [
      {
       "metadata": {},
       "output_type": "pyout",
       "prompt_number": 5,
       "text": [
        "(-0.0, 1.0, -10, 10)"
       ]
      },
      {
       "metadata": {},
       "output_type": "display_data",
       "png": "[encoded data removed]",
       "text": [
        "<matplotlib.figure.Figure at 0x4089210>"
       ]
      }
     ],
     "prompt_number": 5
    },
    {
     "cell_type": "raw",
     "metadata": {},
     "source": [
      "\n",
      "Volume change between CTS and 314 is only 1.5%\n"
     ]
    },
    {
     "cell_type": "code",
     "collapsed": false,
     "input": [
      "v_213 =  20.4777\n",
      "v_314 =  19.58\n",
      "dv = (v_213/v_314)**(1/3.)\n",
      "print dv"
     ],
     "language": "python",
     "metadata": {},
     "outputs": [
      {
       "output_type": "stream",
       "stream": "stdout",
       "text": [
        "1.01505481642\n"
       ]
      }
     ],
     "prompt_number": 9
    },
    {
     "cell_type": "code",
     "collapsed": false,
     "input": [
      "from tools import remove_atoms"
     ],
     "language": "python",
     "metadata": {},
     "outputs": [],
     "prompt_number": 10
    },
    {
     "cell_type": "code",
     "collapsed": false,
     "input": [
      "dir = '/scratch/pzawadzk/DISORDER/CZTS/MC/CTS/data'\n",
      "for cu in [140]:\n",
      "    file = 'cu%d_192_T_-200.0_seed_%s_mc_v5' %(cu, 8)\n",
      "    poscar_path = os.path.join(dir, file, 'poscar_N_Cu_Zn_Sn_.vasp')\n",
      "    print poscar_path\n",
      "    structure = read.poscar(poscar_path)\n",
      "    structure = remove_atoms(structure, atoms_0=['S', ], confs = [[2,2,0]], remove_metal=True)\n",
      "    write.poscar(structure, '/home/pzawadzk/poscar_cu%d_192.vasp'%cu, vasp5=True)\n"
     ],
     "language": "python",
     "metadata": {},
     "outputs": [
      {
       "output_type": "stream",
       "stream": "stdout",
       "text": [
        "/scratch/pzawadzk/DISORDER/CZTS/MC/CTS/data/cu140_192_T_-200.0_seed_8_mc_v5/poscar_N_Cu_Zn_Sn_.vasp\n"
       ]
      }
     ],
     "prompt_number": 7
    },
    {
     "cell_type": "code",
     "collapsed": false,
     "input": [
      "from pylada.crystal import  supercell\n",
      "structure = read.poscar('/scratch/pzawadzk/materials/Cu2SnS3/non-magnetic/POSCAR')\n",
      "\n",
      "k = [3,3,3]\n",
      "cell = structure.cell\n",
      "scell = np.array([[k[0], 0, 0], [0, k[1], 0], [0, 0, k[2]]])\n",
      "cell = np.dot(cell, scell)\n",
      "structure  = supercell(structure, cell)\n",
      "structure = remove_atoms(structure, atoms_0=['S', ], confs = [[2,2,0],])\n",
      "\n",
      "write.poscar(structure, '/home/pzawadzk/cu2sns3_cc.vasp', vasp5=True)"
     ],
     "language": "python",
     "metadata": {},
     "outputs": [],
     "prompt_number": 11
    },
    {
     "cell_type": "code",
     "collapsed": false,
     "input": [
      "from pylada.crystal import  supercell, neighbors\n",
      "from tools import  remove_atoms\n",
      "structure = read.poscar('/scratch/pzawadzk/materials/Cu2SnS3/non-magnetic/POSCAR')\n",
      "atoms = ['Cu', 'Sn', 'Zn']\n",
      "k = [3,3,3]\n",
      "cell = structure.cell\n",
      "scell = np.array([[k[0], 0, 0], [0, k[1], 0], [0, 0, k[2]]])\n",
      "cell = np.dot(cell, scell)\n",
      "structure  = supercell(structure, cell)\n",
      "print len(structure)/2.\n",
      "conf = [4, 0, 0]\n",
      "all_Sn =[]\n",
      "for i, atom in enumerate(structure):\n",
      "        if atom.type == 'Sn':\n",
      "            all_Sn.append(i)\n",
      "            \n",
      "for i in random.choice(all_Sn, 4):\n",
      "    structure[i].type = 'Cu'\n",
      "\n",
      "for atom in structure:\n",
      "        if atom.type == 'S':\n",
      "            p = atom.pos\n",
      "            neighs = [n for n in neighbors(structure, 4, p)]\n",
      "            count = [0,0,0]\n",
      "            for n in neighs:\n",
      "                for i in range(3):\n",
      "                  if n[0].type == atoms[i]:\n",
      "                    count[i]  +=1\n",
      "            if count == conf:\n",
      "                atom.type = 'P'\n",
      "                print count\n",
      "\n",
      "structure = remove_atoms(structure, atoms_0 = ['S', 'P'], confs = [[4, 0, 0], [2,2 ,0]])\n",
      "write.poscar(structure, '/home/pzawadzk/cu2sns3_cc_0.24cu3sns4.vasp', vasp5=True)\n"
     ],
     "language": "python",
     "metadata": {},
     "outputs": [
      {
       "output_type": "stream",
       "stream": "stdout",
       "text": [
        "162.0\n",
        "[4, 0, 0]\n",
        "[4, 0, 0]\n",
        "[4, 0, 0]\n",
        "[4, 0, 0]"
       ]
      },
      {
       "output_type": "stream",
       "stream": "stdout",
       "text": [
        "\n",
        "[4, 0, 0]\n",
        "[4, 0, 0]"
       ]
      },
      {
       "output_type": "stream",
       "stream": "stdout",
       "text": [
        "\n",
        "[4, 0, 0]\n",
        "[4, 0, 0]"
       ]
      },
      {
       "output_type": "stream",
       "stream": "stdout",
       "text": [
        "\n"
       ]
      }
     ],
     "prompt_number": 12
    }
   ],
   "metadata": {}
  }
 ]
}