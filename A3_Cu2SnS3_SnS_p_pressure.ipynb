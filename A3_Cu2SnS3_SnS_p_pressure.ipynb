{
 "metadata": {
  "name": "",
  "signature": "sha256:2b17f4dd36af04cbdbdc6be5a8ac6a5ee9f30fb2737d823bc34ec1f3854a0ebc"
 },
 "nbformat": 3,
 "nbformat_minor": 0,
 "worksheets": [
  {
   "cells": [
    {
     "cell_type": "markdown",
     "metadata": {},
     "source": [
      "# Stability of Cu2SnS3 against decompostion into SnS"
     ]
    },
    {
     "cell_type": "code",
     "collapsed": false,
     "input": [
      "import numpy as np\n",
      "%pylab inline\n",
      "p0 = 1e5\n",
      "R2 = 8.314 #J/mol K\n",
      "R = 8.6e-5 #ev/K"
     ],
     "language": "python",
     "metadata": {},
     "outputs": [
      {
       "output_type": "stream",
       "stream": "stdout",
       "text": [
        "Populating the interactive namespace from numpy and matplotlib\n"
       ]
      }
     ],
     "prompt_number": 3
    },
    {
     "cell_type": "raw",
     "metadata": {},
     "source": [
      "3 Cu2SnS3 -> 2 Cu3SnS4 + SnS"
     ]
    },
    {
     "cell_type": "code",
     "collapsed": false,
     "input": [
      "dH_d = 0.292323515\n",
      "k_mmhg_pa = 133.32\n",
      "T= np.linspace(400,1500,21)"
     ],
     "language": "python",
     "metadata": {},
     "outputs": [],
     "prompt_number": 4
    },
    {
     "cell_type": "raw",
     "metadata": {},
     "source": [
      "SnS\n",
      "\u0394H0298 = 220.4 \u00b1 3.0 kJ mole\u2212 \n",
      "2.284286 eV\n",
      "\n",
      "\u0394S0298 = 162.4 \u00b1 4.5 J K\u22121 mole\u22121\n",
      "1.68316 meV/K\n"
     ]
    },
    {
     "cell_type": "code",
     "collapsed": false,
     "input": [
      "dG1 = 2.284286 - 1.68316 * T * 1e-3"
     ],
     "language": "python",
     "metadata": {},
     "outputs": [],
     "prompt_number": 5
    },
    {
     "cell_type": "code",
     "collapsed": false,
     "input": [
      "Psns = np.e**(-dG1/(R*T))*p0"
     ],
     "language": "python",
     "metadata": {},
     "outputs": [],
     "prompt_number": 6
    },
    {
     "cell_type": "code",
     "collapsed": false,
     "input": [
      "dG = dH_d + dG1"
     ],
     "language": "python",
     "metadata": {},
     "outputs": [],
     "prompt_number": 8
    },
    {
     "cell_type": "code",
     "collapsed": false,
     "input": [
      "K = np.e**(-dG/(T*R))\n",
      "Psns_sat = (K) *p0\n",
      "\n",
      "plot(T-273, Psns_sat, 'g')\n",
      "plot(T-273, Psns, 'k')\n",
      "ax = gca()\n",
      "\n",
      "plot([100,900],[0.4,0.4], '--k')\n",
      "ax.set_title('-' )\n",
      "ax.axis(xmin=300, xmax=800, ymin=1e-6, ymax=1.0)\n",
      "ax.set_xlabel('$T$ [$^{\\circ}\\mathrm{C}$]')\n",
      "ax.set_ylabel('$p$ [Pa]')\n",
      "ax.set_yscale('log',basey=10)\n",
      "#legend()"
     ],
     "language": "python",
     "metadata": {},
     "outputs": [
      {
       "metadata": {},
       "output_type": "display_data",
       "png": "[encoded data removed]",
       "text": [
        "<matplotlib.figure.Figure at 0x3b3b790>"
       ]
      }
     ],
     "prompt_number": 9
    },
    {
     "cell_type": "code",
     "collapsed": false,
     "input": [
      "#np.savetxt('press_cu2sns3_sns.dat', np.transpose([T, Psns,  Psns_sat]))\n",
      "#len(T)"
     ],
     "language": "python",
     "metadata": {},
     "outputs": [],
     "prompt_number": 11
    }
   ],
   "metadata": {}
  }
 ]
}