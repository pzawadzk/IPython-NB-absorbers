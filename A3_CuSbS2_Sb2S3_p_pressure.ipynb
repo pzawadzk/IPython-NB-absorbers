{
 "metadata": {
  "name": "",
  "signature": "sha256:2d47ccf9cbac72eb7cef80d2c224309f0e9e1b8d471a8e49898e33914f7f0705"
 },
 "nbformat": 3,
 "nbformat_minor": 0,
 "worksheets": [
  {
   "cells": [
    {
     "cell_type": "markdown",
     "metadata": {},
     "source": [
      "# Stability of CuSbS2 against decompostion into Sb2S3"
     ]
    },
    {
     "cell_type": "code",
     "collapsed": false,
     "input": [
      "import numpy as np\n",
      "%pylab inline\n",
      "p0 = 1e5\n",
      "R2 = 8.314 #J/mol K\n",
      "R = 8.6e-5 #ev/K"
     ],
     "language": "python",
     "metadata": {},
     "outputs": [
      {
       "output_type": "stream",
       "stream": "stdout",
       "text": [
        "Populating the interactive namespace from numpy and matplotlib\n"
       ]
      }
     ],
     "prompt_number": 1
    },
    {
     "cell_type": "code",
     "collapsed": false,
     "input": [
      "dH_d = 3.09 #eV\n",
      "dH0 = 21\n",
      "dH_d = dH0 * 9 *4/1000. #eV\n",
      "k_mmhg_pa = 133.32\n",
      "\n",
      "T= np.linspace(500,1500,21)\n",
      "\n",
      "Psb2se3 = 10**(10.93 - (11075./T))\n",
      "\n",
      "Psb4 = 10**( 11.539 - (11025/T)) * k_mmhg_pa \n",
      "Psb4 = 10**( 10.545  - (9913./T)) \n",
      "\n",
      "\n",
      "dG1 = -R * T * np.log(Psb2se3/p0)\n",
      "dG2 = -R * T * np.log(Psb4/p0)"
     ],
     "language": "python",
     "metadata": {},
     "outputs": [],
     "prompt_number": 2
    },
    {
     "cell_type": "raw",
     "metadata": {},
     "source": [
      "9 CuSbSe2 ->  3Cu3SbSe4 + 0.5Sb4(g) + 2Sb2Se3, 16 meV/atom\n",
      "3 CuSbS2 ->  Cu3SbS3 + Sb2S3, 22 meV/atom"
     ]
    },
    {
     "cell_type": "code",
     "collapsed": false,
     "input": [
      "dH_d = -3*1.6280 - 2 *0.7830 + 9*0.7813"
     ],
     "language": "python",
     "metadata": {},
     "outputs": [],
     "prompt_number": 3
    },
    {
     "cell_type": "code",
     "collapsed": false,
     "input": [
      "dH_d = 0.240000000000002"
     ],
     "language": "python",
     "metadata": {},
     "outputs": [],
     "prompt_number": 4
    },
    {
     "cell_type": "code",
     "collapsed": false,
     "input": [
      "dG = dH_d + 0.0 * dG2 +  dG1"
     ],
     "language": "python",
     "metadata": {},
     "outputs": [],
     "prompt_number": 5
    },
    {
     "cell_type": "code",
     "collapsed": false,
     "input": [
      "K = np.e**(-dG/(T*R))\n",
      "Psb4_sat = (K) *p0\n",
      "#Psb4_sat = (K/4.**2)**(1/2.5) *p0\n",
      "#plot(T-273, 4*Psb4_sat, '-b')\n",
      "plot(T-273, Psb4_sat, 'g')\n",
      "plot(T-273, Psb2se3, 'k')\n",
      "ax = gca()\n",
      "\n",
      "plot([100,900],[0.4,0.4], '--k')\n",
      "ax.set_title('->314' )\n",
      "ax.axis(xmin=500, xmax=900, ymin=1e-6, ymax=1.0)\n",
      "ax.set_xlabel('$T$ [$^{\\circ}\\mathrm{C}$]')\n",
      "ax.set_ylabel('$p$ [Pa]')\n",
      "ax.set_yscale('log',basey=10)\n",
      "#legend()\n"
     ],
     "language": "python",
     "metadata": {},
     "outputs": [
      {
       "metadata": {},
       "output_type": "display_data",
       "png": "[encoded data removed]",
       "text": [
        "<matplotlib.figure.Figure at 0x2fe4390>"
       ]
      }
     ],
     "prompt_number": 6
    }
   ],
   "metadata": {}
  }
 ]
}