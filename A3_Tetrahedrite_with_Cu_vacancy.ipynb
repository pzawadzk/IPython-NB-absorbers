{
 "metadata": {
  "name": ""
 },
 "nbformat": 3,
 "nbformat_minor": 0,
 "worksheets": [
  {
   "cells": [
    {
     "cell_type": "markdown",
     "metadata": {},
     "source": [
      "## Structure of tetrahedited with two Cu vacancies"
     ]
    },
    {
     "cell_type": "code",
     "collapsed": false,
     "input": [
      "import numpy as np\n",
      "from pylada.crystal import read\n",
      "from itertools import combinations"
     ],
     "language": "python",
     "metadata": {},
     "outputs": [],
     "prompt_number": 15
    },
    {
     "cell_type": "code",
     "collapsed": false,
     "input": [
      "structure = read.poscar('/home/pzawadzk/trunk/structures/cu11.4Sb4S13_fe_on_frac_cu.POSCAR.vasp')\n",
      "len(structure)\n"
     ],
     "language": "python",
     "metadata": {},
     "outputs": [
      {
       "metadata": {},
       "output_type": "pyout",
       "prompt_number": 39,
       "text": [
        "58"
       ]
      }
     ],
     "prompt_number": 39
    },
    {
     "cell_type": "raw",
     "metadata": {},
     "source": [
      "site Fe is occupied in 0.9 what gives about 2 vacancies per 12 atoms\n",
      "to find the postions fo vacancies I miximixe the distance\n",
      "the maximal distance is 9.66 \\AA"
     ]
    },
    {
     "cell_type": "code",
     "collapsed": false,
     "input": [
      "atoms_fe = []\n",
      "for i, atom in enumerate(structure):\n",
      "    if atom.type == 'Fe':\n",
      "        atoms_fe.append(atom)"
     ],
     "language": "python",
     "metadata": {},
     "outputs": [],
     "prompt_number": 22
    },
    {
     "cell_type": "code",
     "collapsed": false,
     "input": [
      "dist = np.zeros([12,12])+100\n",
      "from pylada.crystal import  neighbors\n",
      "\n",
      "for i in range(12):\n",
      "    neighs = [n for n in  neighbors(structure, 200 ,structure[i].pos)]\n",
      "    for n in neighs:\n",
      "        if n[0].type == 'Fe':\n",
      "            index = atoms_fe.index(n[0])\n",
      "            dist[i][index] = n[-1]*structure.scale\n",
      "\n"
     ],
     "language": "python",
     "metadata": {},
     "outputs": [],
     "prompt_number": 31
    },
    {
     "cell_type": "code",
     "collapsed": false,
     "input": [
      "dist"
     ],
     "language": "python",
     "metadata": {},
     "outputs": [
      {
       "metadata": {},
       "output_type": "pyout",
       "prompt_number": 32,
       "text": [
        "array([[ 100.        ,    5.16149998,    9.65628226,    9.65628226,\n",
        "           9.65628226,    9.65628226,    8.16104804,    8.16104804,\n",
        "           7.29946327,    8.9399802 ,    8.16104804,    8.16104804],\n",
        "       [   5.16149998,  100.        ,    9.65628226,    9.65628226,\n",
        "           9.65628226,    9.65628226,    8.16104804,    8.16104804,\n",
        "           8.9399802 ,    7.29946327,    8.16104804,    8.16104804],\n",
        "       [   9.65628226,    9.65628226,  100.        ,    5.16149998,\n",
        "           9.65628226,    9.65628226,    7.29946327,    8.9399802 ,\n",
        "           8.16104804,    8.16104804,    8.16104804,    8.16104804],\n",
        "       [   9.65628226,    9.65628226,    5.16149998,  100.        ,\n",
        "           9.65628226,    9.65628226,    8.9399802 ,    7.29946327,\n",
        "           8.16104804,    8.16104804,    8.16104804,    8.16104804],\n",
        "       [   9.65628226,    9.65628226,    9.65628226,    9.65628226,\n",
        "         100.        ,    5.16149998,    8.16104804,    8.16104804,\n",
        "           8.16104804,    8.16104804,    7.29946327,    8.9399802 ],\n",
        "       [   9.65628226,    9.65628226,    9.65628226,    9.65628226,\n",
        "           5.16149998,  100.        ,    8.16104804,    8.16104804,\n",
        "           8.16104804,    8.16104804,    8.9399802 ,    7.29946327],\n",
        "       [   8.16104804,    8.16104804,    7.29946327,    8.9399802 ,\n",
        "           8.16104804,    8.16104804,  100.        ,    5.16149998,\n",
        "           9.65628226,    9.65628226,    9.65628226,    9.65628226],\n",
        "       [   8.16104804,    8.16104804,    8.9399802 ,    7.29946327,\n",
        "           8.16104804,    8.16104804,    5.16149998,  100.        ,\n",
        "           9.65628226,    9.65628226,    9.65628226,    9.65628226],\n",
        "       [   7.29946327,    8.9399802 ,    8.16104804,    8.16104804,\n",
        "           8.16104804,    8.16104804,    9.65628226,    9.65628226,\n",
        "         100.        ,    5.16149998,    9.65628226,    9.65628226],\n",
        "       [   8.9399802 ,    7.29946327,    8.16104804,    8.16104804,\n",
        "           8.16104804,    8.16104804,    9.65628226,    9.65628226,\n",
        "           5.16149998,  100.        ,    9.65628226,    9.65628226],\n",
        "       [   8.16104804,    8.16104804,    8.16104804,    8.16104804,\n",
        "           7.29946327,    8.9399802 ,    9.65628226,    9.65628226,\n",
        "           9.65628226,    9.65628226,  100.        ,    5.16149998],\n",
        "       [   8.16104804,    8.16104804,    8.16104804,    8.16104804,\n",
        "           8.9399802 ,    7.29946327,    9.65628226,    9.65628226,\n",
        "           9.65628226,    9.65628226,    5.16149998,  100.        ]])"
       ]
      }
     ],
     "prompt_number": 32
    },
    {
     "cell_type": "code",
     "collapsed": false,
     "input": [
      "min_d_tmp = 0\n",
      "count = 0\n",
      "for (a, b) in combinations(range(12),2):\n",
      "\n",
      "    min_d = dist[a,b]\n",
      "    if min_d >= min_d_tmp:\n",
      "        min_d_tmp = min_d\n",
      "        print a, b, dist[a,b]\n",
      "        count +=1\n",
      "print count-1"
     ],
     "language": "python",
     "metadata": {},
     "outputs": [
      {
       "output_type": "stream",
       "stream": "stdout",
       "text": [
        "0 1 5.1614999771\n",
        "0 2 9.65628225807\n",
        "0 3 9.65628225807\n",
        "0 4 9.65628225807\n",
        "0 5 9.65628225807\n",
        "1 2 9.65628225807\n",
        "1 3 9.65628225807\n",
        "1 4 9.65628225807\n",
        "1 5 9.65628225807\n",
        "2 4 9.65628225807\n",
        "2 5 9.65628225807\n",
        "3 4 9.65628225807\n",
        "3 5 9.65628225807\n",
        "6 8 9.65628225807\n",
        "6 9 9.65628225807\n",
        "6 10 9.65628225807\n",
        "6 11 9.65628225807\n",
        "7 8 9.65628225807\n",
        "7 9 9.65628225807\n",
        "7 10 9.65628225807\n",
        "7 11 9.65628225807\n",
        "8 10 9.65628225807\n",
        "8 11 9.65628225807\n",
        "9 10 9.65628225807\n",
        "9 11 9.65628225807\n",
        "24\n"
       ]
      }
     ],
     "prompt_number": 49
    },
    {
     "cell_type": "code",
     "collapsed": false,
     "input": [
      "dist[1]"
     ],
     "language": "python",
     "metadata": {},
     "outputs": [
      {
       "metadata": {},
       "output_type": "pyout",
       "prompt_number": 44,
       "text": [
        "array([   5.16149998,  100.        ,    9.65628226,    9.65628226,\n",
        "          9.65628226,    9.65628226,    8.16104804,    8.16104804,\n",
        "          8.9399802 ,    7.29946327,    8.16104804,    8.16104804])"
       ]
      }
     ],
     "prompt_number": 44
    },
    {
     "cell_type": "code",
     "collapsed": false,
     "input": [
      "8.6e-5 * 700 * np.log(24)/56."
     ],
     "language": "python",
     "metadata": {},
     "outputs": [
      {
       "metadata": {},
       "output_type": "pyout",
       "prompt_number": 52,
       "text": [
        "0.0034164078676240418"
       ]
      }
     ],
     "prompt_number": 52
    },
    {
     "cell_type": "code",
     "collapsed": false,
     "input": [],
     "language": "python",
     "metadata": {},
     "outputs": []
    }
   ],
   "metadata": {}
  }
 ]
}