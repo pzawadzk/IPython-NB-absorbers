{
 "metadata": {
  "name": "",
  "signature": "sha256:7dc5e1d45d2a2874602ce76221ae5cc730eb2a3ac0bbbaed35a77b2c33f29733"
 },
 "nbformat": 3,
 "nbformat_minor": 0,
 "worksheets": [
  {
   "cells": [
    {
     "cell_type": "markdown",
     "metadata": {},
     "source": [
      "# Linear Regresion: Model Hamilonian\n"
     ]
    },
    {
     "cell_type": "code",
     "collapsed": false,
     "input": [
      "import numpy as np\n",
      "import os\n",
      "import sys\n",
      "import pandas as pd\n",
      "from tools import *\n",
      "from sklearn import cross_validation\n",
      "\n",
      "%pylab inline\n",
      "dir0  = os.getcwd()"
     ],
     "language": "python",
     "metadata": {},
     "outputs": [
      {
       "output_type": "stream",
       "stream": "stdout",
       "text": [
        "Populating the interactive namespace from numpy and matplotlib\n"
       ]
      }
     ],
     "prompt_number": 1
    },
    {
     "cell_type": "code",
     "collapsed": false,
     "input": [
      "materials = {'D_Cu_In_Se': ['S_12_12_24'],\n",
      "             'D_Ga_Cu_Se': ['S_12_12_24'],\n",
      "             'D_Cu_In_S': ['S_12_12_24'],\n",
      "             'D_Ga_Cu_S': ['S_12_12_24'],\n",
      "             \n",
      "             'D_Sb_Cu_S' : ['S_6_18_24'],\n",
      "             'D_Sb_Cu_Se': ['S_6_18_24'],\n",
      "             'D_Bi_Cu_S' : ['S_6_18_24'],    \n",
      "             'D_Bi_Cu_Se' : ['S_6_18_24'],\n",
      "             'D_As_Cu_S': ['S_6_18_24'],\n",
      "             'D_As_Cu_Se' : ['S_6_18_24'], \n",
      "             \n",
      "             'D_Si_Cu_S': ['S_8_16_24'],\n",
      "             'D_Sn_Cu_S': ['S_8_16_24'],                          \n",
      "             'D_Si_Cu_Se': ['S_8_16_24'],\n",
      "             'D_Sn_Cu_Se': ['S_8_16_24'],\n",
      "             \n",
      "             'D_Zn_Sn_As': ['S_12_12_24'],\n",
      "             #'X_Zn_Sn_As': ['S_12_12_24'],\n",
      "             'D_Zn_Sn_P': ['S_12_12_24'],\n",
      "             'D_Zn_Sn_N': ['S_12_12_24'],\n",
      "             \n",
      "             'D_Zn_Si_As': ['S_12_12_24'],\n",
      "             'D_Zn_Si_P': ['S_12_12_24'],\n",
      "             'D_Zn_Si_N': ['S_12_12_24'],\n",
      "             \n",
      "            'D_Mg_Sn_Cu_S': ['S_6_6_12_24'],\n",
      "             'D_Mg_Sn_Cu_Se': ['S_6_6_12_24'],\n",
      "             \n",
      "              'D_Si_Mg_Cu_S': ['S_6_6_12_24'],\n",
      "             'D_Si_Mg_Cu_Se': ['S_6_6_12_24'],   \n",
      "             \n",
      "              'D_Si_Zn_Cu_S': ['S_6_6_12_24'],\n",
      "             'D_Si_Zn_Cu_Se': ['S_6_6_12_24'],   \n",
      "             \n",
      "             'D_Zn_Sn_Cu_S': ['S_6_6_12_24'],\n",
      "             'D_Zn_Sn_Cu_Se': ['S_6_6_12_24'],             \n",
      "\n",
      "             }"
     ],
     "language": "python",
     "metadata": {},
     "outputs": [],
     "prompt_number": 15
    },
    {
     "cell_type": "code",
     "collapsed": false,
     "input": [
      "df = pd.DataFrame(materials).T\n",
      "df.columns = [ 'stochiometry']"
     ],
     "language": "python",
     "metadata": {},
     "outputs": [],
     "prompt_number": 16
    },
    {
     "cell_type": "code",
     "collapsed": false,
     "input": [
      "motifs =[  'C4', 'B C3', 'B2 C2', 'B3 C', 'B4', 'A C3', 'A B C2', 'A B2 C', 'A B3', 'A2 C2', 'A2 B C', 'A2 B2', 'A3 C', 'A3 B', 'A4']\n",
      "\n",
      "df['N data'] = np.nan\n",
      "df['mea'] = np.nan\n",
      "df['E_avg'] = np.nan\n",
      "df['type decomp'] = ''\n",
      "df['dE decomp'] = np.nan\n",
      " "
     ],
     "language": "python",
     "metadata": {},
     "outputs": [],
     "prompt_number": 17
    },
    {
     "cell_type": "code",
     "collapsed": false,
     "input": [
      "motifs.index('A4')"
     ],
     "language": "python",
     "metadata": {},
     "outputs": [
      {
       "metadata": {},
       "output_type": "pyout",
       "prompt_number": 18,
       "text": [
        "14"
       ]
      }
     ],
     "prompt_number": 18
    },
    {
     "cell_type": "code",
     "collapsed": false,
     "input": [
      "dir_0 = '/scratch/pzawadzk/DISORDER/tb_sc_disorder'"
     ],
     "language": "python",
     "metadata": {},
     "outputs": [],
     "prompt_number": 19
    },
    {
     "cell_type": "code",
     "collapsed": false,
     "input": [
      "#Processed data\n",
      "data_dir = 'data_p100_8'\n",
      "if not os.path.exists(data_dir):\n",
      "    os.makedirs(data_dir)   \n",
      "H_file = os.path.join(data_dir, 'H_materials.pckl')"
     ],
     "language": "python",
     "metadata": {},
     "outputs": [],
     "prompt_number": 20
    },
    {
     "cell_type": "code",
     "collapsed": false,
     "input": [
      "def get_mea(x, E, dh):\n",
      "    count = 0\n",
      "    dE_mea = 0\n",
      "    \n",
      "    for i, xi in enumerate(x):\n",
      "        count += 1\n",
      "        dE = np.abs(np.dot(dh, xi)-E[i])\n",
      "        #print dE\n",
      "        dE_mea += dE\n",
      "    return dE_mea / count\n",
      "    "
     ],
     "language": "python",
     "metadata": {},
     "outputs": [],
     "prompt_number": 21
    },
    {
     "cell_type": "code",
     "collapsed": false,
     "input": [
      "def get_fit_param(dir_0, material, stochiom, p0 = None, indexes = None):\n",
      "    dirs = [os.path.join(dir_0, material, s) for s in stochiom]\n",
      "    \n",
      "\n",
      "    atoms = material.split('_')\n",
      "    \n",
      "    x, E = extract_motifs(dirs, atoms[-1], atoms[1:-1]);\n",
      "    \n",
      "    x = np.array(x)\n",
      "    E = np.array(E)\n",
      "\n",
      "    N = len(x)\n",
      "    Niter = 10\n",
      "    bs = cross_validation.ShuffleSplit (N, n_iter=Niter, random_state=20, train_size=0.80)\n",
      "    \n",
      "    error = []\n",
      "    for train_index, test_index in bs:\n",
      "\n",
      "        x_train, x_test = x[train_index], x[test_index]\n",
      "        E_train, E_test = E[train_index], E[test_index]\n",
      "        pl, Efit = fit_motifs(x_train, E_train, p0, indexes)\n",
      "        \n",
      "        e = get_mea(x_train, E_train, pl) *1000\n",
      "        et = get_mea(x_test, E_test, pl) *1000\n",
      "        error.append(et)\n",
      "    \n",
      "    #print 'CV', error\n",
      "    out_of_sample_err = np.mean(error)\n",
      "    pl_coarse, Efit = fit_motifs(x,E, p0, indexes)\n",
      "\n",
      "    return x, E, Efit, pl_coarse, out_of_sample_err, N"
     ],
     "language": "python",
     "metadata": {},
     "outputs": [],
     "prompt_number": 22
    },
    {
     "cell_type": "code",
     "collapsed": false,
     "input": [
      "def get_decomp_en(materials, key, pl):\n",
      "    dhs = print_stable_motifs(pl)\n",
      "\n",
      "    if materials[key] == ['S_12_12_24'] or materials[key] == ['S_16_16_32']:\n",
      "        return 'A2 B2', min(dhs['2_2_0']), [8,]\n",
      "    elif materials[key] == ['S_6_18_24']:\n",
      "        return 'A B3', min(dhs['1_3_0']), [4,]\n",
      "    elif materials[key] == ['S_6_6_12_24']:\n",
      "        return 'A B3', min(dhs['1_1_2']), [4,]\n",
      "    elif materials[key] == ['S_8_16_24']:\n",
      "        if   dhs['1_3_0'] < dhs['2_2_0']:\n",
      "            return 'A B3', min(dhs['1_3_0']), [4,]\n",
      "        else:\n",
      "             return 'A2 B2', min(dhs['2_2_0']), [8,]\n"
     ],
     "language": "python",
     "metadata": {},
     "outputs": [],
     "prompt_number": 23
    },
    {
     "cell_type": "markdown",
     "metadata": {},
     "source": [
      "\n",
      "4 B4\n",
      "8 A B3\n",
      "11 A2 B2\n",
      "13 A3 B\n",
      "14 A4"
     ]
    },
    {
     "cell_type": "code",
     "collapsed": false,
     "input": [
      "data = {}\n",
      "for key in materials.keys():\n",
      "    print '#####', key\n",
      "    try:\n",
      "        x, E, Efit, pl_rand, out_of_sample_err, N = get_fit_param(dir_0, key, materials[key])\n",
      "        data[key]= [materials[key][0], pl_rand, out_of_sample_err, Efit, x, E,  N]\n",
      "        \n",
      "        df['N data'][key] = N\n",
      "        df['E_avg'][key] = np.mean(E)\n",
      "        df['mea'][key] = '%.2f'%out_of_sample_err\n",
      "        name, val, indexes = get_decomp_en(materials, key, pl_rand)\n",
      "        df['type decomp'][key] = name\n",
      "        df['dE decomp'][key] = '%.1f'%val\n",
      "    except:\n",
      "        print 'ERROR:', key\n"
     ],
     "language": "python",
     "metadata": {},
     "outputs": [
      {
       "output_type": "stream",
       "stream": "stdout",
       "text": [
        "##### D_As_Cu_Se\n",
        "Structure with wrong coordination"
       ]
      },
      {
       "output_type": "stream",
       "stream": "stdout",
       "text": [
        "\n",
        "Structure with wrong coordination"
       ]
      },
      {
       "output_type": "stream",
       "stream": "stdout",
       "text": [
        "\n",
        "Structure with wrong coordination"
       ]
      },
      {
       "output_type": "stream",
       "stream": "stdout",
       "text": [
        "\n",
        "Structure with wrong coordination"
       ]
      },
      {
       "output_type": "stream",
       "stream": "stdout",
       "text": [
        "\n",
        "#####"
       ]
      },
      {
       "output_type": "stream",
       "stream": "stdout",
       "text": [
        " D_Mg_Sn_Cu_Se\n",
        "#####"
       ]
      },
      {
       "output_type": "stream",
       "stream": "stdout",
       "text": [
        " D_Sn_Cu_Se\n",
        "Structure with wrong coordination"
       ]
      },
      {
       "output_type": "stream",
       "stream": "stdout",
       "text": [
        "\n",
        "#####"
       ]
      },
      {
       "output_type": "stream",
       "stream": "stdout",
       "text": [
        " D_Zn_Sn_Cu_S\n",
        "Structure with wrong coordination"
       ]
      },
      {
       "output_type": "stream",
       "stream": "stdout",
       "text": [
        "\n",
        "Structure with wrong coordination"
       ]
      },
      {
       "output_type": "stream",
       "stream": "stdout",
       "text": [
        "\n",
        "Structure with wrong coordination"
       ]
      },
      {
       "output_type": "stream",
       "stream": "stdout",
       "text": [
        "\n",
        "Structure with wrong coordination"
       ]
      },
      {
       "output_type": "stream",
       "stream": "stdout",
       "text": [
        "\n",
        "Structure with wrong coordination"
       ]
      },
      {
       "output_type": "stream",
       "stream": "stdout",
       "text": [
        "\n",
        "Structure with wrong coordination"
       ]
      },
      {
       "output_type": "stream",
       "stream": "stdout",
       "text": [
        "\n",
        "#####"
       ]
      },
      {
       "output_type": "stream",
       "stream": "stdout",
       "text": [
        " D_Sn_Cu_S\n",
        "Structure with wrong coordination"
       ]
      },
      {
       "output_type": "stream",
       "stream": "stdout",
       "text": [
        "\n",
        "Structure with wrong coordination"
       ]
      },
      {
       "output_type": "stream",
       "stream": "stdout",
       "text": [
        "\n",
        "Structure with wrong coordination"
       ]
      },
      {
       "output_type": "stream",
       "stream": "stdout",
       "text": [
        "\n",
        "Structure with wrong coordination"
       ]
      },
      {
       "output_type": "stream",
       "stream": "stdout",
       "text": [
        "\n",
        "#####"
       ]
      },
      {
       "output_type": "stream",
       "stream": "stdout",
       "text": [
        " D_As_Cu_S\n",
        "Structure with wrong coordination"
       ]
      },
      {
       "output_type": "stream",
       "stream": "stdout",
       "text": [
        "\n",
        "#####"
       ]
      },
      {
       "output_type": "stream",
       "stream": "stdout",
       "text": [
        " D_Sb_Cu_S\n",
        "Structure with wrong coordination"
       ]
      },
      {
       "output_type": "stream",
       "stream": "stdout",
       "text": [
        "\n",
        "Structure with wrong coordination"
       ]
      },
      {
       "output_type": "stream",
       "stream": "stdout",
       "text": [
        "\n",
        "Structure with wrong coordination\n",
        "Structure with wrong coordination"
       ]
      },
      {
       "output_type": "stream",
       "stream": "stdout",
       "text": [
        "\n",
        "Structure with wrong coordination"
       ]
      },
      {
       "output_type": "stream",
       "stream": "stdout",
       "text": [
        "\n",
        "Structure with wrong coordination"
       ]
      },
      {
       "output_type": "stream",
       "stream": "stdout",
       "text": [
        "\n",
        "Structure with wrong coordination"
       ]
      },
      {
       "output_type": "stream",
       "stream": "stdout",
       "text": [
        "\n",
        "Structure with wrong coordination"
       ]
      },
      {
       "output_type": "stream",
       "stream": "stdout",
       "text": [
        "\n",
        "#####"
       ]
      },
      {
       "output_type": "stream",
       "stream": "stdout",
       "text": [
        " D_Zn_Sn_Cu_Se\n",
        "#####"
       ]
      },
      {
       "output_type": "stream",
       "stream": "stdout",
       "text": [
        " D_Mg_Sn_Cu_S\n",
        "Structure with wrong coordination"
       ]
      },
      {
       "output_type": "stream",
       "stream": "stdout",
       "text": [
        "\n",
        "Structure with wrong coordination"
       ]
      },
      {
       "output_type": "stream",
       "stream": "stdout",
       "text": [
        "\n",
        "Structure with wrong coordination"
       ]
      },
      {
       "output_type": "stream",
       "stream": "stdout",
       "text": [
        "\n",
        "Structure with wrong coordination"
       ]
      },
      {
       "output_type": "stream",
       "stream": "stdout",
       "text": [
        "\n",
        "Structure with wrong coordination"
       ]
      },
      {
       "output_type": "stream",
       "stream": "stdout",
       "text": [
        "\n",
        "#####"
       ]
      },
      {
       "output_type": "stream",
       "stream": "stdout",
       "text": [
        " D_Ga_Cu_Se\n",
        "#####"
       ]
      },
      {
       "output_type": "stream",
       "stream": "stdout",
       "text": [
        " D_Cu_In_S\n",
        "#####"
       ]
      },
      {
       "output_type": "stream",
       "stream": "stdout",
       "text": [
        " D_Ga_Cu_S\n",
        "#####"
       ]
      },
      {
       "output_type": "stream",
       "stream": "stdout",
       "text": [
        " D_Zn_Si_P\n",
        "#####"
       ]
      },
      {
       "output_type": "stream",
       "stream": "stdout",
       "text": [
        " D_Si_Zn_Cu_S\n",
        "Structure with wrong coordination"
       ]
      },
      {
       "output_type": "stream",
       "stream": "stdout",
       "text": [
        "\n",
        "Structure with wrong coordination"
       ]
      },
      {
       "output_type": "stream",
       "stream": "stdout",
       "text": [
        "\n",
        "Structure with wrong coordination"
       ]
      },
      {
       "output_type": "stream",
       "stream": "stdout",
       "text": [
        "\n",
        "Structure with wrong coordination"
       ]
      },
      {
       "output_type": "stream",
       "stream": "stdout",
       "text": [
        "\n",
        "Structure with wrong coordination"
       ]
      },
      {
       "output_type": "stream",
       "stream": "stdout",
       "text": [
        "\n",
        "Structure with wrong coordination\n",
        "Structure with wrong coordination"
       ]
      },
      {
       "output_type": "stream",
       "stream": "stdout",
       "text": [
        "\n",
        "Structure with wrong coordination"
       ]
      },
      {
       "output_type": "stream",
       "stream": "stdout",
       "text": [
        "\n",
        "Structure with wrong coordination"
       ]
      },
      {
       "output_type": "stream",
       "stream": "stdout",
       "text": [
        "\n",
        "Structure with wrong coordination\n",
        "Structure with wrong coordination"
       ]
      },
      {
       "output_type": "stream",
       "stream": "stdout",
       "text": [
        "\n",
        "Structure with wrong coordination"
       ]
      },
      {
       "output_type": "stream",
       "stream": "stdout",
       "text": [
        "\n",
        "#####"
       ]
      },
      {
       "output_type": "stream",
       "stream": "stdout",
       "text": [
        " D_Cu_In_Se\n",
        "#####"
       ]
      },
      {
       "output_type": "stream",
       "stream": "stdout",
       "text": [
        " D_Si_Zn_Cu_Se\n",
        "Structure with wrong coordination"
       ]
      },
      {
       "output_type": "stream",
       "stream": "stdout",
       "text": [
        "\n",
        "#####"
       ]
      },
      {
       "output_type": "stream",
       "stream": "stdout",
       "text": [
        " D_Zn_Sn_N\n",
        "#####"
       ]
      },
      {
       "output_type": "stream",
       "stream": "stdout",
       "text": [
        " D_Sb_Cu_Se\n",
        "Structure with wrong coordination"
       ]
      },
      {
       "output_type": "stream",
       "stream": "stdout",
       "text": [
        "\n",
        "Structure with wrong coordination"
       ]
      },
      {
       "output_type": "stream",
       "stream": "stdout",
       "text": [
        "\n",
        "Structure with wrong coordination"
       ]
      },
      {
       "output_type": "stream",
       "stream": "stdout",
       "text": [
        "\n",
        "Structure with wrong coordination"
       ]
      },
      {
       "output_type": "stream",
       "stream": "stdout",
       "text": [
        "\n",
        "Structure with wrong coordination"
       ]
      },
      {
       "output_type": "stream",
       "stream": "stdout",
       "text": [
        "\n",
        "Structure with wrong coordination"
       ]
      },
      {
       "output_type": "stream",
       "stream": "stdout",
       "text": [
        "\n",
        "Structure with wrong coordination"
       ]
      },
      {
       "output_type": "stream",
       "stream": "stdout",
       "text": [
        "\n",
        "Structure with wrong coordination"
       ]
      },
      {
       "output_type": "stream",
       "stream": "stdout",
       "text": [
        "\n",
        "Structure with wrong coordination"
       ]
      },
      {
       "output_type": "stream",
       "stream": "stdout",
       "text": [
        "\n",
        "Structure with wrong coordination"
       ]
      },
      {
       "output_type": "stream",
       "stream": "stdout",
       "text": [
        "\n",
        "Structure with wrong coordination"
       ]
      },
      {
       "output_type": "stream",
       "stream": "stdout",
       "text": [
        "\n",
        "Structure with wrong coordination"
       ]
      },
      {
       "output_type": "stream",
       "stream": "stdout",
       "text": [
        "\n",
        "Structure with wrong coordination"
       ]
      },
      {
       "output_type": "stream",
       "stream": "stdout",
       "text": [
        "\n",
        "Structure with wrong coordination"
       ]
      },
      {
       "output_type": "stream",
       "stream": "stdout",
       "text": [
        "\n",
        "Structure with wrong coordination"
       ]
      },
      {
       "output_type": "stream",
       "stream": "stdout",
       "text": [
        "\n",
        "Structure with wrong coordination"
       ]
      },
      {
       "output_type": "stream",
       "stream": "stdout",
       "text": [
        "\n",
        "Structure with wrong coordination"
       ]
      },
      {
       "output_type": "stream",
       "stream": "stdout",
       "text": [
        "\n",
        "#####"
       ]
      },
      {
       "output_type": "stream",
       "stream": "stdout",
       "text": [
        " D_Si_Mg_Cu_S\n",
        "Structure with wrong coordination"
       ]
      },
      {
       "output_type": "stream",
       "stream": "stdout",
       "text": [
        "\n",
        "Structure with wrong coordination"
       ]
      },
      {
       "output_type": "stream",
       "stream": "stdout",
       "text": [
        "\n",
        "Structure with wrong coordination"
       ]
      },
      {
       "output_type": "stream",
       "stream": "stdout",
       "text": [
        "\n",
        "Structure with wrong coordination"
       ]
      },
      {
       "output_type": "stream",
       "stream": "stdout",
       "text": [
        "\n",
        "Structure with wrong coordination"
       ]
      },
      {
       "output_type": "stream",
       "stream": "stdout",
       "text": [
        "\n",
        "Structure with wrong coordination\n",
        "Structure with wrong coordination"
       ]
      },
      {
       "output_type": "stream",
       "stream": "stdout",
       "text": [
        "\n",
        "Structure with wrong coordination\n",
        "Structure with wrong coordination"
       ]
      },
      {
       "output_type": "stream",
       "stream": "stdout",
       "text": [
        "\n",
        "Structure with wrong coordination"
       ]
      },
      {
       "output_type": "stream",
       "stream": "stdout",
       "text": [
        "\n",
        "Structure with wrong coordination"
       ]
      },
      {
       "output_type": "stream",
       "stream": "stdout",
       "text": [
        "\n",
        "Structure with wrong coordination"
       ]
      },
      {
       "output_type": "stream",
       "stream": "stdout",
       "text": [
        "\n",
        "Structure with wrong coordination"
       ]
      },
      {
       "output_type": "stream",
       "stream": "stdout",
       "text": [
        "\n",
        "Structure with wrong coordination\n",
        "Structure with wrong coordination"
       ]
      },
      {
       "output_type": "stream",
       "stream": "stdout",
       "text": [
        "\n",
        "Structure with wrong coordination\n",
        "Structure with wrong coordination"
       ]
      },
      {
       "output_type": "stream",
       "stream": "stdout",
       "text": [
        "\n",
        "Structure with wrong coordination"
       ]
      },
      {
       "output_type": "stream",
       "stream": "stdout",
       "text": [
        "\n",
        "Structure with wrong coordination"
       ]
      },
      {
       "output_type": "stream",
       "stream": "stdout",
       "text": [
        "\n",
        "Structure with wrong coordination"
       ]
      },
      {
       "output_type": "stream",
       "stream": "stdout",
       "text": [
        "\n",
        "Structure with wrong coordination"
       ]
      },
      {
       "output_type": "stream",
       "stream": "stdout",
       "text": [
        "\n",
        "Structure with wrong coordination"
       ]
      },
      {
       "output_type": "stream",
       "stream": "stdout",
       "text": [
        "\n",
        "Structure with wrong coordination"
       ]
      },
      {
       "output_type": "stream",
       "stream": "stdout",
       "text": [
        "\n",
        "Structure with wrong coordination"
       ]
      },
      {
       "output_type": "stream",
       "stream": "stdout",
       "text": [
        "\n",
        "Structure with wrong coordination\n",
        "Structure with wrong coordination"
       ]
      },
      {
       "output_type": "stream",
       "stream": "stdout",
       "text": [
        "\n",
        "Structure with wrong coordination\n",
        "Structure with wrong coordination"
       ]
      },
      {
       "output_type": "stream",
       "stream": "stdout",
       "text": [
        "\n",
        "Structure with wrong coordination"
       ]
      },
      {
       "output_type": "stream",
       "stream": "stdout",
       "text": [
        "\n",
        "Structure with wrong coordination\n",
        "Structure with wrong coordination"
       ]
      },
      {
       "output_type": "stream",
       "stream": "stdout",
       "text": [
        "\n",
        "Structure with wrong coordination"
       ]
      },
      {
       "output_type": "stream",
       "stream": "stdout",
       "text": [
        "\n",
        "Structure with wrong coordination"
       ]
      },
      {
       "output_type": "stream",
       "stream": "stdout",
       "text": [
        "\n",
        "Structure with wrong coordination"
       ]
      },
      {
       "output_type": "stream",
       "stream": "stdout",
       "text": [
        "\n",
        "Structure with wrong coordination"
       ]
      },
      {
       "output_type": "stream",
       "stream": "stdout",
       "text": [
        "\n",
        "Structure with wrong coordination"
       ]
      },
      {
       "output_type": "stream",
       "stream": "stdout",
       "text": [
        "\n",
        "#####"
       ]
      },
      {
       "output_type": "stream",
       "stream": "stdout",
       "text": [
        " D_Zn_Sn_P\n",
        "#####"
       ]
      },
      {
       "output_type": "stream",
       "stream": "stdout",
       "text": [
        " D_Si_Cu_Se\n",
        "Structure with wrong coordination"
       ]
      },
      {
       "output_type": "stream",
       "stream": "stdout",
       "text": [
        "\n",
        "Structure with wrong coordination"
       ]
      },
      {
       "output_type": "stream",
       "stream": "stdout",
       "text": [
        "\n",
        "Structure with wrong coordination"
       ]
      },
      {
       "output_type": "stream",
       "stream": "stdout",
       "text": [
        "\n",
        "Structure with wrong coordination"
       ]
      },
      {
       "output_type": "stream",
       "stream": "stdout",
       "text": [
        "\n",
        "#####"
       ]
      },
      {
       "output_type": "stream",
       "stream": "stdout",
       "text": [
        " D_Zn_Si_N\n",
        "#####"
       ]
      },
      {
       "output_type": "stream",
       "stream": "stdout",
       "text": [
        " D_Zn_Sn_As\n",
        "#####"
       ]
      },
      {
       "output_type": "stream",
       "stream": "stdout",
       "text": [
        " D_Si_Cu_S\n",
        "Structure with wrong coordination"
       ]
      },
      {
       "output_type": "stream",
       "stream": "stdout",
       "text": [
        "\n",
        "Structure with wrong coordination"
       ]
      },
      {
       "output_type": "stream",
       "stream": "stdout",
       "text": [
        "\n",
        "Structure with wrong coordination"
       ]
      },
      {
       "output_type": "stream",
       "stream": "stdout",
       "text": [
        "\n",
        "Structure with wrong coordination"
       ]
      },
      {
       "output_type": "stream",
       "stream": "stdout",
       "text": [
        "\n",
        "Structure with wrong coordination"
       ]
      },
      {
       "output_type": "stream",
       "stream": "stdout",
       "text": [
        "\n",
        "Structure with wrong coordination"
       ]
      },
      {
       "output_type": "stream",
       "stream": "stdout",
       "text": [
        "\n",
        "Structure with wrong coordination"
       ]
      },
      {
       "output_type": "stream",
       "stream": "stdout",
       "text": [
        "\n",
        "Structure with wrong coordination\n",
        "Structure with wrong coordination"
       ]
      },
      {
       "output_type": "stream",
       "stream": "stdout",
       "text": [
        "\n",
        "Structure with wrong coordination"
       ]
      },
      {
       "output_type": "stream",
       "stream": "stdout",
       "text": [
        "\n",
        "Structure with wrong coordination"
       ]
      },
      {
       "output_type": "stream",
       "stream": "stdout",
       "text": [
        "\n",
        "Structure with wrong coordination\n",
        "Structure with wrong coordination"
       ]
      },
      {
       "output_type": "stream",
       "stream": "stdout",
       "text": [
        "\n",
        "Structure with wrong coordination\n",
        "Structure with wrong coordination"
       ]
      },
      {
       "output_type": "stream",
       "stream": "stdout",
       "text": [
        "\n",
        "Structure with wrong coordination"
       ]
      },
      {
       "output_type": "stream",
       "stream": "stdout",
       "text": [
        "\n",
        "Structure with wrong coordination"
       ]
      },
      {
       "output_type": "stream",
       "stream": "stdout",
       "text": [
        "\n",
        "Structure with wrong coordination"
       ]
      },
      {
       "output_type": "stream",
       "stream": "stdout",
       "text": [
        "\n",
        "Structure with wrong coordination"
       ]
      },
      {
       "output_type": "stream",
       "stream": "stdout",
       "text": [
        "\n",
        "Structure with wrong coordination\n",
        "Structure with wrong coordination"
       ]
      },
      {
       "output_type": "stream",
       "stream": "stdout",
       "text": [
        "\n",
        "Structure with wrong coordination"
       ]
      },
      {
       "output_type": "stream",
       "stream": "stdout",
       "text": [
        "\n",
        "Structure with wrong coordination"
       ]
      },
      {
       "output_type": "stream",
       "stream": "stdout",
       "text": [
        "\n",
        "#####"
       ]
      },
      {
       "output_type": "stream",
       "stream": "stdout",
       "text": [
        " D_Zn_Si_As\n",
        "#####"
       ]
      },
      {
       "output_type": "stream",
       "stream": "stdout",
       "text": [
        " D_Bi_Cu_S\n",
        "Structure with wrong coordination"
       ]
      },
      {
       "output_type": "stream",
       "stream": "stdout",
       "text": [
        "\n",
        "#####"
       ]
      },
      {
       "output_type": "stream",
       "stream": "stdout",
       "text": [
        " D_Bi_Cu_Se\n",
        "Structure with wrong coordination"
       ]
      },
      {
       "output_type": "stream",
       "stream": "stdout",
       "text": [
        "\n",
        "Structure with wrong coordination"
       ]
      },
      {
       "output_type": "stream",
       "stream": "stdout",
       "text": [
        "\n",
        "Structure with wrong coordination"
       ]
      },
      {
       "output_type": "stream",
       "stream": "stdout",
       "text": [
        "\n",
        "Structure with wrong coordination"
       ]
      },
      {
       "output_type": "stream",
       "stream": "stdout",
       "text": [
        "\n",
        "Structure with wrong coordination"
       ]
      },
      {
       "output_type": "stream",
       "stream": "stdout",
       "text": [
        "\n",
        "Structure with wrong coordination"
       ]
      },
      {
       "output_type": "stream",
       "stream": "stdout",
       "text": [
        "\n",
        "#####"
       ]
      },
      {
       "output_type": "stream",
       "stream": "stdout",
       "text": [
        " D_Si_Mg_Cu_Se\n",
        "Structure with wrong coordination"
       ]
      },
      {
       "output_type": "stream",
       "stream": "stdout",
       "text": [
        "\n",
        "Structure with wrong coordination"
       ]
      },
      {
       "output_type": "stream",
       "stream": "stdout",
       "text": [
        "\n",
        "Structure with wrong coordination"
       ]
      },
      {
       "output_type": "stream",
       "stream": "stdout",
       "text": [
        "\n",
        "Structure with wrong coordination"
       ]
      },
      {
       "output_type": "stream",
       "stream": "stdout",
       "text": [
        "\n",
        "Structure with wrong coordination"
       ]
      },
      {
       "output_type": "stream",
       "stream": "stdout",
       "text": [
        "\n"
       ]
      }
     ],
     "prompt_number": 24
    },
    {
     "cell_type": "code",
     "collapsed": false,
     "input": [
      "df.sort_index(by=['dE decomp', 'E_avg'])"
     ],
     "language": "python",
     "metadata": {},
     "outputs": []
    },
    {
     "cell_type": "code",
     "collapsed": false,
     "input": [
      "f = open(H_file, 'w')\n",
      "pickle.dump(data, f)\n",
      "f.close()"
     ],
     "language": "python",
     "metadata": {},
     "outputs": [],
     "prompt_number": 25
    },
    {
     "cell_type": "code",
     "collapsed": false,
     "input": [
      "df"
     ],
     "language": "python",
     "metadata": {},
     "outputs": [
      {
       "html": [
        "<div style=\"max-height:1000px;max-width:1500px;overflow:auto;\">\n",
        "<table border=\"1\" class=\"dataframe\">\n",
        "  <thead>\n",
        "    <tr style=\"text-align: right;\">\n",
        "      <th></th>\n",
        "      <th>stochiometry</th>\n",
        "      <th>N data</th>\n",
        "      <th>mea</th>\n",
        "      <th>E_avg</th>\n",
        "      <th>type decomp</th>\n",
        "      <th>dE decomp</th>\n",
        "    </tr>\n",
        "  </thead>\n",
        "  <tbody>\n",
        "    <tr>\n",
        "      <th>D_As_Cu_S</th>\n",
        "      <td>   S_6_18_24</td>\n",
        "      <td>  68</td>\n",
        "      <td> 2.99</td>\n",
        "      <td>-0.201820</td>\n",
        "      <td>  A B3</td>\n",
        "      <td> 464.8</td>\n",
        "    </tr>\n",
        "    <tr>\n",
        "      <th>D_As_Cu_Se</th>\n",
        "      <td>   S_6_18_24</td>\n",
        "      <td>  58</td>\n",
        "      <td> 2.82</td>\n",
        "      <td>-0.071131</td>\n",
        "      <td>  A B3</td>\n",
        "      <td> 337.7</td>\n",
        "    </tr>\n",
        "    <tr>\n",
        "      <th>D_Bi_Cu_S</th>\n",
        "      <td>   S_6_18_24</td>\n",
        "      <td>  67</td>\n",
        "      <td> 4.03</td>\n",
        "      <td>-0.233673</td>\n",
        "      <td>  A B3</td>\n",
        "      <td> 165.3</td>\n",
        "    </tr>\n",
        "    <tr>\n",
        "      <th>D_Bi_Cu_Se</th>\n",
        "      <td>   S_6_18_24</td>\n",
        "      <td>  56</td>\n",
        "      <td> 3.49</td>\n",
        "      <td>-0.121372</td>\n",
        "      <td>  A B3</td>\n",
        "      <td> 171.0</td>\n",
        "    </tr>\n",
        "    <tr>\n",
        "      <th>D_Cu_In_S</th>\n",
        "      <td>  S_12_12_24</td>\n",
        "      <td>  70</td>\n",
        "      <td> 1.82</td>\n",
        "      <td>-0.655658</td>\n",
        "      <td> A2 B2</td>\n",
        "      <td> 302.6</td>\n",
        "    </tr>\n",
        "    <tr>\n",
        "      <th>D_Cu_In_Se</th>\n",
        "      <td>  S_12_12_24</td>\n",
        "      <td>  68</td>\n",
        "      <td> 1.55</td>\n",
        "      <td>-0.525565</td>\n",
        "      <td> A2 B2</td>\n",
        "      <td> 255.9</td>\n",
        "    </tr>\n",
        "    <tr>\n",
        "      <th>D_Ga_Cu_S</th>\n",
        "      <td>  S_12_12_24</td>\n",
        "      <td>  70</td>\n",
        "      <td> 7.92</td>\n",
        "      <td>-0.794579</td>\n",
        "      <td> A2 B2</td>\n",
        "      <td> 319.7</td>\n",
        "    </tr>\n",
        "    <tr>\n",
        "      <th>D_Ga_Cu_Se</th>\n",
        "      <td>  S_12_12_24</td>\n",
        "      <td>  69</td>\n",
        "      <td> 1.37</td>\n",
        "      <td>-0.616627</td>\n",
        "      <td> A2 B2</td>\n",
        "      <td> 282.2</td>\n",
        "    </tr>\n",
        "    <tr>\n",
        "      <th>D_Mg_Sn_Cu_S</th>\n",
        "      <td> S_6_6_12_24</td>\n",
        "      <td>  95</td>\n",
        "      <td> 2.04</td>\n",
        "      <td>-0.728953</td>\n",
        "      <td>  A B3</td>\n",
        "      <td>  67.0</td>\n",
        "    </tr>\n",
        "    <tr>\n",
        "      <th>D_Mg_Sn_Cu_Se</th>\n",
        "      <td> S_6_6_12_24</td>\n",
        "      <td>  89</td>\n",
        "      <td> 1.74</td>\n",
        "      <td>-0.569050</td>\n",
        "      <td>  A B3</td>\n",
        "      <td>  45.9</td>\n",
        "    </tr>\n",
        "    <tr>\n",
        "      <th>D_Sb_Cu_S</th>\n",
        "      <td>   S_6_18_24</td>\n",
        "      <td>  61</td>\n",
        "      <td> 1.74</td>\n",
        "      <td>-0.255930</td>\n",
        "      <td>  A B3</td>\n",
        "      <td> 393.4</td>\n",
        "    </tr>\n",
        "    <tr>\n",
        "      <th>D_Sb_Cu_Se</th>\n",
        "      <td>   S_6_18_24</td>\n",
        "      <td>  45</td>\n",
        "      <td> 2.92</td>\n",
        "      <td>-0.129859</td>\n",
        "      <td>  A B3</td>\n",
        "      <td> 338.9</td>\n",
        "    </tr>\n",
        "    <tr>\n",
        "      <th>D_Si_Cu_S</th>\n",
        "      <td>   S_8_16_24</td>\n",
        "      <td>  42</td>\n",
        "      <td> 5.82</td>\n",
        "      <td>-0.542753</td>\n",
        "      <td> A2 B2</td>\n",
        "      <td> 301.8</td>\n",
        "    </tr>\n",
        "    <tr>\n",
        "      <th>D_Si_Cu_Se</th>\n",
        "      <td>   S_8_16_24</td>\n",
        "      <td>  66</td>\n",
        "      <td> 3.14</td>\n",
        "      <td>-0.310430</td>\n",
        "      <td> A2 B2</td>\n",
        "      <td> 315.8</td>\n",
        "    </tr>\n",
        "    <tr>\n",
        "      <th>D_Si_Mg_Cu_S</th>\n",
        "      <td> S_6_6_12_24</td>\n",
        "      <td>  64</td>\n",
        "      <td> 3.94</td>\n",
        "      <td>-0.825015</td>\n",
        "      <td>  A B3</td>\n",
        "      <td> 169.5</td>\n",
        "    </tr>\n",
        "    <tr>\n",
        "      <th>D_Si_Mg_Cu_Se</th>\n",
        "      <td> S_6_6_12_24</td>\n",
        "      <td> 134</td>\n",
        "      <td> 3.31</td>\n",
        "      <td>-0.582041</td>\n",
        "      <td>  A B3</td>\n",
        "      <td> 109.1</td>\n",
        "    </tr>\n",
        "    <tr>\n",
        "      <th>D_Si_Zn_Cu_S</th>\n",
        "      <td> S_6_6_12_24</td>\n",
        "      <td> 123</td>\n",
        "      <td> 3.46</td>\n",
        "      <td>-0.663345</td>\n",
        "      <td>  A B3</td>\n",
        "      <td> 116.9</td>\n",
        "    </tr>\n",
        "    <tr>\n",
        "      <th>D_Si_Zn_Cu_Se</th>\n",
        "      <td> S_6_6_12_24</td>\n",
        "      <td>  96</td>\n",
        "      <td> 3.11</td>\n",
        "      <td>-0.444386</td>\n",
        "      <td>  A B3</td>\n",
        "      <td>  82.6</td>\n",
        "    </tr>\n",
        "    <tr>\n",
        "      <th>D_Sn_Cu_S</th>\n",
        "      <td>   S_8_16_24</td>\n",
        "      <td>  66</td>\n",
        "      <td> 2.34</td>\n",
        "      <td>-0.418571</td>\n",
        "      <td> A2 B2</td>\n",
        "      <td> 287.0</td>\n",
        "    </tr>\n",
        "    <tr>\n",
        "      <th>D_Sn_Cu_Se</th>\n",
        "      <td>   S_8_16_24</td>\n",
        "      <td>  68</td>\n",
        "      <td> 1.72</td>\n",
        "      <td>-0.290539</td>\n",
        "      <td> A2 B2</td>\n",
        "      <td> 254.2</td>\n",
        "    </tr>\n",
        "    <tr>\n",
        "      <th>D_Zn_Si_As</th>\n",
        "      <td>  S_12_12_24</td>\n",
        "      <td>  70</td>\n",
        "      <td> 3.15</td>\n",
        "      <td>-0.139362</td>\n",
        "      <td> A2 B2</td>\n",
        "      <td> 242.3</td>\n",
        "    </tr>\n",
        "    <tr>\n",
        "      <th>D_Zn_Si_N</th>\n",
        "      <td>  S_12_12_24</td>\n",
        "      <td>  68</td>\n",
        "      <td> 9.44</td>\n",
        "      <td>-0.720902</td>\n",
        "      <td> A2 B2</td>\n",
        "      <td> 663.6</td>\n",
        "    </tr>\n",
        "    <tr>\n",
        "      <th>D_Zn_Si_P</th>\n",
        "      <td>  S_12_12_24</td>\n",
        "      <td>  70</td>\n",
        "      <td> 4.24</td>\n",
        "      <td>-0.327033</td>\n",
        "      <td> A2 B2</td>\n",
        "      <td> 311.0</td>\n",
        "    </tr>\n",
        "    <tr>\n",
        "      <th>D_Zn_Sn_As</th>\n",
        "      <td>  S_12_12_24</td>\n",
        "      <td>  66</td>\n",
        "      <td> 0.99</td>\n",
        "      <td>-0.110881</td>\n",
        "      <td> A2 B2</td>\n",
        "      <td> 188.4</td>\n",
        "    </tr>\n",
        "    <tr>\n",
        "      <th>D_Zn_Sn_Cu_S</th>\n",
        "      <td> S_6_6_12_24</td>\n",
        "      <td> 194</td>\n",
        "      <td> 2.15</td>\n",
        "      <td>-0.569473</td>\n",
        "      <td>  A B3</td>\n",
        "      <td>  53.3</td>\n",
        "    </tr>\n",
        "    <tr>\n",
        "      <th>D_Zn_Sn_Cu_Se</th>\n",
        "      <td> S_6_6_12_24</td>\n",
        "      <td> 183</td>\n",
        "      <td> 1.48</td>\n",
        "      <td>-0.429539</td>\n",
        "      <td>  A B3</td>\n",
        "      <td>  47.9</td>\n",
        "    </tr>\n",
        "    <tr>\n",
        "      <th>D_Zn_Sn_N</th>\n",
        "      <td>  S_12_12_24</td>\n",
        "      <td>  67</td>\n",
        "      <td> 2.79</td>\n",
        "      <td> 0.040804</td>\n",
        "      <td> A2 B2</td>\n",
        "      <td> 338.3</td>\n",
        "    </tr>\n",
        "    <tr>\n",
        "      <th>D_Zn_Sn_P</th>\n",
        "      <td>  S_12_12_24</td>\n",
        "      <td>  70</td>\n",
        "      <td> 1.07</td>\n",
        "      <td>-0.186755</td>\n",
        "      <td> A2 B2</td>\n",
        "      <td> 242.2</td>\n",
        "    </tr>\n",
        "  </tbody>\n",
        "</table>\n",
        "</div>"
       ],
       "metadata": {},
       "output_type": "pyout",
       "prompt_number": 27,
       "text": [
        "              stochiometry  N data   mea     E_avg type decomp  dE decomp\n",
        "D_As_Cu_S        S_6_18_24      68  2.99 -0.201820        A B3      464.8\n",
        "D_As_Cu_Se       S_6_18_24      58  2.82 -0.071131        A B3      337.7\n",
        "D_Bi_Cu_S        S_6_18_24      67  4.03 -0.233673        A B3      165.3\n",
        "D_Bi_Cu_Se       S_6_18_24      56  3.49 -0.121372        A B3      171.0\n",
        "D_Cu_In_S       S_12_12_24      70  1.82 -0.655658       A2 B2      302.6\n",
        "D_Cu_In_Se      S_12_12_24      68  1.55 -0.525565       A2 B2      255.9\n",
        "D_Ga_Cu_S       S_12_12_24      70  7.92 -0.794579       A2 B2      319.7\n",
        "D_Ga_Cu_Se      S_12_12_24      69  1.37 -0.616627       A2 B2      282.2\n",
        "D_Mg_Sn_Cu_S   S_6_6_12_24      95  2.04 -0.728953        A B3       67.0\n",
        "D_Mg_Sn_Cu_Se  S_6_6_12_24      89  1.74 -0.569050        A B3       45.9\n",
        "D_Sb_Cu_S        S_6_18_24      61  1.74 -0.255930        A B3      393.4\n",
        "D_Sb_Cu_Se       S_6_18_24      45  2.92 -0.129859        A B3      338.9\n",
        "D_Si_Cu_S        S_8_16_24      42  5.82 -0.542753       A2 B2      301.8\n",
        "D_Si_Cu_Se       S_8_16_24      66  3.14 -0.310430       A2 B2      315.8\n",
        "D_Si_Mg_Cu_S   S_6_6_12_24      64  3.94 -0.825015        A B3      169.5\n",
        "D_Si_Mg_Cu_Se  S_6_6_12_24     134  3.31 -0.582041        A B3      109.1\n",
        "D_Si_Zn_Cu_S   S_6_6_12_24     123  3.46 -0.663345        A B3      116.9\n",
        "D_Si_Zn_Cu_Se  S_6_6_12_24      96  3.11 -0.444386        A B3       82.6\n",
        "D_Sn_Cu_S        S_8_16_24      66  2.34 -0.418571       A2 B2      287.0\n",
        "D_Sn_Cu_Se       S_8_16_24      68  1.72 -0.290539       A2 B2      254.2\n",
        "D_Zn_Si_As      S_12_12_24      70  3.15 -0.139362       A2 B2      242.3\n",
        "D_Zn_Si_N       S_12_12_24      68  9.44 -0.720902       A2 B2      663.6\n",
        "D_Zn_Si_P       S_12_12_24      70  4.24 -0.327033       A2 B2      311.0\n",
        "D_Zn_Sn_As      S_12_12_24      66  0.99 -0.110881       A2 B2      188.4\n",
        "D_Zn_Sn_Cu_S   S_6_6_12_24     194  2.15 -0.569473        A B3       53.3\n",
        "D_Zn_Sn_Cu_Se  S_6_6_12_24     183  1.48 -0.429539        A B3       47.9\n",
        "D_Zn_Sn_N       S_12_12_24      67  2.79  0.040804       A2 B2      338.3\n",
        "D_Zn_Sn_P       S_12_12_24      70  1.07 -0.186755       A2 B2      242.2"
       ]
      }
     ],
     "prompt_number": 27
    },
    {
     "cell_type": "code",
     "collapsed": false,
     "input": [
      "df.to_csv('data_p100_8/df_dh.csv')"
     ],
     "language": "python",
     "metadata": {},
     "outputs": [],
     "prompt_number": 17
    },
    {
     "cell_type": "code",
     "collapsed": false,
     "input": [
      "motifs\n"
     ],
     "language": "python",
     "metadata": {},
     "outputs": [
      {
       "metadata": {},
       "output_type": "pyout",
       "prompt_number": 22,
       "text": [
        "['C4',\n",
        " 'B C3',\n",
        " 'B2 C2',\n",
        " 'B3 C',\n",
        " 'B4',\n",
        " 'A C3',\n",
        " 'A B C2',\n",
        " 'A B2 C',\n",
        " 'A B3',\n",
        " 'A2 C2',\n",
        " 'A2 B C',\n",
        " 'A2 B2',\n",
        " 'A3 C',\n",
        " 'A3 B',\n",
        " 'A4']"
       ]
      }
     ],
     "prompt_number": 22
    },
    {
     "cell_type": "code",
     "collapsed": false,
     "input": [
      "dat = {}\n",
      "for motif, h  in zip(motifs,data['D_Si_Mg_Cu_S'][1]):\n",
      "    dat[motif]= h"
     ],
     "language": "python",
     "metadata": {},
     "outputs": [],
     "prompt_number": 36
    },
    {
     "cell_type": "code",
     "collapsed": false,
     "input": [
      "2000*(2*dat['A B C2'] - dat['A B2 C'] - dat['A C3'])\n"
     ],
     "language": "python",
     "metadata": {},
     "outputs": [
      {
       "metadata": {},
       "output_type": "pyout",
       "prompt_number": 33,
       "text": [
        "-109.11099412971481"
       ]
      }
     ],
     "prompt_number": 33
    },
    {
     "cell_type": "code",
     "collapsed": false,
     "input": [
      "2000*(2*dat['A B2 C'] - dat['A B2 C'] - dat['A C3'])\n"
     ],
     "language": "python",
     "metadata": {},
     "outputs": [
      {
       "metadata": {},
       "output_type": "pyout",
       "prompt_number": 31,
       "text": [
        "-29280.610549997684"
       ]
      }
     ],
     "prompt_number": 31
    },
    {
     "cell_type": "code",
     "collapsed": false,
     "input": [
      "2000*(2*dat['A B C2'] - 0.5*dat['B4'] - dat['A C3'] - 0.5*dat['A2 C2'])"
     ],
     "language": "python",
     "metadata": {},
     "outputs": [
      {
       "metadata": {},
       "output_type": "pyout",
       "prompt_number": 37,
       "text": [
        "61106.034973844588"
       ]
      }
     ],
     "prompt_number": 37
    }
   ],
   "metadata": {}
  }
 ]
}