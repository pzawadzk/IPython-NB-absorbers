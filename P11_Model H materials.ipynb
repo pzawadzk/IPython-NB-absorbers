{
 "metadata": {
  "name": "",
  "signature": "sha256:edf19701b32574b11c342ef9f9594962b1b7a98ee63b0d7e38c7850f8d29d687"
 },
 "nbformat": 3,
 "nbformat_minor": 0,
 "worksheets": [
  {
   "cells": [
    {
     "cell_type": "markdown",
     "metadata": {},
     "source": [
      "# Linear Regresion: Model Hamilonian\n"
     ]
    },
    {
     "cell_type": "code",
     "collapsed": false,
     "input": [
      "import os\n",
      "os.chdir('P11')"
     ],
     "language": "python",
     "metadata": {},
     "outputs": [],
     "prompt_number": 3
    },
    {
     "cell_type": "code",
     "collapsed": false,
     "input": [
      "import numpy as np\n",
      "\n",
      "import sys\n",
      "import pandas as pd\n",
      "from tools import *\n",
      "from sklearn import cross_validation\n",
      "\n",
      "%pylab inline\n",
      "dir0  = os.getcwd()"
     ],
     "language": "python",
     "metadata": {},
     "outputs": [
      {
       "output_type": "stream",
       "stream": "stdout",
       "text": [
        "Populating the interactive namespace from numpy and matplotlib\n"
       ]
      },
      {
       "output_type": "stream",
       "stream": "stderr",
       "text": [
        "WARNING: pylab import has clobbered these variables: ['f']\n",
        "`%matplotlib` prevents importing * from pylab and numpy\n"
       ]
      }
     ],
     "prompt_number": 59
    },
    {
     "cell_type": "code",
     "collapsed": false,
     "input": [
      "materials = {'D_Cu_In_Se': ['S_12_12_24'],\n",
      "             'D_Ga_Cu_Se': ['S_12_12_24'],\n",
      "             'D_Cu_In_S': ['S_12_12_24'],\n",
      "             'D_Ga_Cu_S': ['S_12_12_24'],\n",
      "             \n",
      "             'D_Sb_Cu_S' : ['S_6_18_24'],\n",
      "             'D_Sb_Cu_Se': ['S_6_18_24'],\n",
      "             'D_Bi_Cu_S' : ['S_6_18_24'],    \n",
      "             'D_Bi_Cu_Se' : ['S_6_18_24'],\n",
      "             'D_As_Cu_S': ['S_6_18_24'],\n",
      "             'D_As_Cu_Se' : ['S_6_18_24'], \n",
      "             \n",
      "             'D_Si_Cu_S': ['S_8_16_24'],\n",
      "             'D_Sn_Cu_S': ['S_8_16_24'],                          \n",
      "             'D_Si_Cu_Se': ['S_8_16_24'],\n",
      "             'D_Sn_Cu_Se': ['S_8_16_24'],\n",
      "             \n",
      "             'D_Zn_Sn_As': ['S_12_12_24'],\n",
      "             #'X_Zn_Sn_As': ['S_12_12_24'],\n",
      "             'D_Zn_Sn_P': ['S_12_12_24'],\n",
      "             'D_Zn_Sn_N': ['S_12_12_24'],\n",
      "              'W_Zn_Sn_N': ['S_16_16_32'],\n",
      "             'D_Zn_Si_As': ['S_12_12_24'],\n",
      "             'D_Zn_Si_P': ['S_12_12_24'],\n",
      "             'D_Zn_Si_N': ['S_12_12_24'],\n",
      "             \n",
      "            'D_Mg_Sn_Cu_S': ['S_6_6_12_24'],\n",
      "             'D_Mg_Sn_Cu_Se': ['S_6_6_12_24'],\n",
      "             \n",
      "              'D_Si_Mg_Cu_S': ['S_6_6_12_24'],\n",
      "             'D_Si_Mg_Cu_Se': ['S_6_6_12_24'],   \n",
      "             \n",
      "              'D_Si_Zn_Cu_S': ['S_6_6_12_24'],\n",
      "             'D_Si_Zn_Cu_Se': ['S_6_6_12_24'],   \n",
      "             \n",
      "             'D_Zn_Sn_Cu_S': ['S_6_6_12_24'],\n",
      "             'D_Zn_Sn_Cu_Se': ['S_6_6_12_24'],             \n",
      "\n",
      "             }"
     ],
     "language": "python",
     "metadata": {},
     "outputs": [],
     "prompt_number": 78
    },
    {
     "cell_type": "code",
     "collapsed": false,
     "input": [
      "materials = {\n",
      "             'D_Zn_Sn_N': ['S_12_12_24'],\n",
      "              'W_Zn_Sn_N': ['S_16_16_32'],\n",
      "                  \n",
      "\n",
      "             }"
     ],
     "language": "python",
     "metadata": {},
     "outputs": [],
     "prompt_number": 109
    },
    {
     "cell_type": "code",
     "collapsed": false,
     "input": [
      "materials_GS = {'D_Cu_In_Se': -3.427,\n",
      "             'D_Ga_Cu_Se': -3.543,\n",
      "             'D_Cu_In_S': -3.793,\n",
      "             'D_Ga_Cu_S': -3.962,\n",
      "             \n",
      "             'D_Sb_Cu_S' : -3.622,\n",
      "             'D_Sb_Cu_Se': -3.254,\n",
      "             'D_Bi_Cu_S' : np.nan,    \n",
      "             'D_Bi_Cu_Se' : np.nan,\n",
      "             'D_As_Cu_S': -3.659,\n",
      "             'D_As_Cu_Se' : -3.282, \n",
      "             \n",
      "             'D_Si_Cu_S': -4.159,\n",
      "             'D_Sn_Cu_S': -3.795 ,                          \n",
      "             'D_Si_Cu_Se': -3.679 ,\n",
      "             'D_Sn_Cu_Se': -3.423 ,\n",
      "             \n",
      "             'D_Zn_Sn_As': -3.834,\n",
      "             #'X_Zn_Sn_As': ['S_12_12_24'],\n",
      "             'D_Zn_Sn_P': -4.215,\n",
      "             'D_Zn_Sn_N': -5.452,\n",
      "             'W_Zn_Sn_N': -5.452,#?\n",
      "             \n",
      "             'D_Zn_Si_As': -4.195,\n",
      "             'D_Zn_Si_P': -4.690 ,\n",
      "             'D_Zn_Si_N': -6.623,\n",
      "             \n",
      "            'D_Mg_Sn_Cu_S': np.nan,\n",
      "             'D_Mg_Sn_Cu_Se': np.nan,\n",
      "             \n",
      "              'D_Si_Mg_Cu_S': np.nan,\n",
      "             'D_Si_Mg_Cu_Se': np.nan,   \n",
      "             \n",
      "              'D_Si_Zn_Cu_S': -4.014,\n",
      "             'D_Si_Zn_Cu_Se': np.nan,   \n",
      "             \n",
      "             'D_Zn_Sn_Cu_S': -3.738,\n",
      "             'D_Zn_Sn_Cu_Se': -3.355,             \n",
      "\n",
      "             }"
     ],
     "language": "python",
     "metadata": {},
     "outputs": [],
     "prompt_number": 110
    },
    {
     "cell_type": "code",
     "collapsed": false,
     "input": [
      "df = pd.DataFrame(materials).T\n",
      "df.columns = [ 'stochiometry']"
     ],
     "language": "python",
     "metadata": {},
     "outputs": [],
     "prompt_number": 111
    },
    {
     "cell_type": "code",
     "collapsed": false,
     "input": [
      "motifs =[  'C4', 'B C3', 'B2 C2', 'B3 C', 'B4', 'A C3', 'A B C2', 'A B2 C', 'A B3', 'A2 C2', 'A2 B C', 'A2 B2', 'A3 C', 'A3 B', 'A4']\n",
      "\n",
      "df['N data'] = np.nan\n",
      "df['mea'] = np.nan\n",
      "df['E_avg'] = np.nan\n",
      "df['type decomp'] = ''\n",
      "df['dE decomp'] = np.nan\n",
      " "
     ],
     "language": "python",
     "metadata": {},
     "outputs": [],
     "prompt_number": 112
    },
    {
     "cell_type": "code",
     "collapsed": false,
     "input": [
      "motifs.index('A4')"
     ],
     "language": "python",
     "metadata": {},
     "outputs": [
      {
       "metadata": {},
       "output_type": "pyout",
       "prompt_number": 113,
       "text": [
        "14"
       ]
      }
     ],
     "prompt_number": 113
    },
    {
     "cell_type": "code",
     "collapsed": false,
     "input": [
      "dir_0 = '/scratch/pzawadzk/DISORDER/tb_sc_disorder'"
     ],
     "language": "python",
     "metadata": {},
     "outputs": [],
     "prompt_number": 114
    },
    {
     "cell_type": "code",
     "collapsed": false,
     "input": [
      "H_file = os.path.join( 'H_materials.pckl')"
     ],
     "language": "python",
     "metadata": {},
     "outputs": [],
     "prompt_number": 115
    },
    {
     "cell_type": "code",
     "collapsed": false,
     "input": [
      "def get_mea(x, E, dh):\n",
      "    count = 0\n",
      "    dE_mea = 0\n",
      "    \n",
      "    for i, xi in enumerate(x):\n",
      "        count += 1\n",
      "        dE = np.abs(np.dot(dh, xi)-E[i])\n",
      "        #print dE\n",
      "        dE_mea += dE\n",
      "    return dE_mea / count\n",
      "    "
     ],
     "language": "python",
     "metadata": {},
     "outputs": [],
     "prompt_number": 116
    },
    {
     "cell_type": "code",
     "collapsed": false,
     "input": [
      "def get_fit_param(dir_0, material, stochiom, p0 = None, indexes = None):\n",
      "    dirs = [os.path.join(dir_0, material, s) for s in stochiom]\n",
      "    \n",
      "\n",
      "    atoms = material.split('_')\n",
      "    \n",
      "    x, E = extract_motifs(dirs, atoms[-1], atoms[1:-1]);\n",
      "    \n",
      "    x = np.array(x)\n",
      "    E = np.array(E)\n",
      "\n",
      "    N = len(x)\n",
      "    Niter = 10\n",
      "    bs = cross_validation.ShuffleSplit (N, n_iter=Niter, random_state=20, train_size=0.80)\n",
      "    \n",
      "    error = []\n",
      "    for train_index, test_index in bs:\n",
      "\n",
      "        x_train, x_test = x[train_index], x[test_index]\n",
      "        E_train, E_test = E[train_index], E[test_index]\n",
      "        pl, Efit = fit_motifs(x_train, E_train, p0, indexes)\n",
      "        \n",
      "        e = get_mea(x_train, E_train, pl) *1000\n",
      "        et = get_mea(x_test, E_test, pl) *1000\n",
      "        error.append(et)\n",
      "    \n",
      "    #print 'CV', error\n",
      "    out_of_sample_err = np.mean(error)\n",
      "    pl_coarse, Efit = fit_motifs(x,E, p0, indexes)\n",
      "\n",
      "    return x, E, Efit, pl_coarse, out_of_sample_err, N"
     ],
     "language": "python",
     "metadata": {},
     "outputs": [],
     "prompt_number": 117
    },
    {
     "cell_type": "code",
     "collapsed": false,
     "input": [
      "def get_decomp_en(materials, key, pl):\n",
      "    dhs = print_stable_motifs(pl)\n",
      "\n",
      "    if materials[key] == ['S_12_12_24'] or materials[key] == ['S_16_16_32']:\n",
      "        return 'A2 B2', min(dhs['2_2_0']), [8,]\n",
      "    elif materials[key] == ['S_6_18_24']:\n",
      "        return 'A B3', min(dhs['1_3_0']), [4,]\n",
      "    elif materials[key] == ['S_6_6_12_24']:\n",
      "        return 'A B3', min(dhs['1_1_2']), [4,]\n",
      "    elif materials[key] == ['S_8_16_24']:\n",
      "        if   dhs['1_3_0'] < dhs['2_2_0']:\n",
      "            return 'A B3', min(dhs['1_3_0']), [4,]\n",
      "        else:\n",
      "             return 'A2 B2', min(dhs['2_2_0']), [8,]\n"
     ],
     "language": "python",
     "metadata": {},
     "outputs": [],
     "prompt_number": 118
    },
    {
     "cell_type": "code",
     "collapsed": false,
     "input": [
      "def plot_fig(E, Efit, out_of_sample_err):\n",
      "    figure()\n",
      "    \n",
      "    plot([-0.5,0.5], [-0.5,0.5], '-k')\n",
      "    plot(E, Efit, 'x', label = 'CV MAE = %.1f meV'%out_of_sample_err )\n",
      "    ax = gca()\n",
      "    ax.axis(xmin=-0., xmax=0.2, ymin=-0., ymax=0.2)\n",
      "    ax.set_ylabel('$\\Delta H_f$ [eV]')\n",
      "    ax.set_xlabel('$\\Delta H_f^\\mathrm{MOTIF}(\\mathbf{n})$ (eV)')\n",
      "    legend()"
     ],
     "language": "python",
     "metadata": {},
     "outputs": [],
     "prompt_number": 142
    },
    {
     "cell_type": "markdown",
     "metadata": {},
     "source": [
      "\n",
      "4 B4\n",
      "8 A B3\n",
      "11 A2 B2\n",
      "13 A3 B\n",
      "14 A4"
     ]
    },
    {
     "cell_type": "code",
     "collapsed": false,
     "input": [
      "data = {}\n",
      "plot_figure = True\n",
      "for key in materials.keys():\n",
      "    print '#####', key\n",
      "    try:\n",
      "        x, E, Efit, pl_rand, out_of_sample_err, N = get_fit_param(dir_0, key, materials[key])\n",
      "        if plot_figure:\n",
      "            plot_fig(E, Efit,out_of_sample_err)\n",
      "        print pl_rand\n",
      "        data[key]= [materials[key][0], pl_rand, out_of_sample_err, Efit, x, E,  N]\n",
      "        \n",
      "        df['N data'][key] = N\n",
      "        df['E_avg'][key] = np.mean(E)\n",
      "        df['mea'][key] = '%.2f'%out_of_sample_err\n",
      "        name, val, indexes = get_decomp_en(materials, key, pl_rand)\n",
      "        df['type decomp'][key] = name\n",
      "        df['dE decomp'][key] = '%.1f'%val\n",
      "    except:\n",
      "        print 'ERROR:', key\n"
     ],
     "language": "python",
     "metadata": {},
     "outputs": [
      {
       "output_type": "stream",
       "stream": "stdout",
       "text": [
        "##### W_Zn_Sn_N\n",
        "[ -5.00000000e-01  -5.00000000e-01  -5.00000000e-01  -5.00000000e-01\n",
        "   1.79448956e+02  -5.00000000e-01  -5.00000000e-01  -5.00000000e-01\n",
        "   8.95581523e+01  -5.00000000e-01  -5.00000000e-01  -4.09098904e-02\n",
        "  -5.00000000e-01  -8.94406975e+01  -1.78496238e+02]"
       ]
      },
      {
       "output_type": "stream",
       "stream": "stdout",
       "text": [
        "\n",
        "##### D_Zn_Sn_N\n",
        "[ -5.00000000e-01  -5.00000000e-01  -5.00000000e-01  -5.00000000e-01\n",
        "  -3.91524752e+02  -5.00000000e-01  -5.00000000e-01  -5.00000000e-01\n",
        "  -1.95850943e+02  -5.00000000e-01  -5.00000000e-01  -3.56745762e-02\n",
        "  -5.00000000e-01   1.95948768e+02   3.92191018e+02]"
       ]
      },
      {
       "output_type": "stream",
       "stream": "stdout",
       "text": [
        "\n"
       ]
      },
      {
       "metadata": {},
       "output_type": "display_data",
       "png": "[encoded data removed]",
       "text": [
        "<matplotlib.figure.Figure at 0x42979d0>"
       ]
      },
      {
       "metadata": {},
       "output_type": "display_data",
       "png": "[encoded data removed]",
       "text": [
        "<matplotlib.figure.Figure at 0x4297850>"
       ]
      }
     ],
     "prompt_number": 143
    },
    {
     "cell_type": "code",
     "collapsed": false,
     "input": [
      "df.sort_index(by=['dE decomp', 'E_avg'])"
     ],
     "language": "python",
     "metadata": {},
     "outputs": [
      {
       "html": [
        "<div style=\"max-height:1000px;max-width:1500px;overflow:auto;\">\n",
        "<table border=\"1\" class=\"dataframe\">\n",
        "  <thead>\n",
        "    <tr style=\"text-align: right;\">\n",
        "      <th></th>\n",
        "      <th>stochiometry</th>\n",
        "      <th>N data</th>\n",
        "      <th>mea</th>\n",
        "      <th>E_avg</th>\n",
        "      <th>type decomp</th>\n",
        "      <th>dE decomp</th>\n",
        "    </tr>\n",
        "  </thead>\n",
        "  <tbody>\n",
        "    <tr>\n",
        "      <th>D_Zn_Sn_N</th>\n",
        "      <td> S_12_12_24</td>\n",
        "      <td> 67</td>\n",
        "      <td> 2.79</td>\n",
        "      <td> 0.040804</td>\n",
        "      <td> A2 B2</td>\n",
        "      <td> 338.3</td>\n",
        "    </tr>\n",
        "    <tr>\n",
        "      <th>W_Zn_Sn_N</th>\n",
        "      <td> S_16_16_32</td>\n",
        "      <td> 50</td>\n",
        "      <td> 7.55</td>\n",
        "      <td> 0.064653</td>\n",
        "      <td> A2 B2</td>\n",
        "      <td> 398.5</td>\n",
        "    </tr>\n",
        "  </tbody>\n",
        "</table>\n",
        "<p>2 rows \u00d7 6 columns</p>\n",
        "</div>"
       ],
       "metadata": {},
       "output_type": "pyout",
       "prompt_number": 120,
       "text": [
        "          stochiometry  N data   mea     E_avg type decomp  dE decomp\n",
        "D_Zn_Sn_N   S_12_12_24      67  2.79  0.040804       A2 B2      338.3\n",
        "W_Zn_Sn_N   S_16_16_32      50  7.55  0.064653       A2 B2      398.5\n",
        "\n",
        "[2 rows x 6 columns]"
       ]
      }
     ],
     "prompt_number": 120
    },
    {
     "cell_type": "code",
     "collapsed": false,
     "input": [
      "df.loc[['W_Zn_Sn_N']]"
     ],
     "language": "python",
     "metadata": {},
     "outputs": [
      {
       "html": [
        "<div style=\"max-height:1000px;max-width:1500px;overflow:auto;\">\n",
        "<table border=\"1\" class=\"dataframe\">\n",
        "  <thead>\n",
        "    <tr style=\"text-align: right;\">\n",
        "      <th></th>\n",
        "      <th>stochiometry</th>\n",
        "      <th>N data</th>\n",
        "      <th>mea</th>\n",
        "      <th>E_avg</th>\n",
        "      <th>type decomp</th>\n",
        "      <th>dE decomp</th>\n",
        "    </tr>\n",
        "  </thead>\n",
        "  <tbody>\n",
        "    <tr>\n",
        "      <th>W_Zn_Sn_N</th>\n",
        "      <td> S_16_16_32</td>\n",
        "      <td> 50</td>\n",
        "      <td> 7.55</td>\n",
        "      <td> 0.064653</td>\n",
        "      <td> A2 B2</td>\n",
        "      <td> 398.5</td>\n",
        "    </tr>\n",
        "  </tbody>\n",
        "</table>\n",
        "<p>1 rows \u00d7 6 columns</p>\n",
        "</div>"
       ],
       "metadata": {},
       "output_type": "pyout",
       "prompt_number": 144,
       "text": [
        "          stochiometry  N data   mea     E_avg type decomp  dE decomp\n",
        "W_Zn_Sn_N   S_16_16_32      50  7.55  0.064653       A2 B2      398.5\n",
        "\n",
        "[1 rows x 6 columns]"
       ]
      }
     ],
     "prompt_number": 144
    },
    {
     "cell_type": "code",
     "collapsed": false,
     "input": [
      "f = open(H_file, 'w')\n",
      "pickle.dump(data, f)\n",
      "f.close()"
     ],
     "language": "python",
     "metadata": {},
     "outputs": [],
     "prompt_number": 122
    },
    {
     "cell_type": "code",
     "collapsed": false,
     "input": [
      "df"
     ],
     "language": "python",
     "metadata": {},
     "outputs": [
      {
       "html": [
        "<div style=\"max-height:1000px;max-width:1500px;overflow:auto;\">\n",
        "<table border=\"1\" class=\"dataframe\">\n",
        "  <thead>\n",
        "    <tr style=\"text-align: right;\">\n",
        "      <th></th>\n",
        "      <th>stochiometry</th>\n",
        "      <th>N data</th>\n",
        "      <th>mea</th>\n",
        "      <th>E_avg</th>\n",
        "      <th>type decomp</th>\n",
        "      <th>dE decomp</th>\n",
        "    </tr>\n",
        "  </thead>\n",
        "  <tbody>\n",
        "    <tr>\n",
        "      <th>D_Zn_Sn_N</th>\n",
        "      <td> S_12_12_24</td>\n",
        "      <td> 67</td>\n",
        "      <td> 2.79</td>\n",
        "      <td> 0.040804</td>\n",
        "      <td> A2 B2</td>\n",
        "      <td> 338.3</td>\n",
        "    </tr>\n",
        "    <tr>\n",
        "      <th>W_Zn_Sn_N</th>\n",
        "      <td> S_16_16_32</td>\n",
        "      <td> 50</td>\n",
        "      <td> 7.55</td>\n",
        "      <td> 0.064653</td>\n",
        "      <td> A2 B2</td>\n",
        "      <td> 398.5</td>\n",
        "    </tr>\n",
        "  </tbody>\n",
        "</table>\n",
        "<p>2 rows \u00d7 6 columns</p>\n",
        "</div>"
       ],
       "metadata": {},
       "output_type": "pyout",
       "prompt_number": 123,
       "text": [
        "          stochiometry  N data   mea     E_avg type decomp  dE decomp\n",
        "D_Zn_Sn_N   S_12_12_24      67  2.79  0.040804       A2 B2      338.3\n",
        "W_Zn_Sn_N   S_16_16_32      50  7.55  0.064653       A2 B2      398.5\n",
        "\n",
        "[2 rows x 6 columns]"
       ]
      }
     ],
     "prompt_number": 123
    },
    {
     "cell_type": "code",
     "collapsed": false,
     "input": [
      "df.to_csv('df_dh.csv')"
     ],
     "language": "python",
     "metadata": {},
     "outputs": [],
     "prompt_number": 92
    },
    {
     "cell_type": "code",
     "collapsed": false,
     "input": [
      "motifs\n"
     ],
     "language": "python",
     "metadata": {},
     "outputs": [
      {
       "metadata": {},
       "output_type": "pyout",
       "prompt_number": 93,
       "text": [
        "['C4',\n",
        " 'B C3',\n",
        " 'B2 C2',\n",
        " 'B3 C',\n",
        " 'B4',\n",
        " 'A C3',\n",
        " 'A B C2',\n",
        " 'A B2 C',\n",
        " 'A B3',\n",
        " 'A2 C2',\n",
        " 'A2 B C',\n",
        " 'A2 B2',\n",
        " 'A3 C',\n",
        " 'A3 B',\n",
        " 'A4']"
       ]
      }
     ],
     "prompt_number": 93
    },
    {
     "cell_type": "code",
     "collapsed": false,
     "input": [
      "dat = {}\n",
      "for motif, h  in zip(motifs,data['D_Si_Mg_Cu_S'][1]):\n",
      "    dat[motif]= h"
     ],
     "language": "python",
     "metadata": {},
     "outputs": [],
     "prompt_number": 94
    },
    {
     "cell_type": "code",
     "collapsed": false,
     "input": [
      "2000*(2*dat['A B C2'] - dat['A B2 C'] - dat['A C3'])\n"
     ],
     "language": "python",
     "metadata": {},
     "outputs": [
      {
       "metadata": {},
       "output_type": "pyout",
       "prompt_number": 95,
       "text": [
        "-169.52817600521541"
       ]
      }
     ],
     "prompt_number": 95
    },
    {
     "cell_type": "code",
     "collapsed": false,
     "input": [
      "2000*(2*dat['A B2 C'] - dat['A B2 C'] - dat['A C3'])\n"
     ],
     "language": "python",
     "metadata": {},
     "outputs": [
      {
       "metadata": {},
       "output_type": "pyout",
       "prompt_number": 96,
       "text": [
        "-29280.610549997684"
       ]
      }
     ],
     "prompt_number": 96
    },
    {
     "cell_type": "code",
     "collapsed": false,
     "input": [
      "2000*(2*dat['A B C2'] - 0.5*dat['B4'] - dat['A C3'] - 0.5*dat['A2 C2'])"
     ],
     "language": "python",
     "metadata": {},
     "outputs": [
      {
       "metadata": {},
       "output_type": "pyout",
       "prompt_number": 97,
       "text": [
        "61106.034973844588"
       ]
      }
     ],
     "prompt_number": 97
    },
    {
     "cell_type": "code",
     "collapsed": false,
     "input": [],
     "language": "python",
     "metadata": {},
     "outputs": [],
     "prompt_number": 97
    },
    {
     "cell_type": "code",
     "collapsed": false,
     "input": [],
     "language": "python",
     "metadata": {},
     "outputs": [],
     "prompt_number": 40
    },
    {
     "cell_type": "code",
     "collapsed": false,
     "input": [],
     "language": "python",
     "metadata": {},
     "outputs": []
    }
   ],
   "metadata": {}
  }
 ]
}