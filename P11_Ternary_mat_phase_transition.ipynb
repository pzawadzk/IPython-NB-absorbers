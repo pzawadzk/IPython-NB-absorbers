{
 "metadata": {
  "name": "",
  "signature": "sha256:d8d1b31b7e8481099e81193a9fc8d778ab93d04548888452d794239e6a3fe6b3"
 },
 "nbformat": 3,
 "nbformat_minor": 0,
 "worksheets": [
  {
   "cells": [
    {
     "cell_type": "markdown",
     "metadata": {},
     "source": [
      "#Order-disroder phase transtion for ternary materials\n"
     ]
    },
    {
     "cell_type": "code",
     "collapsed": false,
     "input": [
      "import os\n",
      "os.chdir('P11')"
     ],
     "language": "python",
     "metadata": {},
     "outputs": [],
     "prompt_number": 1
    },
    {
     "cell_type": "code",
     "collapsed": false,
     "input": [
      "\n",
      "import numpy as np\n",
      "import pickle\n",
      "from pylada.vasp import Extract\n",
      "%pylab inline\n",
      "import glob\n",
      "import pandas as pd"
     ],
     "language": "python",
     "metadata": {},
     "outputs": [
      {
       "output_type": "stream",
       "stream": "stdout",
       "text": [
        "Populating the interactive namespace from numpy and matplotlib\n"
       ]
      }
     ],
     "prompt_number": 2
    },
    {
     "cell_type": "code",
     "collapsed": false,
     "input": [
      "Tc_file = 'T_c.pckl'"
     ],
     "language": "python",
     "metadata": {},
     "outputs": [],
     "prompt_number": 4
    },
    {
     "cell_type": "code",
     "collapsed": false,
     "input": [
      "def get_data_2(dir, frac=0.5, seeds= [1,]):\n",
      "    print dir\n",
      "    data_avg = []\n",
      "    T = []\n",
      "    for seed in seeds:\n",
      "        data_dict ={}\n",
      "        data_list = []\n",
      "        path = glob.glob('%s/*seed_%d*/*.dat'%(dir, seed))[0]\n",
      "        print path\n",
      "        data = np.loadtxt(path)\n",
      "        for el in data:\n",
      "            if el[-1] not in T: T.append(el[-1])\n",
      "            if el[-1] not in data_dict.keys(): data_dict[el[-1]]=[]\n",
      "            data_dict[el[-1]].append(el[1:16])\n",
      "\n",
      "        for t in T:\n",
      "            slice_dat = data_dict[t]\n",
      "            N = len(slice_dat)\n",
      "            data_list.append(np.mean(slice_dat[N//2:], axis=0))\n",
      "        data_list = np.array(data_list)/np.sum(data_list[0])\n",
      "        data_avg.append(data_list)\n",
      "    data_avg = np.mean(np.array(data_avg), axis=0)\n",
      "    return T, data_avg\n",
      "    \n",
      "\n",
      "def movingaverage(interval, N):\n",
      "    avg = np.convolve(interval, np.ones((N,))/N)[(N-1):]\n",
      "    return avg"
     ],
     "language": "python",
     "metadata": {},
     "outputs": [],
     "prompt_number": 5
    },
    {
     "cell_type": "code",
     "collapsed": false,
     "input": [
      "materials_to_run = [u'D_Mg_Sn_Cu_Se', u'D_Zn_Sn_Cu_Se', u'D_Zn_Sn_Cu_S', u'D_Mg_Sn_Cu_S', u'D_Si_Zn_Cu_Se', u'D_Si_Mg_Cu_Se', u'D_Si_Zn_Cu_S', u'D_Bi_Cu_S', u'D_Si_Mg_Cu_S', u'D_Bi_Cu_Se', u'D_Zn_Sn_As', u'D_Zn_Sn_P', u'D_Zn_Si_As', u'D_Sn_Cu_Se', u'D_Cu_In_Se', u'D_Ga_Cu_Se', u'D_Sn_Cu_S', u'D_Si_Cu_S', u'D_Cu_In_S', u'D_Zn_Si_P', u'D_Si_Cu_Se', u'D_Ga_Cu_S', u'D_As_Cu_Se', u'D_Zn_Sn_N', u'W_Zn_Sn_N']"
     ],
     "language": "python",
     "metadata": {},
     "outputs": [],
     "prompt_number": 9
    },
    {
     "cell_type": "code",
     "collapsed": false,
     "input": [
      "materials_to_run = [u'W_Zn_Sn_N']"
     ],
     "language": "python",
     "metadata": {},
     "outputs": [],
     "prompt_number": 11
    },
    {
     "cell_type": "code",
     "collapsed": false,
     "input": [
      "data_mat = {}\n",
      "for mat in materials_to_run:\n",
      "    if 1: #try:\n",
      "        T, data_avg = get_data_2('/scratch/pzawadzk/DISORDER/tb_sc_disorder/MC/%s/'%mat, seeds=[1,2,3, 4,5,6,7,9])\n",
      "        data_mat[mat] = data_avg\n",
      "   # except:\n",
      "    #    print mat"
     ],
     "language": "python",
     "metadata": {},
     "outputs": [
      {
       "output_type": "stream",
       "stream": "stdout",
       "text": [
        "/scratch/pzawadzk/DISORDER/tb_sc_disorder/MC/W_Zn_Sn_N/\n",
        "/scratch/pzawadzk/DISORDER/tb_sc_disorder/MC/W_Zn_Sn_N/D_32_32_0_64_T_-200.0_seed_17/mc_N_Zn_Sn_O_.dat"
       ]
      },
      {
       "output_type": "stream",
       "stream": "stdout",
       "text": [
        "\n",
        "/scratch/pzawadzk/DISORDER/tb_sc_disorder/MC/W_Zn_Sn_N/D_32_32_0_64_T_-200.0_seed_22/mc_N_Zn_Sn_O_.dat"
       ]
      },
      {
       "output_type": "stream",
       "stream": "stdout",
       "text": [
        "\n",
        "/scratch/pzawadzk/DISORDER/tb_sc_disorder/MC/W_Zn_Sn_N/D_32_32_0_64_T_-200.0_seed_3/mc_N_Zn_Sn_O_.dat"
       ]
      },
      {
       "output_type": "stream",
       "stream": "stdout",
       "text": [
        "\n",
        "/scratch/pzawadzk/DISORDER/tb_sc_disorder/MC/W_Zn_Sn_N/D_32_32_0_64_T_-200.0_seed_4/mc_N_Zn_Sn_O_.dat"
       ]
      },
      {
       "output_type": "stream",
       "stream": "stdout",
       "text": [
        "\n",
        "/scratch/pzawadzk/DISORDER/tb_sc_disorder/MC/W_Zn_Sn_N/D_32_32_0_64_T_-200.0_seed_5/mc_N_Zn_Sn_O_.dat"
       ]
      },
      {
       "output_type": "stream",
       "stream": "stdout",
       "text": [
        "\n",
        "/scratch/pzawadzk/DISORDER/tb_sc_disorder/MC/W_Zn_Sn_N/D_32_32_0_64_T_-200.0_seed_6/mc_N_Zn_Sn_O_.dat"
       ]
      },
      {
       "output_type": "stream",
       "stream": "stdout",
       "text": [
        "\n",
        "/scratch/pzawadzk/DISORDER/tb_sc_disorder/MC/W_Zn_Sn_N/D_32_32_0_64_T_-200.0_seed_7/mc_N_Zn_Sn_O_.dat"
       ]
      },
      {
       "output_type": "stream",
       "stream": "stdout",
       "text": [
        "\n",
        "/scratch/pzawadzk/DISORDER/tb_sc_disorder/MC/W_Zn_Sn_N/D_32_32_0_64_T_-200.0_seed_9/mc_N_Zn_Sn_O_.dat"
       ]
      },
      {
       "output_type": "stream",
       "stream": "stdout",
       "text": [
        "\n"
       ]
      }
     ],
     "prompt_number": 12
    },
    {
     "cell_type": "code",
     "collapsed": false,
     "input": [
      "data_mat"
     ],
     "language": "python",
     "metadata": {},
     "outputs": [
      {
       "metadata": {},
       "output_type": "pyout",
       "prompt_number": 13,
       "text": [
        "{u'W_Zn_Sn_N': array([[ 0.        ,  0.        ,  0.        , ...,  0.        ,\n",
        "          0.21725781,  0.0043125 ],\n",
        "        [ 0.        ,  0.        ,  0.        , ...,  0.        ,\n",
        "          0.21500391,  0.00446875],\n",
        "        [ 0.        ,  0.        ,  0.        , ...,  0.        ,\n",
        "          0.21592578,  0.00440234],\n",
        "        ..., \n",
        "        [ 0.        ,  0.        ,  0.        , ...,  0.        ,\n",
        "          0.        ,  0.        ],\n",
        "        [ 0.        ,  0.        ,  0.        , ...,  0.        ,\n",
        "          0.        ,  0.        ],\n",
        "        [ 0.        ,  0.        ,  0.        , ...,  0.        ,\n",
        "          0.        ,  0.        ]])}"
       ]
      }
     ],
     "prompt_number": 13
    },
    {
     "cell_type": "code",
     "collapsed": false,
     "input": [
      "data = {}\n",
      "offset = 4\n",
      "for key, item in data_mat.items():\n",
      "  try:\n",
      "\n",
      "    figure()\n",
      "    ax = gca()\n",
      "    for i in range(15):\n",
      "        y = item[:,i]\n",
      "        ax.plot(T, y)\n",
      "\n",
      "    index = sorted(zip(item[0,:], range(15)), reverse=True)[0][1]\n",
      "    print key, index\n",
      "    f=movingaverage(item[:, index], offset)\n",
      "\n",
      "    deriv = list(np.gradient(f))\n",
      "    Tc = T[deriv.index(max(deriv))]\n",
      "    ax.set_title('%s %d' %( key, Tc))\n",
      "    ax.set_xlabel('$T$ [K]')\n",
      "    ax.set_ylabel('Motifs concentration')\n",
      "    data[key]= [Tc,]\n",
      "    #ax.plot(T[:-offset], 10*np.array(deriv[:-offset]))\n",
      "  except:\n",
      "    pass\n"
     ],
     "language": "python",
     "metadata": {},
     "outputs": [
      {
       "output_type": "stream",
       "stream": "stdout",
       "text": [
        "W_Zn_Sn_N 11\n"
       ]
      },
      {
       "metadata": {},
       "output_type": "display_data",
       "png": "[encoded data removed]",
       "text": [
        "<matplotlib.figure.Figure at 0x118f4b90>"
       ]
      }
     ],
     "prompt_number": 18
    },
    {
     "cell_type": "code",
     "collapsed": false,
     "input": [],
     "language": "python",
     "metadata": {},
     "outputs": []
    },
    {
     "cell_type": "code",
     "collapsed": false,
     "input": [],
     "language": "python",
     "metadata": {},
     "outputs": []
    },
    {
     "cell_type": "code",
     "collapsed": false,
     "input": [
      "f = open(Tc_file, 'w')\n",
      "pickle.dump(data_mat, f)\n",
      "f.close()"
     ],
     "language": "python",
     "metadata": {},
     "outputs": [],
     "prompt_number": 19
    },
    {
     "cell_type": "code",
     "collapsed": false,
     "input": [
      "ls data_p100_8/"
     ],
     "language": "python",
     "metadata": {},
     "outputs": [
      {
       "output_type": "stream",
       "stream": "stdout",
       "text": [
        "H_materials.pckl\r\n"
       ]
      }
     ],
     "prompt_number": 18
    },
    {
     "cell_type": "code",
     "collapsed": false,
     "input": [
      "df.columns = ['Tc']"
     ],
     "language": "python",
     "metadata": {},
     "outputs": [],
     "prompt_number": 11
    },
    {
     "cell_type": "code",
     "collapsed": false,
     "input": [
      "df.sort_index(by=['Tc'])"
     ],
     "language": "python",
     "metadata": {},
     "outputs": [
      {
       "html": [
        "<div style=\"max-height:1000px;max-width:1500px;overflow:auto;\">\n",
        "<table border=\"1\" class=\"dataframe\">\n",
        "  <thead>\n",
        "    <tr style=\"text-align: right;\">\n",
        "      <th></th>\n",
        "      <th>Tc</th>\n",
        "    </tr>\n",
        "  </thead>\n",
        "  <tbody>\n",
        "    <tr>\n",
        "      <th>D_Mg_Sn_Cu_Se</th>\n",
        "      <td>  273</td>\n",
        "    </tr>\n",
        "    <tr>\n",
        "      <th>D_Zn_Sn_Cu_Se</th>\n",
        "      <td>  293</td>\n",
        "    </tr>\n",
        "    <tr>\n",
        "      <th>D_Zn_Sn_Cu_S</th>\n",
        "      <td>  343</td>\n",
        "    </tr>\n",
        "    <tr>\n",
        "      <th>D_Mg_Sn_Cu_S</th>\n",
        "      <td>  413</td>\n",
        "    </tr>\n",
        "    <tr>\n",
        "      <th>D_Si_Zn_Cu_Se</th>\n",
        "      <td>  483</td>\n",
        "    </tr>\n",
        "    <tr>\n",
        "      <th>D_Si_Mg_Cu_Se</th>\n",
        "      <td>  663</td>\n",
        "    </tr>\n",
        "    <tr>\n",
        "      <th>D_Si_Zn_Cu_S</th>\n",
        "      <td>  673</td>\n",
        "    </tr>\n",
        "    <tr>\n",
        "      <th>D_Bi_Cu_S</th>\n",
        "      <td>  803</td>\n",
        "    </tr>\n",
        "    <tr>\n",
        "      <th>D_Bi_Cu_Se</th>\n",
        "      <td>  803</td>\n",
        "    </tr>\n",
        "    <tr>\n",
        "      <th>D_Zn_Sn_As</th>\n",
        "      <td>  933</td>\n",
        "    </tr>\n",
        "    <tr>\n",
        "      <th>D_Zn_Sn_P</th>\n",
        "      <td> 1173</td>\n",
        "    </tr>\n",
        "    <tr>\n",
        "      <th>D_Zn_Si_As</th>\n",
        "      <td> 1183</td>\n",
        "    </tr>\n",
        "    <tr>\n",
        "      <th>D_Cu_In_Se</th>\n",
        "      <td> 1213</td>\n",
        "    </tr>\n",
        "    <tr>\n",
        "      <th>D_Ga_Cu_Se</th>\n",
        "      <td> 1363</td>\n",
        "    </tr>\n",
        "    <tr>\n",
        "      <th>D_Cu_In_S</th>\n",
        "      <td> 1453</td>\n",
        "    </tr>\n",
        "    <tr>\n",
        "      <th>D_Zn_Si_P</th>\n",
        "      <td> 1533</td>\n",
        "    </tr>\n",
        "    <tr>\n",
        "      <th>D_Ga_Cu_S</th>\n",
        "      <td> 1623</td>\n",
        "    </tr>\n",
        "    <tr>\n",
        "      <th>D_As_Cu_Se</th>\n",
        "      <td> 1633</td>\n",
        "    </tr>\n",
        "    <tr>\n",
        "      <th>D_Zn_Sn_N</th>\n",
        "      <td> 1633</td>\n",
        "    </tr>\n",
        "    <tr>\n",
        "      <th>D_Sn_Cu_Se</th>\n",
        "      <td> 2073</td>\n",
        "    </tr>\n",
        "    <tr>\n",
        "      <th>D_Sn_Cu_S</th>\n",
        "      <td> 2423</td>\n",
        "    </tr>\n",
        "    <tr>\n",
        "      <th>D_Si_Cu_Se</th>\n",
        "      <td> 2773</td>\n",
        "    </tr>\n",
        "    <tr>\n",
        "      <th>D_Si_Cu_S</th>\n",
        "      <td> 2773</td>\n",
        "    </tr>\n",
        "    <tr>\n",
        "      <th>D_Si_Mg_Cu_S</th>\n",
        "      <td> 2773</td>\n",
        "    </tr>\n",
        "  </tbody>\n",
        "</table>\n",
        "<p>24 rows \u00d7 1 columns</p>\n",
        "</div>"
       ],
       "metadata": {},
       "output_type": "pyout",
       "prompt_number": 12,
       "text": [
        "                 Tc\n",
        "D_Mg_Sn_Cu_Se   273\n",
        "D_Zn_Sn_Cu_Se   293\n",
        "D_Zn_Sn_Cu_S    343\n",
        "D_Mg_Sn_Cu_S    413\n",
        "D_Si_Zn_Cu_Se   483\n",
        "D_Si_Mg_Cu_Se   663\n",
        "D_Si_Zn_Cu_S    673\n",
        "D_Bi_Cu_S       803\n",
        "D_Bi_Cu_Se      803\n",
        "D_Zn_Sn_As      933\n",
        "D_Zn_Sn_P      1173\n",
        "D_Zn_Si_As     1183\n",
        "D_Cu_In_Se     1213\n",
        "D_Ga_Cu_Se     1363\n",
        "D_Cu_In_S      1453\n",
        "D_Zn_Si_P      1533\n",
        "D_Ga_Cu_S      1623\n",
        "D_As_Cu_Se     1633\n",
        "D_Zn_Sn_N      1633\n",
        "D_Sn_Cu_Se     2073\n",
        "D_Sn_Cu_S      2423\n",
        "D_Si_Cu_Se     2773\n",
        "D_Si_Cu_S      2773\n",
        "D_Si_Mg_Cu_S   2773\n",
        "\n",
        "[24 rows x 1 columns]"
       ]
      }
     ],
     "prompt_number": 12
    },
    {
     "cell_type": "code",
     "collapsed": false,
     "input": [],
     "language": "python",
     "metadata": {},
     "outputs": []
    },
    {
     "cell_type": "code",
     "collapsed": false,
     "input": [
      "data_mat.keys()"
     ],
     "language": "python",
     "metadata": {},
     "outputs": [
      {
       "metadata": {},
       "output_type": "pyout",
       "prompt_number": 13,
       "text": [
        "[u'D_Si_Zn_Cu_S',\n",
        " u'D_Si_Zn_Cu_Se',\n",
        " u'D_Zn_Sn_Cu_Se',\n",
        " u'D_Mg_Sn_Cu_S',\n",
        " u'D_Mg_Sn_Cu_Se',\n",
        " u'D_Zn_Sn_Cu_S',\n",
        " u'D_Si_Mg_Cu_Se']"
       ]
      }
     ],
     "prompt_number": 13
    },
    {
     "cell_type": "code",
     "collapsed": false,
     "input": [
      "np.shape(np.mean(np.array(data_mat['D_Ga_Cu_Se']), axis=1))"
     ],
     "language": "python",
     "metadata": {},
     "outputs": [
      {
       "metadata": {},
       "output_type": "pyout",
       "prompt_number": 33,
       "text": [
        "(2, 15)"
       ]
      }
     ],
     "prompt_number": 33
    },
    {
     "cell_type": "code",
     "collapsed": false,
     "input": [],
     "language": "python",
     "metadata": {},
     "outputs": []
    },
    {
     "cell_type": "code",
     "collapsed": false,
     "input": [],
     "language": "python",
     "metadata": {},
     "outputs": []
    },
    {
     "cell_type": "code",
     "collapsed": false,
     "input": [],
     "language": "python",
     "metadata": {},
     "outputs": []
    }
   ],
   "metadata": {}
  }
 ]
}