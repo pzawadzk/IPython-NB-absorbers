{
 "metadata": {
  "name": "",
  "signature": "sha256:9096ee98248c6c9bee786ed0f91578a321248fab7a499d7862dff6303d314b71"
 },
 "nbformat": 3,
 "nbformat_minor": 0,
 "worksheets": [
  {
   "cells": [
    {
     "cell_type": "markdown",
     "metadata": {},
     "source": [
      "#Calculates mixing enthalpy for CTS and CZTS"
     ]
    },
    {
     "cell_type": "code",
     "collapsed": false,
     "input": [
      "import os\n",
      "os.chdir('P6')\n",
      "local = True"
     ],
     "language": "python",
     "metadata": {},
     "outputs": [],
     "prompt_number": 1
    },
    {
     "cell_type": "code",
     "collapsed": false,
     "input": [
      "%pylab inline\n",
      "import numpy as np\n",
      "from pylada.vasp import  MassExtract\n",
      "import pickle"
     ],
     "language": "python",
     "metadata": {},
     "outputs": [
      {
       "output_type": "stream",
       "stream": "stdout",
       "text": [
        "Populating the interactive namespace from numpy and matplotlib\n"
       ]
      }
     ],
     "prompt_number": 2
    },
    {
     "cell_type": "code",
     "collapsed": false,
     "input": [
      "#data\n",
      "dir_CZTS = '/scratch/pzawadzk/DISORDER/CZTS/alloy_czts'\n",
      "dir_CTS = '/scratch/pzawadzk/DISORDER/CZTS/cts_mix_2/'"
     ],
     "language": "python",
     "metadata": {},
     "outputs": [],
     "prompt_number": 3
    },
    {
     "cell_type": "markdown",
     "metadata": {},
     "source": [
      "#CTS"
     ]
    },
    {
     "cell_type": "code",
     "collapsed": false,
     "input": [
      "case = 'cu_sn'\n",
      "if case == 'cu_sn':\n",
      "    cu_dat = np.array( [144, 140, 136, 132, 130, 128][::-1])\n",
      "    cu3sn_dat =4*cu_dat - 2*192\n",
      "    cu2sn2_dat = 192 - cu3sn_dat\n",
      "    print cu3sn_dat, cu2sn2_dat\n",
      "\n",
      "if local:\n",
      "    f = open('cts_cu_sn', 'r')\n",
      "    x, E = pickle.load(f)\n",
      "    f.close()\n",
      "else:\n",
      "    calcs = MassExtract(dir_CTS)\n",
      "    seeds = range(1,9)\n",
      "    x = []\n",
      "    E = []\n",
      "    for cu, cu3sn, cu2sn2 in zip(cu_dat, cu3sn_dat, cu2sn2_dat):\n",
      "        x.append(1.0*cu)\n",
      "        Es = []\n",
      "        for seed in seeds:\n",
      "            key = '/cu%d_192_seed_%d_conf_%d_%d/relax' %(cu,seed, cu2sn2, cu3sn)\n",
      "\n",
      "            if key in calcs.keys():\n",
      "                \n",
      "                e = float(calcs[key].energy_sigma0)/len(calcs[key].structure)\n",
      "                Es.append(e)\n",
      "        E.append(Es)\n",
      "    f = open(data_file, 'w')\n",
      "    pickle.dump([x,E],f)\n",
      "    f.close()"
     ],
     "language": "python",
     "metadata": {},
     "outputs": [
      {
       "output_type": "stream",
       "stream": "stdout",
       "text": [
        "[128 136 144 160 176 192] [64 56 48 32 16  0]\n"
       ]
      }
     ],
     "prompt_number": 4
    },
    {
     "cell_type": "code",
     "collapsed": false,
     "input": [
      "Natoms = 96\n",
      "x0_cu = np.array([32, 33, 34])\n",
      "x0_sn = np.array([16, 15, 14])\n",
      "x0 = 1- (3.*x0_sn - x0_cu)/x0_sn\n",
      "print x0\n",
      "E0 = np.array([-.36415082E+03, -.36085439E+03, -.35774973E+03])/(Natoms)\n",
      "E0_ref_no_u = -.41313537E+03/(Natoms)\n",
      "delta = E0[0] - E0_ref_no_u\n",
      "E0-= delta\n",
      "print E0[0] - min(E[0])\n",
      "print E"
     ],
     "language": "python",
     "metadata": {},
     "outputs": [
      {
       "output_type": "stream",
       "stream": "stdout",
       "text": [
        "[ 0.          0.2         0.42857143]\n",
        "-0.0150149466146\n",
        "[[-4.284363242708333, -4.287809554635417, -4.2835365700520835, -4.2875624259375, -4.2858274939062495, -4.288478490885416], [-4.2896150172395835, -4.287983138645833, -4.288529627734375, -4.28672116890625, -4.288493460703125], [-4.292167406614584, -4.291099502005208, -2.3523318635416666, -4.290026763151041, -4.2894402179687505], [-4.293468246119792, -2.42968888703125, -4.207401936953125, -4.293277794088541], [-4.292170839348958, -4.290500535911458], [-4.29441464375]]\n"
       ]
      }
     ],
     "prompt_number": 8
    },
    {
     "cell_type": "code",
     "collapsed": false,
     "input": [
      "y_E0 = (E0 - (1-x0) * min(E[0]) -  x0 * min(E[-1]))*1000\n",
      "print y_E0"
     ],
     "language": "python",
     "metadata": {},
     "outputs": [
      {
       "output_type": "stream",
       "stream": "stdout",
       "text": [
        "[-15.01494661  20.51009646  54.20713973]\n"
       ]
      }
     ],
     "prompt_number": 9
    },
    {
     "cell_type": "code",
     "collapsed": false,
     "input": [
      "Natoms = 96\n",
      "E0_CTS = -.36415228E+03\n",
      "E0_CuSn_CTS = -.36085966E+03\n",
      "E0_CuSn_CTS_ispin1 = -.36083728E+03\n",
      "E0_CTS_accuate = -.51623208E+02/12"
     ],
     "language": "python",
     "metadata": {},
     "outputs": [],
     "prompt_number": 10
    },
    {
     "cell_type": "code",
     "collapsed": false,
     "input": [
      "for e in E[0]:\n",
      "    print e/(2*192)"
     ],
     "language": "python",
     "metadata": {},
     "outputs": [
      {
       "output_type": "stream",
       "stream": "stdout",
       "text": [
        "-0.0111571959446\n",
        "-0.0111661707152\n",
        "-0.0111550431512\n",
        "-0.0111655271509\n",
        "-0.0111610090987\n",
        "-0.0111679127367\n"
       ]
      }
     ],
     "prompt_number": 11
    },
    {
     "cell_type": "code",
     "collapsed": false,
     "input": [
      "end_comp = -1\n",
      "x -= x[0]\n",
      "x_true = x.copy()\n",
      "\n",
      "x /=  float(x[end_comp])\n",
      "x_true /= 144-128\n",
      "\n",
      "print x, x_true"
     ],
     "language": "python",
     "metadata": {},
     "outputs": [
      {
       "output_type": "stream",
       "stream": "stdout",
       "text": [
        "[ 0.     0.125  0.25   0.5    0.75   1.   ] [ 0.     0.125  0.25   0.5    0.75   1.   ]\n"
       ]
      }
     ],
     "prompt_number": 12
    },
    {
     "cell_type": "code",
     "collapsed": false,
     "input": [
      "\n",
      "\n",
      "fig = figure(figsize=(6,5))\n",
      "ax = gca()\n",
      "for i in range(len(x)):\n",
      "    for j in range(len(E[i])):\n",
      "        y = E[i][j] - (x[end_comp]-x[i]) * min(E[0]) -  x[i] * min(E[end_comp])\n",
      "        \n",
      "        y *= 1000\n",
      "        ax.plot(x_true[i], y, 'b', marker = 'x', mfc = 'none', lw = 2, mew = 2, ms = 10)\n",
      "        \n",
      "\n",
      "        print '%.3f\\t%.3f'%(x_true[i], y)\n",
      "        ax.plot([0,1],[0,0], 'b--', lw=2)\n",
      "        \n",
      "ax.set_ylabel(r'$\\Delta_m H$ (meV/atom)')\n",
      "\n",
      "ax.plot(x0, y_E0, '--r', marker = 'o', mfc = 'none', markeredgecolor='r', lw = 2, mew = 2, ms = 10)\n",
      "#ax.text(0.15, 65, r'Cu$_{2+x/4}$Sn$_{1-x/4}$S$_3$')\n",
      "\n",
      "ax.set_xlabel(r'Cu$_{2+x/4}$Sn$_{1-x/4}$S$_3$')\n",
      "ax.axis(xmin = -0.0, xmax = 1.0, ymin = -20, ymax=80)\n",
      "savefig('cts_314_mix.pdf')"
     ],
     "language": "python",
     "metadata": {},
     "outputs": [
      {
       "output_type": "stream",
       "stream": "stdout",
       "text": [
        "0.000\t4.115\n",
        "0.000\t0.669\n",
        "0.000\t4.942\n",
        "0.000\t0.916\n",
        "0.000\t2.651\n",
        "0.000\t0.000\n",
        "0.125\t-0.395\n",
        "0.125\t1.237\n",
        "0.125\t0.691\n",
        "0.125\t2.499\n",
        "0.125\t0.727\n",
        "0.250\t-2.205\n",
        "0.250\t-1.137\n",
        "0.250\t1937.631\n",
        "0.250\t-0.064\n",
        "0.250\t0.522\n",
        "0.500\t-2.022\n",
        "0.500\t1861.758\n",
        "0.500\t84.045\n",
        "0.500\t-1.831\n",
        "0.750\t0.760\n",
        "0.750\t2.430\n",
        "1.000\t0.000\n"
       ]
      },
      {
       "metadata": {},
       "output_type": "display_data",
       "png": "[encoded data removed]",
       "text": [
        "<matplotlib.figure.Figure at 0x43ee910>"
       ]
      }
     ],
     "prompt_number": 14
    },
    {
     "cell_type": "markdown",
     "metadata": {},
     "source": [
      "##CZTS"
     ]
    },
    {
     "cell_type": "code",
     "collapsed": false,
     "input": [
      "case = 'cu_sn'\n",
      "if case == 'cu_sn':\n",
      "    cu_dat = np.array([48, 50, 52, 54])\n",
      "    sn_dat = np.array([24, 22, 20, 18])\n",
      "    zn_dat = 96 - cu_dat - sn_dat\n",
      "    data_file = 'czts_cu_sn'\n",
      "else:\n",
      "    cu_dat = np.array([48, 56, 64, 72])\n",
      "    sn_dat = np.array([24, 24, 24, 24])\n",
      "    zn_dat = 96 - cu_dat - sn_dat\n",
      "    data_file = 'czts_cu_zn'\n",
      "print zn_dat\n",
      "\n",
      "if local:\n",
      "    f = open(data_file, 'r')\n",
      "    x, E = pickle.load(f)\n",
      "    f.close()\n",
      "else:\n",
      "    calcs = MassExtract(dir_CZTS)\n",
      "    seeds = range(1,17)\n",
      "    x = []\n",
      "    E = []\n",
      "    for cu, sn, zn in zip(cu_dat, sn_dat, zn_dat):\n",
      "        x.append(1.0*cu)\n",
      "        Es = []\n",
      "        for seed in seeds:\n",
      "            key = '/%s_%d_%d_%d_96_seed_%d_mc/non-magnetic' %(case, cu, sn, zn, seed)\n",
      "            if key in calcs.keys():\n",
      "                e = float(calcs[key].energy_sigma0)\n",
      "                Es.append(e)\n",
      "        E.append(Es)\n",
      "        print x\n",
      "    f = open(data_file, 'w')\n",
      "    pickle.dump([x,E],f)\n",
      "    f.close()"
     ],
     "language": "python",
     "metadata": {},
     "outputs": [
      {
       "output_type": "stream",
       "stream": "stdout",
       "text": [
        "[24 24 24 24]\n"
       ]
      }
     ],
     "prompt_number": 34
    },
    {
     "cell_type": "code",
     "collapsed": false,
     "input": [
      "f = open('czts_cu_sn', 'r')\n",
      "x, E = pickle.load(f)\n",
      "f.close()\n",
      "\n",
      "print x,E\n",
      "x = np.array(x)\n",
      "end_comp = -1\n",
      "x -= x[0]\n",
      "x_true = x.copy()\n",
      "\n",
      "x /=  float(x[end_comp])\n",
      "x_true /= 144-128\n",
      "\n",
      "\n",
      "\n",
      "fig = figure(figsize=(6,6))\n",
      "ax = gca()\n",
      "for i in range(len(x)):\n",
      "    for j in range(len(E[i])):\n",
      "        y = E[i][j] - (x[end_comp]-x[i]) * min(E[0]) -  x[i] * min(E[end_comp])\n",
      "        \n",
      "        y *= 1000 /(2*96)\n",
      "        ax.plot(x[i], y, 'kx', markersize=12, markeredgewidth=2)\n",
      "        print '%.3f\\t%.3f'%(x_true[i], y)\n",
      "        ax.plot([0,1],[0,0], 'k-')\n",
      "        \n",
      "ax.set_ylabel(r'$\\Delta_m H$ [meV/atom]')\n",
      "ax.text(0.1, 7, r'Cu$_{2+x/4}$Sn$_{1-x/4}$ZnS$_4$')\n",
      "ax.set_xlabel(r'$x$')\n",
      "ax.axis(xmin = -0.05, xmax = 1.05, ymin = -10, ymax=10)\n"
     ],
     "language": "python",
     "metadata": {},
     "outputs": [
      {
       "output_type": "stream",
       "stream": "stdout",
       "text": [
        "[48.0, 50.0, 52.0, 54.0] [[-717.28651244, -716.80984975, -717.28888956, -717.40907689], [-710.47391133, -710.41834463, -710.33539021], [-704.12826314, -704.16233571, -704.17843462], [-697.15661593, -697.14737003, -697.14877285]]\n",
        "0.000\t0.613\n",
        "0.000\t2.996\n",
        "0.000\t0.601\n",
        "0.000\t0.000\n",
        "0.125\t0.922\n",
        "0.125\t1.200\n",
        "0.125\t1.614\n",
        "0.250\t-1.104"
       ]
      },
      {
       "output_type": "stream",
       "stream": "stdout",
       "text": [
        "\n",
        "0.250\t-1.274\n",
        "0.250\t-1.355\n",
        "0.375\t0.000\n",
        "0.375\t0.046\n",
        "0.375\t0.039\n"
       ]
      },
      {
       "metadata": {},
       "output_type": "pyout",
       "prompt_number": 35,
       "text": [
        "(-0.05, 1.05, -10, 10)"
       ]
      },
      {
       "metadata": {},
       "output_type": "display_data",
       "png": "[encoded data removed]",
       "text": [
        "<matplotlib.figure.Figure at 0x473e5d0>"
       ]
      }
     ],
     "prompt_number": 35
    },
    {
     "cell_type": "code",
     "collapsed": false,
     "input": [
      "f = open('czts_cu_zn', 'r')\n",
      "x, E = pickle.load(f)\n",
      "f.close()\n",
      "\n",
      "\n",
      "end_comp = -1\n",
      "x -= x[0]\n",
      "x_true = x.copy()\n",
      "\n",
      "x /=  float(x[end_comp])\n",
      "x_true /= 144-128\n",
      "\n",
      "print x, x_true\n",
      "\n",
      "fig = figure(figsize=(6,6))\n",
      "ax = gca()\n",
      "for i in range(len(x)):\n",
      "    for j in range(len(E[i])):\n",
      "        y = E[i][j] - (x[end_comp]-x[i]) * min(E[0]) -  x[i] * min(E[end_comp])\n",
      "        \n",
      "        y *= 1000 /(2*96)\n",
      "        ax.plot(x[i], y, 'kx', markersize=12, markeredgewidth =2)\n",
      "        print '%.3f\\t%.3f'%(x_true[i], y)\n",
      "        ax.plot([0,1],[0,0], 'k-')\n",
      "        \n",
      "ax.set_ylabel(r'$\\Delta_m H$ [meV/atom]')\n",
      "ax.text(0.1, 7, r'Cu$_{2+x}$SnZn$_{1-x}$S$_4$')\n",
      "ax.set_xlabel(r'$x$')\n",
      "ax.axis(xmin = -0.05, xmax = 1.05, ymin = -10, ymax=10)\n",
      "\n"
     ],
     "language": "python",
     "metadata": {},
     "outputs": [
      {
       "output_type": "stream",
       "stream": "stdout",
       "text": [
        "[ 0.          0.33333333  0.66666667  1.        ] [ 0.   0.5  1.   1.5]\n",
        "0.000\t0.613\n",
        "0.000\t2.996\n",
        "0.000\t0.601\n",
        "0.000\t0.000\n",
        "0.500\t0.777\n",
        "0.500\t1.216\n",
        "0.500\t1.379\n",
        "1.000\t0.081"
       ]
      },
      {
       "output_type": "stream",
       "stream": "stdout",
       "text": [
        "\n",
        "1.000\t-0.132\n",
        "1.000\t-0.153\n",
        "1.500\t0.000\n",
        "1.500\t0.000\n"
       ]
      },
      {
       "metadata": {},
       "output_type": "pyout",
       "prompt_number": 23,
       "text": [
        "(-0.05, 1.05, -10, 10)"
       ]
      },
      {
       "metadata": {},
       "output_type": "display_data",
       "png": "[encoded data removed]",
       "text": [
        "<matplotlib.figure.Figure at 0x475a3d0>"
       ]
      }
     ],
     "prompt_number": 23
    }
   ],
   "metadata": {}
  }
 ]
}