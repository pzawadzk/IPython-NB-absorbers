{
 "metadata": {
  "name": "",
  "signature": "sha256:895084596d6051be87ca087fa4c199c0f275ab7dab9031a762ac60de65e2d95d"
 },
 "nbformat": 3,
 "nbformat_minor": 0,
 "worksheets": [
  {
   "cells": [
    {
     "cell_type": "markdown",
     "metadata": {},
     "source": [
      "#Calculates mixing enthalpy for CTS and CZTS"
     ]
    },
    {
     "cell_type": "code",
     "collapsed": false,
     "input": [
      "import os\n",
      "os.chdir('P6')\n",
      "local = False"
     ],
     "language": "python",
     "metadata": {},
     "outputs": [],
     "prompt_number": 16
    },
    {
     "cell_type": "code",
     "collapsed": false,
     "input": [
      "%pylab inline\n",
      "import numpy as np\n",
      "from pylada.vasp import  MassExtract\n",
      "import pickle\n",
      "from tools import *"
     ],
     "language": "python",
     "metadata": {},
     "outputs": [
      {
       "output_type": "stream",
       "stream": "stdout",
       "text": [
        "Populating the interactive namespace from numpy and matplotlib\n"
       ]
      },
      {
       "output_type": "stream",
       "stream": "stderr",
       "text": [
        "WARNING: pylab import has clobbered these variables: ['f', 'seed', 'e']\n",
        "`%matplotlib` prevents importing * from pylab and numpy\n"
       ]
      }
     ],
     "prompt_number": 18
    },
    {
     "cell_type": "code",
     "collapsed": false,
     "input": [
      "#data\n",
      "dir_CZTS = '/scratch/pzawadzk/DISORDER/CZTS/alloy_czts'\n",
      "dir_CTS = '/scratch/pzawadzk/DISORDER/CZTS/alloy_cts/'"
     ],
     "language": "python",
     "metadata": {},
     "outputs": [],
     "prompt_number": 19
    },
    {
     "cell_type": "markdown",
     "metadata": {},
     "source": [
      "#CTS"
     ]
    },
    {
     "cell_type": "code",
     "collapsed": false,
     "input": [
      "case = 'cu_sn'\n",
      "if case == 'cu_sn':\n",
      "    cu_dat = np.array( [144, 140, 136, 132, 130, 128][::-1])\n",
      "    cu3sn_dat =4*cu_dat - 2*192\n",
      "    cu2sn2_dat = 192 - cu3sn_dat\n",
      "    print cu3sn_dat, cu2sn2_dat\n",
      "\n",
      "if local:\n",
      "    f = open('cts_cu_sn', 'r')\n",
      "    x, E = pickle.load(f)\n",
      "    f.close()\n",
      "else:\n",
      "    calcs = MassExtract(dir_CTS)\n",
      "    seeds = range(1,9)\n",
      "    x = []\n",
      "    E = []\n",
      "    for cu, cu3sn, cu2sn2 in zip(cu_dat, cu3sn_dat, cu2sn2_dat):\n",
      "        x.append(1.0*cu)\n",
      "        Es = []\n",
      "        for seed in seeds:\n",
      "            key = '/cu%d_192_seed_%d_conf_%d_%d/relax' %(cu,seed, cu2sn2, cu3sn)\n",
      "\n",
      "            if key in calcs.keys():\n",
      "                count, conf_count = count_configurations_5(calcs[key].structure,'S', atoms = ['Cu','Zn','Sn' ])\n",
      "                print count\n",
      "                e = float(calcs[key].energy_sigma0)/len(calcs[key].structure)\n",
      "                Es.append(e)\n",
      "                print key, e\n",
      "        E.append(Es)\n",
      "    x = np.array(x)\n",
      "    f = open('cts_cu_sn', 'w')\n",
      "    pickle.dump([x,E],f)\n",
      "    f.close()"
     ],
     "language": "python",
     "metadata": {},
     "outputs": [
      {
       "output_type": "stream",
       "stream": "stdout",
       "text": [
        "[128 136 144 160 176 192] [64 56 48 32 16  0]\n",
        "{'Cu2_Zn0_Sn2_': 64, 'Cu3_Zn0_Sn1_': 128}"
       ]
      },
      {
       "output_type": "stream",
       "stream": "stdout",
       "text": [
        "\n",
        "/cu128_192_seed_2_conf_64_128/relax -4.28436324271\n",
        "{'Cu2_Zn0_Sn2_': 64, 'Cu3_Zn0_Sn1_': 128}"
       ]
      },
      {
       "output_type": "stream",
       "stream": "stdout",
       "text": [
        "\n",
        "/cu128_192_seed_3_conf_64_128/relax -4.28780955464\n",
        "{'Cu2_Zn0_Sn2_': 64, 'Cu3_Zn0_Sn1_': 128}"
       ]
      },
      {
       "output_type": "stream",
       "stream": "stdout",
       "text": [
        "\n",
        "/cu128_192_seed_4_conf_64_128/relax -4.28353657005\n",
        "{'Cu2_Zn0_Sn2_': 64, 'Cu3_Zn0_Sn1_': 128}"
       ]
      },
      {
       "output_type": "stream",
       "stream": "stdout",
       "text": [
        "\n",
        "/cu128_192_seed_5_conf_64_128/relax -4.28756242594\n",
        "{'Cu2_Zn0_Sn2_': 64, 'Cu3_Zn0_Sn1_': 128}"
       ]
      },
      {
       "output_type": "stream",
       "stream": "stdout",
       "text": [
        "\n",
        "/cu128_192_seed_6_conf_64_128/relax -4.28582749391\n",
        "{'Cu2_Zn0_Sn2_': 64, 'Cu3_Zn0_Sn1_': 128}"
       ]
      },
      {
       "output_type": "stream",
       "stream": "stdout",
       "text": [
        "\n",
        "/cu128_192_seed_7_conf_64_128/relax -4.28847849089\n",
        "{'Cu2_Zn0_Sn2_': 56, 'Cu3_Zn0_Sn1_': 136}"
       ]
      },
      {
       "output_type": "stream",
       "stream": "stdout",
       "text": [
        "\n",
        "/cu130_192_seed_2_conf_56_136/relax -4.28961501724\n",
        "{'Cu2_Zn0_Sn2_': 56, 'Cu3_Zn0_Sn1_': 136}"
       ]
      },
      {
       "output_type": "stream",
       "stream": "stdout",
       "text": [
        "\n",
        "/cu130_192_seed_3_conf_56_136/relax -4.28798313865\n",
        "{'Cu2_Zn0_Sn2_': 56, 'Cu3_Zn0_Sn1_': 136}"
       ]
      },
      {
       "output_type": "stream",
       "stream": "stdout",
       "text": [
        "\n",
        "/cu130_192_seed_4_conf_56_136/relax -4.28852962773\n",
        "{'Cu2_Zn0_Sn2_': 56, 'Cu3_Zn0_Sn1_': 136}"
       ]
      },
      {
       "output_type": "stream",
       "stream": "stdout",
       "text": [
        "\n",
        "/cu130_192_seed_6_conf_56_136/relax -4.28672116891\n",
        "{'Cu2_Zn0_Sn2_': 56, 'Cu3_Zn0_Sn1_': 136}"
       ]
      },
      {
       "output_type": "stream",
       "stream": "stdout",
       "text": [
        "\n",
        "/cu130_192_seed_7_conf_56_136/relax -4.2884934607\n",
        "{'Cu2_Zn0_Sn2_': 48, 'Cu3_Zn0_Sn1_': 144}"
       ]
      },
      {
       "output_type": "stream",
       "stream": "stdout",
       "text": [
        "\n",
        "/cu132_192_seed_3_conf_48_144/relax -4.29216740661\n",
        "{'Cu2_Zn0_Sn2_': 48, 'Cu3_Zn0_Sn1_': 144}"
       ]
      },
      {
       "output_type": "stream",
       "stream": "stdout",
       "text": [
        "\n",
        "/cu132_192_seed_4_conf_48_144/relax -4.29109950201\n",
        "{'Cu2_Zn0_Sn2_': 48, 'Cu3_Zn0_Sn1_': 144}"
       ]
      },
      {
       "output_type": "stream",
       "stream": "stdout",
       "text": [
        "\n",
        "/cu132_192_seed_5_conf_48_144/relax -4.29010663932\n",
        "{'Cu2_Zn0_Sn2_': 48, 'Cu3_Zn0_Sn1_': 144}"
       ]
      },
      {
       "output_type": "stream",
       "stream": "stdout",
       "text": [
        "\n",
        "/cu132_192_seed_6_conf_48_144/relax -4.29002676315\n",
        "{'Cu2_Zn0_Sn2_': 48, 'Cu3_Zn0_Sn1_': 144}"
       ]
      },
      {
       "output_type": "stream",
       "stream": "stdout",
       "text": [
        "\n",
        "/cu132_192_seed_7_conf_48_144/relax -4.28944021797\n",
        "{'Cu2_Zn0_Sn2_': 32, 'Cu3_Zn0_Sn1_': 160}"
       ]
      },
      {
       "output_type": "stream",
       "stream": "stdout",
       "text": [
        "\n",
        "/cu136_192_seed_3_conf_32_160/relax -4.29346824612\n",
        "{'Cu2_Zn0_Sn2_': 32, 'Cu3_Zn0_Sn1_': 160}"
       ]
      },
      {
       "output_type": "stream",
       "stream": "stdout",
       "text": [
        "\n",
        "/cu136_192_seed_5_conf_32_160/relax -4.2900366069\n",
        "{'Cu2_Zn0_Sn2_': 32, 'Cu3_Zn0_Sn1_': 160}"
       ]
      },
      {
       "output_type": "stream",
       "stream": "stdout",
       "text": [
        "\n",
        "/cu136_192_seed_6_conf_32_160/relax -4.29155759833\n",
        "{'Cu2_Zn0_Sn2_': 32, 'Cu3_Zn0_Sn1_': 160}"
       ]
      },
      {
       "output_type": "stream",
       "stream": "stdout",
       "text": [
        "\n",
        "/cu136_192_seed_7_conf_32_160/relax -4.29327779409\n",
        "{'Cu2_Zn0_Sn2_': 16, 'Cu3_Zn0_Sn1_': 176}"
       ]
      },
      {
       "output_type": "stream",
       "stream": "stdout",
       "text": [
        "\n",
        "/cu140_192_seed_6_conf_16_176/relax -4.29217083935\n",
        "{'Cu2_Zn0_Sn2_': 16, 'Cu3_Zn0_Sn1_': 176}"
       ]
      },
      {
       "output_type": "stream",
       "stream": "stdout",
       "text": [
        "\n",
        "/cu140_192_seed_7_conf_16_176/relax -4.29050053591\n",
        "{'Cu3_Zn0_Sn1_': 4}\n",
        "/cu144_192_seed_2_conf_0_192/relax -4.29441464375\n"
       ]
      }
     ],
     "prompt_number": 20
    },
    {
     "cell_type": "code",
     "collapsed": false,
     "input": [
      "Natoms = 96\n",
      "x0_cu = np.array([32, 33, 34])\n",
      "x0_sn = np.array([16, 15, 14])\n",
      "x0 = 1- (3.*x0_sn - x0_cu)/x0_sn\n",
      "print x0\n",
      "delta = -0.009\n",
      "E0 = np.array([-.36415082E+03, -.36085439E+03, -.35774973E+03])/(Natoms)\n",
      "E0 = min(E[0]) + delta + E0 - E0[0]"
     ],
     "language": "python",
     "metadata": {},
     "outputs": [
      {
       "output_type": "stream",
       "stream": "stdout",
       "text": [
        "[ 0.          0.2         0.42857143]\n"
       ]
      }
     ],
     "prompt_number": 21
    },
    {
     "cell_type": "code",
     "collapsed": false,
     "input": [
      "y_E0 = (E0 - (1-x0) * min(E[0]) -  x0 * min(E[-1]))*1000\n",
      "print y_E0"
     ],
     "language": "python",
     "metadata": {},
     "outputs": [
      {
       "output_type": "stream",
       "stream": "stdout",
       "text": [
        "[ -9.          26.52504307  60.22208635]\n"
       ]
      }
     ],
     "prompt_number": 22
    },
    {
     "cell_type": "code",
     "collapsed": false,
     "input": [
      "end_comp = -1\n",
      "x -= x[0]\n",
      "x_true = x.copy()\n",
      "x /=  float(x[end_comp])\n",
      "x_true /= 144-128\n",
      "print x, x_true"
     ],
     "language": "python",
     "metadata": {},
     "outputs": [
      {
       "output_type": "stream",
       "stream": "stdout",
       "text": [
        "[ 0.     0.125  0.25   0.5    0.75   1.   ] [ 0.     0.125  0.25   0.5    0.75   1.   ]\n"
       ]
      }
     ],
     "prompt_number": 23
    },
    {
     "cell_type": "code",
     "collapsed": false,
     "input": [
      "E"
     ],
     "language": "python",
     "metadata": {},
     "outputs": [
      {
       "metadata": {},
       "output_type": "pyout",
       "prompt_number": 24,
       "text": [
        "[[-4.284363242708333,\n",
        "  -4.287809554635417,\n",
        "  -4.2835365700520835,\n",
        "  -4.2875624259375,\n",
        "  -4.2858274939062495,\n",
        "  -4.288478490885416],\n",
        " [-4.2896150172395835,\n",
        "  -4.287983138645833,\n",
        "  -4.288529627734375,\n",
        "  -4.28672116890625,\n",
        "  -4.288493460703125],\n",
        " [-4.292167406614584,\n",
        "  -4.291099502005208,\n",
        "  -4.290106639322917,\n",
        "  -4.290026763151041,\n",
        "  -4.2894402179687505],\n",
        " [-4.293468246119792,\n",
        "  -4.290036606901041,\n",
        "  -4.291557598333333,\n",
        "  -4.293277794088541],\n",
        " [-4.292170839348958, -4.290500535911458],\n",
        " [-4.29441464375]]"
       ]
      }
     ],
     "prompt_number": 24
    },
    {
     "cell_type": "code",
     "collapsed": false,
     "input": [
      "fig = figure(figsize=(4, 5))\n",
      "ax = gca()\n",
      "ax.plot([0,1],[0,0], 'b--', lw=1, markersize=6, markeredgewidth=2, label='Disordered')\n",
      "\n",
      "for i in range(len(x)):\n",
      "    for j in range(len(E[i])):\n",
      "        y = E[i][j] - (x[end_comp]-x[i]) * min(E[0]) -  x[i] * min(E[end_comp])\n",
      "        \n",
      "        y *= 1000\n",
      "        ax.plot(x_true[i], y, 'xb',markersize=6, markeredgewidth=2)\n",
      "    \n",
      "        print '%.3f\\t%.3f'%(x_true[i], y)\n",
      "\n",
      "        \n",
      "ax.set_ylabel(r'$\\Delta_m E$ (meV/atom)', fontsize=18)\n",
      "ax.plot(x0, y_E0, '--rx', markersize=6, markeredgewidth=2, label='Ordered')\n",
      "#ax.text(0.15, 65, r'Cu$_{2+x/4}$Sn$_{1-x/4}$S$_3$')\n",
      "ax.yaxis.set_major_locator(FixedLocator(list(np.linspace(-10,60,8))))\n",
      "\n",
      "ax.text(0.5, 35, 'Ordered', fontsize=18)\n",
      "ax.plot([0.35,0.45],[37,37], 'rx--', lw=1, markersize=6, markeredgewidth=2, label='Disordered')\n",
      "ax.text(0.5, 28, 'Disordered', fontsize=18)\n",
      "ax.plot([0.35,0.45],[30,30], 'bx--', lw=1, markersize=6, markeredgewidth=2, label='Disordered')\n",
      "\n",
      "ax.set_xlabel(r'Alloy composition $x$', fontsize=18)\n",
      "#ax.set_xlabel(r'$x$ in Cu$_{2+x/4}$Sn$_{1-x/4}$S$_3$')\n",
      "ax.axis(xmin = -0.05, xmax = 1.05, ymin = -15, ymax=65)\n",
      "ax.tick_params(axis='x', labelsize=18)\n",
      "ax.tick_params(axis='y', labelsize=18)\n",
      "\n",
      "#ax.plot([0.05, 0.05], [0, 20], '-k')\n",
      "savefig('cts_314_mix.pdf', bbox_inches='tight')"
     ],
     "language": "python",
     "metadata": {},
     "outputs": [
      {
       "output_type": "stream",
       "stream": "stdout",
       "text": [
        "0.000\t4.115\n",
        "0.000\t0.669\n",
        "0.000\t4.942\n",
        "0.000\t0.916\n",
        "0.000\t2.651\n",
        "0.000\t0.000\n",
        "0.125\t-0.395\n",
        "0.125\t1.237\n",
        "0.125\t0.691\n",
        "0.125\t2.499\n",
        "0.125\t0.727\n",
        "0.250\t-2.205\n",
        "0.250\t-1.137\n",
        "0.250\t-0.144\n",
        "0.250\t-0.064\n",
        "0.250\t0.522\n",
        "0.500\t-2.022\n",
        "0.500\t1.410\n",
        "0.500\t-0.111\n",
        "0.500\t-1.831\n",
        "0.750\t0.760\n",
        "0.750\t2.430\n",
        "1.000\t0.000\n"
       ]
      },
      {
       "metadata": {},
       "output_type": "display_data",
       "png": "[encoded data removed]",
       "text": [
        "<matplotlib.figure.Figure at 0x4059790>"
       ]
      }
     ],
     "prompt_number": 25
    },
    {
     "cell_type": "markdown",
     "metadata": {},
     "source": [
      "##CZTS"
     ]
    },
    {
     "cell_type": "code",
     "collapsed": false,
     "input": [
      "case = 'cu_sn'\n",
      "if case == 'cu_sn':\n",
      "    cu_dat = np.array([48, 50, 52, 54])\n",
      "    sn_dat = np.array([24, 22, 20, 18])\n",
      "    zn_dat = 96 - cu_dat - sn_dat\n",
      "    data_file = 'czts_cu_sn'\n",
      "else:\n",
      "    cu_dat = np.array([48, 56, 64, 72])\n",
      "    sn_dat = np.array([24, 24, 24, 24])\n",
      "    zn_dat = 96 - cu_dat - sn_dat\n",
      "    data_file = 'czts_cu_zn'\n",
      "print zn_dat\n",
      "\n",
      "if local:\n",
      "    f = open(data_file, 'r')\n",
      "    x, E = pickle.load(f)\n",
      "    f.close()\n",
      "else:\n",
      "    calcs = MassExtract(dir_CZTS)\n",
      "    seeds = range(1,17)\n",
      "    x = []\n",
      "    E = []\n",
      "    for cu, sn, zn in zip(cu_dat, sn_dat, zn_dat):\n",
      "        x.append(1.0*cu)\n",
      "        Es = []\n",
      "        for seed in seeds:\n",
      "            key = '/%s_%d_%d_%d_96_seed_%d_mc/non-magnetic' %(case, cu, sn, zn, seed)\n",
      "            if key in calcs.keys():\n",
      "                e = float(calcs[key].energy_sigma0)\n",
      "                Es.append(e)\n",
      "        E.append(Es)\n",
      "        print x\n",
      "    f = open(data_file, 'w')\n",
      "    pickle.dump([x,E],f)\n",
      "    f.close()"
     ],
     "language": "python",
     "metadata": {},
     "outputs": [
      {
       "output_type": "stream",
       "stream": "stdout",
       "text": [
        "[24 24 24 24]\n",
        "[48.0]"
       ]
      },
      {
       "output_type": "stream",
       "stream": "stdout",
       "text": [
        "\n",
        "[48.0, 50.0]\n",
        "[48.0, 50.0, 52.0]\n",
        "[48.0, 50.0, 52.0, 54.0]\n"
       ]
      }
     ],
     "prompt_number": 26
    },
    {
     "cell_type": "code",
     "collapsed": false,
     "input": [
      "f = open('czts_cu_sn', 'r')\n",
      "x, E = pickle.load(f)\n",
      "f.close()\n",
      "\n",
      "print x,E\n",
      "x = np.array(x)\n",
      "end_comp = -1\n",
      "x -= x[0]\n",
      "x_true = x.copy()\n",
      "\n",
      "x /=  float(x[end_comp])\n",
      "x_true /= 144-128\n",
      "\n",
      "\n",
      "\n",
      "fig = figure(figsize=(6,6))\n",
      "ax = gca()\n",
      "for i in range(len(x)):\n",
      "    for j in range(len(E[i])):\n",
      "        y = E[i][j] - (x[end_comp]-x[i]) * min(E[0]) -  x[i] * min(E[end_comp])\n",
      "        \n",
      "        y *= 1000 /(2*96)\n",
      "        ax.plot(x[i], y, 'kx', markersize=12, markeredgewidth=2)\n",
      "        print '%.3f\\t%.3f'%(x_true[i], y)\n",
      "        ax.plot([0,1],[0,0], 'k-')\n",
      "        \n",
      "ax.set_ylabel(r'$\\Delta_m H$ [meV/atom]')\n",
      "ax.text(0.1, 7, r'Cu$_{2+x/4}$Sn$_{1-x/4}$ZnS$_4$')\n",
      "ax.set_xlabel(r'$x$')\n",
      "ax.axis(xmin = -0.05, xmax = 1.05, ymin = -10, ymax=10)\n"
     ],
     "language": "python",
     "metadata": {},
     "outputs": [
      {
       "output_type": "stream",
       "stream": "stdout",
       "text": [
        "[48.0, 50.0, 52.0, 54.0] [[-717.28651244, -716.80984975, -717.28888956, -717.40907689], [-710.47391133, -710.41834463, -710.33539021], [-704.12826314, -704.16233571, -704.17843462], [-697.15661593, -697.14737003, -697.14877285]]\n",
        "0.000\t0.613\n",
        "0.000\t2.996\n",
        "0.000\t0.601\n",
        "0.000\t0.000\n",
        "0.125\t0.922\n",
        "0.125\t1.200\n",
        "0.125\t1.614"
       ]
      },
      {
       "output_type": "stream",
       "stream": "stdout",
       "text": [
        "\n",
        "0.250\t-1.104\n",
        "0.250\t-1.274\n",
        "0.250\t-1.355\n",
        "0.375\t0.000\n",
        "0.375\t0.046\n",
        "0.375\t0.039\n"
       ]
      },
      {
       "metadata": {},
       "output_type": "pyout",
       "prompt_number": 27,
       "text": [
        "(-0.05, 1.05, -10, 10)"
       ]
      },
      {
       "metadata": {},
       "output_type": "display_data",
       "png": "[encoded data removed]",
       "text": [
        "<matplotlib.figure.Figure at 0x405cc90>"
       ]
      }
     ],
     "prompt_number": 27
    },
    {
     "cell_type": "code",
     "collapsed": false,
     "input": [
      "f = open('czts_cu_zn', 'r')\n",
      "x, E = pickle.load(f)\n",
      "f.close()\n",
      "\n",
      "\n",
      "end_comp = -1\n",
      "x -= x[0]\n",
      "x_true = x.copy()\n",
      "\n",
      "x /=  float(x[end_comp])\n",
      "x_true /= 144-128\n",
      "\n",
      "print x, x_true\n",
      "\n",
      "fig = figure(figsize=(6,6))\n",
      "ax = gca()\n",
      "for i in range(len(x)):\n",
      "    for j in range(len(E[i])):\n",
      "        y = E[i][j] - (x[end_comp]-x[i]) * min(E[0]) -  x[i] * min(E[end_comp])\n",
      "        \n",
      "        y *= 1000 /(2*96)\n",
      "        ax.plot(x[i], y, 'kx', markersize=12, markeredgewidth =2)\n",
      "        print '%.3f\\t%.3f'%(x_true[i], y)\n",
      "        ax.plot([0,1],[0,0], 'k-')\n",
      "        \n",
      "ax.set_ylabel(r'$\\Delta_m H$ [meV/atom]')\n",
      "ax.text(0.1, 7, r'Cu$_{2+x}$SnZn$_{1-x}$S$_4$')\n",
      "ax.set_xlabel(r'$x$')\n",
      "ax.axis(xmin = -0.05, xmax = 1.05, ymin = -10, ymax=10)\n",
      "\n"
     ],
     "language": "python",
     "metadata": {},
     "outputs": [
      {
       "output_type": "stream",
       "stream": "stdout",
       "text": [
        "[ 0.          0.33333333  0.66666667  1.        ] [ 0.   0.5  1.   1.5]\n",
        "0.000\t0.613\n",
        "0.000\t2.996\n",
        "0.000\t0.601\n",
        "0.000\t0.000\n",
        "0.500\t0.777\n",
        "0.500\t1.216\n",
        "0.500\t1.379\n",
        "1.000\t0.081"
       ]
      },
      {
       "output_type": "stream",
       "stream": "stdout",
       "text": [
        "\n",
        "1.000\t-0.132\n",
        "1.000\t-0.153\n",
        "1.500\t0.000\n",
        "1.500\t0.000\n"
       ]
      },
      {
       "metadata": {},
       "output_type": "pyout",
       "prompt_number": 23,
       "text": [
        "(-0.05, 1.05, -10, 10)"
       ]
      },
      {
       "metadata": {},
       "output_type": "display_data",
       "png": "[encoded data removed]",
       "text": [
        "<matplotlib.figure.Figure at 0x475a3d0>"
       ]
      }
     ],
     "prompt_number": 23
    }
   ],
   "metadata": {}
  }
 ]
}