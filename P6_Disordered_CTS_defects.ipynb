{
 "metadata": {
  "name": "",
  "signature": "sha256:da50daf23bafc7208c03501329de748d25c41b013cbcfea67d2341a6124feccc"
 },
 "nbformat": 3,
 "nbformat_minor": 0,
 "worksheets": [
  {
   "cells": [
    {
     "cell_type": "markdown",
     "metadata": {},
     "source": [
      "## Disorder and CTS defects\n",
      "\n",
      "\n"
     ]
    },
    {
     "cell_type": "code",
     "collapsed": false,
     "input": [
      "import os\n",
      "os.chdir('P6')"
     ],
     "language": "python",
     "metadata": {},
     "outputs": [],
     "prompt_number": 2
    },
    {
     "cell_type": "code",
     "collapsed": false,
     "input": [
      "local = False"
     ],
     "language": "python",
     "metadata": {},
     "outputs": [],
     "prompt_number": 12
    },
    {
     "cell_type": "code",
     "collapsed": false,
     "input": [
      "import numpy as np\n",
      "from pylada.vasp import MassExtract\n",
      "from tools import *\n",
      "from pylada.vasp import Extract\n",
      "\n",
      "%pylab inline"
     ],
     "language": "python",
     "metadata": {},
     "outputs": [
      {
       "output_type": "stream",
       "stream": "stdout",
       "text": [
        "Populating the interactive namespace from numpy and matplotlib\n"
       ]
      }
     ],
     "prompt_number": 3
    },
    {
     "cell_type": "code",
     "collapsed": false,
     "input": [
      "dir = '/scratch/pzawadzk/DISORDER/CZTS/cts_defets'"
     ],
     "language": "python",
     "metadata": {},
     "outputs": [],
     "prompt_number": 7
    },
    {
     "cell_type": "code",
     "collapsed": false,
     "input": [
      "from tools import remove_atoms\n",
      "from pylada.crystal import write\n",
      "def subs_S_4_P(structure, atoms = ['Cu', 'Sn', 'Zn'], conf=[4,0,0]):\n",
      "    from pylada.crystal import neighbors\n",
      "    structure_tmp = structure.copy()\n",
      "\n",
      "    index_list = range(len(structure))\n",
      "    for id in index_list:\n",
      "        atom = structure_tmp[id]\n",
      "        if atom.type == 'S':\n",
      "            p = atom.pos\n",
      "            neighs = [n for n in neighbors(structure, 4, p)]\n",
      "            count = [0,0,0]\n",
      "            for n in neighs:\n",
      "                for i in range(3):\n",
      "                  if n[0].type == atoms[i]:\n",
      "                    count[i]  +=1\n",
      "            if count == conf:\n",
      "                atom.type = 'P'\n",
      "                #print count\n",
      "                \n",
      "    return structure_tmp    "
     ],
     "language": "python",
     "metadata": {},
     "outputs": [],
     "prompt_number": 4
    },
    {
     "cell_type": "code",
     "collapsed": false,
     "input": [
      "if not local: calcs = MassExtract(dir, )"
     ],
     "language": "python",
     "metadata": {},
     "outputs": [],
     "prompt_number": 13
    },
    {
     "cell_type": "code",
     "collapsed": false,
     "input": [
      "if not local:\n",
      "    E0 = {}\n",
      "    for element in calcs.total_energy.keys():\n",
      "        for i in [1,4,11,20]:\n",
      "            if 'relax' not in element  and 'old' not in element:\n",
      "                if 'cu_48_72_seed_%d'%i in element:\n",
      "                    E0[i] = calcs.total_energy[element] \n",
      "                \n"
     ],
     "language": "python",
     "metadata": {},
     "outputs": [],
     "prompt_number": 21
    },
    {
     "cell_type": "code",
     "collapsed": false,
     "input": [
      "E0"
     ],
     "language": "python",
     "metadata": {},
     "outputs": [
      {
       "metadata": {},
       "output_type": "pyout",
       "prompt_number": 22,
       "text": [
        "{1: array(-544.87484496) * eV,\n",
        " 4: array(-545.06343123) * eV,\n",
        " 11: array(-544.33610037) * eV,\n",
        " 20: array(-544.79021404) * eV}"
       ]
      }
     ],
     "prompt_number": 22
    },
    {
     "cell_type": "code",
     "collapsed": false,
     "input": [
      "if not local:\n",
      "    data = {}\n",
      "    for element in calcs.total_energy.keys():\n",
      "        for i in [1,4,11,20]:\n",
      "            for j in [1,2]:\n",
      "                #if 'cu_40_72_seed' in element:\n",
      "                if 'cu_49_72_seed_%d_%d'%(i,j) in element:\n",
      "                    if 'relax' not in element  and 'old' not in element:\n",
      "                        try:\n",
      "                            calc = Extract(calcs.directory[element])\n",
      "                            count, conf_count = count_configurations_5(calc.structure,'S', atoms = ['Cu','Zn','Sn' ])\n",
      "                            dE = calcs.total_energy[element]- E0[i]\n",
      "                            if  conf_count[-1] == 0:\n",
      "                                print element\n",
      "                            if conf_count[-1] not in data.keys():\n",
      "                                data[conf_count[-1]] = []\n",
      "                            data[conf_count[-1]].append(dE)\n",
      "                            #print element, conf_count[-1], dE\n",
      "                            str_tmp = subs_S_4_P(calc.structure)\n",
      "                            write.poscar(str_tmp, 'str_%d_%d_cu4_%d.vasp'%(i,j,conf_count[-1]), vasp5=True)\n",
      "                        except:\n",
      "                            print 'error'"
     ],
     "language": "python",
     "metadata": {},
     "outputs": [
      {
       "output_type": "stream",
       "stream": "stdout",
       "text": [
        "/cu_49_72_seed_4_2_count_21_50/non-magnetic\n",
        "/cu_49_72_seed_1_2_count_21_50/non-magnetic"
       ]
      },
      {
       "output_type": "stream",
       "stream": "stdout",
       "text": [
        "\n",
        "/cu_49_72_seed_20_2_count_21_50/non-magnetic"
       ]
      },
      {
       "output_type": "stream",
       "stream": "stdout",
       "text": [
        "\n",
        "/cu_49_72_seed_11_2_count_23_46/non-magnetic"
       ]
      },
      {
       "output_type": "stream",
       "stream": "stdout",
       "text": [
        "\n"
       ]
      }
     ],
     "prompt_number": 38
    },
    {
     "cell_type": "code",
     "collapsed": false,
     "input": [
      "data"
     ],
     "language": "python",
     "metadata": {},
     "outputs": [
      {
       "metadata": {},
       "output_type": "pyout",
       "prompt_number": 39,
       "text": [
        "{0.0: [array(1.5752822099999548) * eV,\n",
        "  array(1.681031599999983) * eV,\n",
        "  array(1.6117185499999778) * eV,\n",
        "  array(1.345244330000014) * eV],\n",
        " 1.0: [array(2.157558520000066) * eV,\n",
        "  array(1.8964884200000824) * eV,\n",
        "  array(2.2041161500000044) * eV,\n",
        "  array(2.3078120400000444) * eV,\n",
        "  array(2.1696851799999877) * eV,\n",
        "  array(2.374021149999976) * eV,\n",
        "  array(2.6436416399999416) * eV],\n",
        " 2.0: [array(3.0103857799999787) * eV,\n",
        "  array(2.885123990000011) * eV,\n",
        "  array(3.027742750000016) * eV,\n",
        "  array(3.015369289999967) * eV,\n",
        "  array(2.9299680200000466) * eV,\n",
        "  array(2.9302990800000543) * eV,\n",
        "  array(2.9232872100000122) * eV],\n",
        " 3.0: [array(3.5059073999999555) * eV,\n",
        "  array(3.491906800000038) * eV,\n",
        "  array(3.471726320000016) * eV,\n",
        "  array(3.5641122100000757) * eV,\n",
        "  array(3.52003427000011) * eV,\n",
        "  array(3.668980319999946) * eV],\n",
        " 4.0: [array(4.2012864400001035) * eV, array(4.281311159999973) * eV]}"
       ]
      }
     ],
     "prompt_number": 39
    },
    {
     "cell_type": "code",
     "collapsed": false,
     "input": [
      "x = []\n",
      "Em = []\n",
      "Es = []\n",
      "for key in sort(data.keys()):\n",
      "    x.append(key)\n",
      "    Em.append( np.mean(data[key]))\n",
      "    Es.append( np.std(data[key]))\n",
      "Em = np.array(Em)\n",
      "ref_0 = Em[0]\n",
      "Em -= ref_0\n",
      "print Em"
     ],
     "language": "python",
     "metadata": {},
     "outputs": [
      {
       "output_type": "stream",
       "stream": "stdout",
       "text": [
        "[ 0.          0.69715556  1.4069917   1.98379205  2.68797963]\n"
       ]
      }
     ],
     "prompt_number": 40
    },
    {
     "cell_type": "code",
     "collapsed": false,
     "input": [
      "[a, b] = np.polyfit(x, Em, 1)\n",
      "x_fit = np.linspace(0,4, 5)\n",
      "E_fit = a*x_fit +b"
     ],
     "language": "python",
     "metadata": {},
     "outputs": [],
     "prompt_number": 41
    },
    {
     "cell_type": "code",
     "collapsed": false,
     "input": [
      "print a,b"
     ],
     "language": "python",
     "metadata": {},
     "outputs": [
      {
       "output_type": "stream",
       "stream": "stdout",
       "text": [
        "0.666259574643 0.0226646372857\n"
       ]
      }
     ],
     "prompt_number": 42
    },
    {
     "cell_type": "code",
     "collapsed": false,
     "input": [
      "figure(figsize=(4,5))\n",
      "ax = gca()\n",
      "\n",
      "#plot(x, N, '-x', markeredgewidth=2, markersize=10)\n",
      "#plt.errorbar(x, Em, yerr=Es, fmt='xb')\n",
      "\n",
      "for key in data.keys():\n",
      "    for point in data[key]:\n",
      "        point = point.__float__() - ref_0\n",
      "        \n",
      "        ax.plot([point],[key,],  'bx', markersize=10, markeredgewidth=2)\n",
      "        \n",
      "        \n",
      "plot(E_fit, x_fit, '-b')\n",
      "ax.axis(ymin=-0.3, ymax=4.5, xmin=-0.3, xmax=2.9)\n",
      "\n",
      "ax.yaxis.set_major_locator(FixedLocator(list(np.linspace(0.0,4,5))))\n",
      "ax.xaxis.set_major_locator(FixedLocator(list(np.linspace(0., 2.5,6))))\n",
      "\n",
      "\n",
      "\n",
      "#ax.set_ylabel('$n(\\mathrm{S-Cu}_4)$')\n",
      "\n",
      "ax.set_xlabel('$\\Delta E$ (eV)') \n",
      "plt.setp(ax.get_yticklabels(), visible=False)\n"
     ],
     "language": "python",
     "metadata": {},
     "outputs": [
      {
       "metadata": {},
       "output_type": "pyout",
       "prompt_number": 71,
       "text": [
        "[None, None, None, None, None]"
       ]
      },
      {
       "metadata": {},
       "output_type": "display_data",
       "png": "[encoded data removed]",
       "text": [
        "<matplotlib.figure.Figure at 0x7cd2390>"
       ]
      }
     ],
     "prompt_number": 71
    },
    {
     "cell_type": "code",
     "collapsed": false,
     "input": [
      "ref_0"
     ],
     "language": "python",
     "metadata": {},
     "outputs": [
      {
       "metadata": {},
       "output_type": "pyout",
       "prompt_number": 49,
       "text": [
        "1.5533191724999824"
       ]
      }
     ],
     "prompt_number": 49
    },
    {
     "cell_type": "code",
     "collapsed": false,
     "input": [
      "from tools import remove_atoms\n",
      "from pylada.crystal import write"
     ],
     "language": "python",
     "metadata": {},
     "outputs": []
    },
    {
     "cell_type": "code",
     "collapsed": false,
     "input": [
      "calc = Extract(os.path.join(dir, 'cu_49_72_seed_11_1_count_20_52/non-magnetic'))\n",
      "len(calc.structure)\n",
      "str_tmp = subs_S_4_P(calc.structure)\n",
      "write.poscar(str_tmp, '/home/pzawadzk/test.vasp', vasp5=True)"
     ],
     "language": "python",
     "metadata": {},
     "outputs": []
    }
   ],
   "metadata": {}
  }
 ]
}