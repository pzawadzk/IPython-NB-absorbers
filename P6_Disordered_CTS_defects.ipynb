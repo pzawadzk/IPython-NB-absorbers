{
 "metadata": {
  "name": "",
  "signature": "sha256:ec140192096d1f79dec60d92033d9a9c4d01c52db8799b3395e8aa5453bd77b1"
 },
 "nbformat": 3,
 "nbformat_minor": 0,
 "worksheets": [
  {
   "cells": [
    {
     "cell_type": "markdown",
     "metadata": {},
     "source": [
      "## Disorder and CTS defects\n",
      "\n",
      "\n"
     ]
    },
    {
     "cell_type": "code",
     "collapsed": false,
     "input": [
      "import os\n",
      "os.chdir('P6')"
     ],
     "language": "python",
     "metadata": {},
     "outputs": [],
     "prompt_number": 1
    },
    {
     "cell_type": "code",
     "collapsed": false,
     "input": [
      "local = False"
     ],
     "language": "python",
     "metadata": {},
     "outputs": [],
     "prompt_number": 2
    },
    {
     "cell_type": "code",
     "collapsed": false,
     "input": [
      "import numpy as np\n",
      "from pylada.vasp import MassExtract\n",
      "from tools import *\n",
      "from pylada.vasp import Extract\n",
      "from scipy import stats\n",
      "%pylab inline"
     ],
     "language": "python",
     "metadata": {},
     "outputs": [
      {
       "output_type": "stream",
       "stream": "stdout",
       "text": [
        "Populating the interactive namespace from numpy and matplotlib\n"
       ]
      }
     ],
     "prompt_number": 3
    },
    {
     "cell_type": "code",
     "collapsed": false,
     "input": [
      "dir = '/scratch/pzawadzk/DISORDER/CZTS/cts_defets'"
     ],
     "language": "python",
     "metadata": {},
     "outputs": [],
     "prompt_number": 4
    },
    {
     "cell_type": "code",
     "collapsed": false,
     "input": [
      "from tools import remove_atoms\n",
      "from pylada.crystal import write\n",
      "def subs_S_4_P(structure, atoms = ['Cu', 'Sn', 'Zn'], conf=[4,0,0]):\n",
      "    from pylada.crystal import neighbors\n",
      "    structure_tmp = structure.copy()\n",
      "\n",
      "    index_list = range(len(structure))\n",
      "    for id in index_list:\n",
      "        atom = structure_tmp[id]\n",
      "        if atom.type == 'S':\n",
      "            p = atom.pos\n",
      "            neighs = [n for n in neighbors(structure, 4, p)]\n",
      "            count = [0,0,0]\n",
      "            for n in neighs:\n",
      "                for i in range(3):\n",
      "                  if n[0].type == atoms[i]:\n",
      "                    count[i]  +=1\n",
      "            if count == conf:\n",
      "                atom.type = 'P'\n",
      "                #print count  \n",
      "    return structure_tmp    "
     ],
     "language": "python",
     "metadata": {},
     "outputs": [],
     "prompt_number": 5
    },
    {
     "cell_type": "code",
     "collapsed": false,
     "input": [
      "if not local: calcs = MassExtract(dir, )"
     ],
     "language": "python",
     "metadata": {},
     "outputs": [],
     "prompt_number": 6
    },
    {
     "cell_type": "code",
     "collapsed": false,
     "input": [
      "if not local:\n",
      "    E0 = {}\n",
      "    for element in calcs.total_energy.keys():\n",
      "        for i in [1,4,11,20]:\n",
      "            if 'relax' not in element  and 'old' not in element:\n",
      "                if 'cu_48_72_seed_%d'%i in element:\n",
      "                    E0[i] = calcs.total_energy[element] \n",
      "                \n"
     ],
     "language": "python",
     "metadata": {},
     "outputs": [],
     "prompt_number": 7
    },
    {
     "cell_type": "code",
     "collapsed": false,
     "input": [
      "E0"
     ],
     "language": "python",
     "metadata": {},
     "outputs": [
      {
       "metadata": {},
       "output_type": "pyout",
       "prompt_number": 8,
       "text": [
        "{1: array(-544.87484496) * eV,\n",
        " 4: array(-545.06343123) * eV,\n",
        " 11: array(-544.33610037) * eV,\n",
        " 20: array(-544.79021404) * eV}"
       ]
      }
     ],
     "prompt_number": 8
    },
    {
     "cell_type": "code",
     "collapsed": false,
     "input": [
      "if not local:\n",
      "    data = {}\n",
      "    for element in calcs.total_energy.keys():\n",
      "        for i in [1,4,11,20]:\n",
      "            for j in [1,2]:\n",
      "                #if 'cu_40_72_seed' in element:\n",
      "                if 'cu_49_72_seed_%d_%d'%(i,j) in element:\n",
      "                    if 'relax' not in element  and 'old' not in element:\n",
      "                        try:\n",
      "                            calc = Extract(calcs.directory[element])\n",
      "                            count, conf_count = count_configurations_5(calc.structure,'S', atoms = ['Cu','Zn','Sn' ])\n",
      "                            dE = calcs.total_energy[element]- E0[i]\n",
      "                            if  conf_count[-1] == 0:\n",
      "                                print element\n",
      "                            if conf_count[-1] not in data.keys():\n",
      "                                data[conf_count[-1]] = []\n",
      "                            data[conf_count[-1]].append(dE)\n",
      "                            #print element, conf_count[-1], dE\n",
      "                            str_tmp = subs_S_4_P(calc.structure)\n",
      "                            print conf_count[-1], element\n",
      "                            write.poscar(str_tmp, 'str_%d_%d_cu4_%d.vasp'%(i,j,conf_count[-1]), vasp5=True)\n",
      "                        except:\n",
      "                            print 'error'"
     ],
     "language": "python",
     "metadata": {},
     "outputs": [
      {
       "output_type": "stream",
       "stream": "stdout",
       "text": [
        "2.0 /cu_49_72_seed_20_1_count_23_46/non-magnetic\n",
        "1.0"
       ]
      },
      {
       "output_type": "stream",
       "stream": "stdout",
       "text": [
        " /cu_49_72_seed_1_2_count_23_46/non-magnetic\n",
        "4.0"
       ]
      },
      {
       "output_type": "stream",
       "stream": "stdout",
       "text": [
        " /cu_49_72_seed_11_1_count_20_52/non-magnetic\n",
        "3.0"
       ]
      },
      {
       "output_type": "stream",
       "stream": "stdout",
       "text": [
        " /cu_49_72_seed_4_1_count_23_46/non-magnetic\n",
        "1.0"
       ]
      },
      {
       "output_type": "stream",
       "stream": "stdout",
       "text": [
        " /cu_49_72_seed_11_1_count_23_46/non-magnetic\n",
        "1.0"
       ]
      },
      {
       "output_type": "stream",
       "stream": "stdout",
       "text": [
        " /cu_49_72_seed_1_1_count_21_50/non-magnetic\n",
        "3.0"
       ]
      },
      {
       "output_type": "stream",
       "stream": "stdout",
       "text": [
        " /cu_49_72_seed_1_2_count_22_48/non-magnetic\n",
        "3.0"
       ]
      },
      {
       "output_type": "stream",
       "stream": "stdout",
       "text": [
        " /cu_49_72_seed_20_1_count_21_50/non-magnetic\n",
        "3.0"
       ]
      },
      {
       "output_type": "stream",
       "stream": "stdout",
       "text": [
        " /cu_49_72_seed_11_1_count_21_50/non-magnetic\n",
        "/cu_49_72_seed_4_2_count_21_50/non-magnetic"
       ]
      },
      {
       "output_type": "stream",
       "stream": "stdout",
       "text": [
        "\n",
        "0.0 /cu_49_72_seed_4_2_count_21_50/non-magnetic\n",
        "2.0"
       ]
      },
      {
       "output_type": "stream",
       "stream": "stdout",
       "text": [
        " /cu_49_72_seed_1_1_count_23_46/non-magnetic\n",
        "/cu_49_72_seed_1_2_count_21_50/non-magnetic"
       ]
      },
      {
       "output_type": "stream",
       "stream": "stdout",
       "text": [
        "\n",
        "0.0 /cu_49_72_seed_1_2_count_21_50/non-magnetic\n",
        "2.0"
       ]
      },
      {
       "output_type": "stream",
       "stream": "stdout",
       "text": [
        " /cu_49_72_seed_20_2_count_23_46/non-magnetic\n",
        "1.0"
       ]
      },
      {
       "output_type": "stream",
       "stream": "stdout",
       "text": [
        " /cu_49_72_seed_20_2_count_22_48/non-magnetic\n",
        "/cu_49_72_seed_20_2_count_21_50/non-magnetic"
       ]
      },
      {
       "output_type": "stream",
       "stream": "stdout",
       "text": [
        "\n",
        "0.0 /cu_49_72_seed_20_2_count_21_50/non-magnetic\n",
        "1.0"
       ]
      },
      {
       "output_type": "stream",
       "stream": "stdout",
       "text": [
        " /cu_49_72_seed_4_1_count_21_50/non-magnetic\n",
        "1.0"
       ]
      },
      {
       "output_type": "stream",
       "stream": "stdout",
       "text": [
        " /cu_49_72_seed_20_1_count_22_48/non-magnetic\n",
        "2.0"
       ]
      },
      {
       "output_type": "stream",
       "stream": "stdout",
       "text": [
        " /cu_49_72_seed_4_1_count_22_48/non-magnetic\n",
        "2.0"
       ]
      },
      {
       "output_type": "stream",
       "stream": "stdout",
       "text": [
        " /cu_49_72_seed_11_1_count_24_44/non-magnetic\n",
        "/cu_49_72_seed_11_2_count_23_46/non-magnetic"
       ]
      },
      {
       "output_type": "stream",
       "stream": "stdout",
       "text": [
        "\n",
        "0.0 /cu_49_72_seed_11_2_count_23_46/non-magnetic\n",
        "2.0"
       ]
      },
      {
       "output_type": "stream",
       "stream": "stdout",
       "text": [
        " /cu_49_72_seed_1_1_count_22_48/non-magnetic\n",
        "2.0"
       ]
      },
      {
       "output_type": "stream",
       "stream": "stdout",
       "text": [
        " /cu_49_72_seed_11_1_count_22_48/non-magnetic\n",
        "4.0"
       ]
      },
      {
       "output_type": "stream",
       "stream": "stdout",
       "text": [
        " /cu_49_72_seed_4_2_count_22_48/non-magnetic\n",
        "3.0"
       ]
      },
      {
       "output_type": "stream",
       "stream": "stdout",
       "text": [
        " /cu_49_72_seed_11_2_count_21_50/non-magnetic\n",
        "3.0"
       ]
      },
      {
       "output_type": "stream",
       "stream": "stdout",
       "text": [
        " /cu_49_72_seed_4_1_count_24_44/non-magnetic\n",
        "1.0"
       ]
      },
      {
       "output_type": "stream",
       "stream": "stdout",
       "text": [
        " /cu_49_72_seed_4_2_count_23_46/non-magnetic\n"
       ]
      }
     ],
     "prompt_number": 9
    },
    {
     "cell_type": "code",
     "collapsed": false,
     "input": [
      "count = 0\n",
      "for key in data.keys():\n",
      "    count += len(data[key])"
     ],
     "language": "python",
     "metadata": {},
     "outputs": [],
     "prompt_number": 10
    },
    {
     "cell_type": "code",
     "collapsed": false,
     "input": [
      "count"
     ],
     "language": "python",
     "metadata": {},
     "outputs": [
      {
       "metadata": {},
       "output_type": "pyout",
       "prompt_number": 11,
       "text": [
        "26"
       ]
      }
     ],
     "prompt_number": 11
    },
    {
     "cell_type": "code",
     "collapsed": false,
     "input": [
      "x = []\n",
      "Em = []\n",
      "Es = []\n",
      "for key in sort(data.keys()):\n",
      "    x.append(key)\n",
      "    Em.append( np.mean(data[key]))\n",
      "    Es.append( np.std(data[key]))\n",
      "Em = np.array(Em)\n",
      "ref_0 = Em[0]\n",
      "Em -= ref_0\n",
      "print Em"
     ],
     "language": "python",
     "metadata": {},
     "outputs": [
      {
       "output_type": "stream",
       "stream": "stdout",
       "text": [
        "[ 0.          0.69715556  1.4069917   1.98379205  2.68797963]\n"
       ]
      }
     ],
     "prompt_number": 12
    },
    {
     "cell_type": "code",
     "collapsed": false,
     "input": [
      "a, b, r_value, p_value, std_err = stats.linregress(x, Em)\n",
      "#[a, b] = np.polyfit(x, Em, 1)\n",
      "x_fit = np.linspace(0,4, 5)\n",
      "E_fit = a*x_fit +b"
     ],
     "language": "python",
     "metadata": {},
     "outputs": [],
     "prompt_number": 13
    },
    {
     "cell_type": "code",
     "collapsed": false,
     "input": [
      "r_value**2\n"
     ],
     "language": "python",
     "metadata": {},
     "outputs": [
      {
       "metadata": {},
       "output_type": "pyout",
       "prompt_number": 14,
       "text": [
        "0.99894610406002016"
       ]
      }
     ],
     "prompt_number": 14
    },
    {
     "cell_type": "code",
     "collapsed": false,
     "input": [
      "figure(figsize=(6, 4))\n",
      "ax = gca()\n",
      "\n",
      "for key in data.keys():\n",
      "    for point in data[key]:\n",
      "        point = point.__float__() - ref_0\n",
      "        \n",
      "        ax.plot([key,], [point-b], 'bo', markersize=6, markeredgewidth=0)\n",
      "              \n",
      "plot( x_fit, E_fit-b, '-b')\n",
      "\n",
      "plot([-0.2, 0.2], [2.4, 2.4], '-b')\n",
      "\n",
      "\n",
      "ax.text(0.3, 2.3, r'$\\Delta E = %.2f\\, n(\\mathrm{S-Cu}_4)$'%(a), fontsize=12)\n",
      "#ax.text(0.7, 2.0, r' $+ %.2f$'%(b))\n",
      "ax.text(0.3, 1.9, r'$R^2 = %.3f$'%(r_value**2), fontsize=12)\n",
      "ax.axis(xmin=-0.3, xmax=4.5, ymin=-0.5, ymax=2.9)\n",
      "\n",
      "ax.xaxis.set_major_locator(FixedLocator(list(np.linspace(0.0,4,5))))\n",
      "ax.yaxis.set_major_locator(FixedLocator(list(np.linspace(0., 2.5,6))))\n",
      "\n",
      "ax.set_xlabel('Number of S-Cu$_4$ motifs', fontsize=12)\n",
      "ax.set_ylabel('$\\Delta E$ (eV)', fontsize=12)\n",
      "ax.tick_params(axis='x', labelsize=12)\n",
      "ax.tick_params(axis='y', labelsize=12)\n",
      "#plt.setp(ax.get_yticklabels(), visible=False)\n",
      "savefig('Energy_Cu_Sn2.pdf', bbox_inches='tight')"
     ],
     "language": "python",
     "metadata": {},
     "outputs": [
      {
       "metadata": {},
       "output_type": "display_data",
       "png": "[encoded data removed]",
       "text": [
        "<matplotlib.figure.Figure at 0x4f0ce90>"
       ]
      }
     ],
     "prompt_number": 30
    },
    {
     "cell_type": "code",
     "collapsed": false,
     "input": [
      "ref_0"
     ],
     "language": "python",
     "metadata": {},
     "outputs": [
      {
       "metadata": {},
       "output_type": "pyout",
       "prompt_number": 15,
       "text": [
        "1.5533191724999824"
       ]
      }
     ],
     "prompt_number": 15
    },
    {
     "cell_type": "code",
     "collapsed": false,
     "input": [
      "from tools import remove_atoms\n",
      "from pylada.crystal import write"
     ],
     "language": "python",
     "metadata": {},
     "outputs": [],
     "prompt_number": 16
    },
    {
     "cell_type": "code",
     "collapsed": false,
     "input": [
      "calc = Extract('/scratch/pzawadzk/DISORDER/CZTS/MC/CTS/energy_dis_069/cu_50_72_seed_3_count_16_56/non-magnetic')\n",
      "len(calc.structure)\n",
      "structure = subs_S_4_P(calc.structure)\n",
      "structure = remove_atoms(structure, atoms_0 = ['S', 'P'], confs = [[4, 0, 0],[2, 2, 0]], remove_metal=True)\n",
      "\n",
      "write.poscar(structure, 'disordered_cu4.vasp', vasp5=True)"
     ],
     "language": "python",
     "metadata": {},
     "outputs": [],
     "prompt_number": 96
    },
    {
     "cell_type": "code",
     "collapsed": false,
     "input": [
      "calc = Extract('/scratch/pzawadzk/DISORDER/CZTS/MC/CTS/energy_cc_069/CTS_cc_50_144_ncu4_4_seed_1/non-magnetic')\n",
      "len(calc.structure)\n",
      "structure = subs_S_4_P(calc.structure)\n",
      "structure = remove_atoms(structure, atoms_0 = ['S', 'P'], confs = [[4, 0, 0],[2, 2, 0]], remove_metal=True)\n",
      "write.poscar(structure, 'ordered_cu4.vasp', vasp5=True)\n"
     ],
     "language": "python",
     "metadata": {},
     "outputs": [],
     "prompt_number": 93
    },
    {
     "cell_type": "code",
     "collapsed": false,
     "input": [],
     "language": "python",
     "metadata": {},
     "outputs": []
    }
   ],
   "metadata": {}
  }
 ]
}