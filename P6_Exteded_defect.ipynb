{
 "metadata": {
  "name": "",
  "signature": "sha256:469d9de6dd070af47582bcf43cb9589e132a73ccad76a95a5d227144cf08e5de"
 },
 "nbformat": 3,
 "nbformat_minor": 0,
 "worksheets": [
  {
   "cells": [
    {
     "cell_type": "code",
     "collapsed": false,
     "input": [
      "import numpy as np\n",
      "%pylab inline\n",
      "from pylada.crystal import read, supercell, neighbors\n",
      "from tools import *\n",
      "from itertools import  combinations"
     ],
     "language": "python",
     "metadata": {},
     "outputs": [
      {
       "output_type": "stream",
       "stream": "stdout",
       "text": [
        "Populating the interactive namespace from numpy and matplotlib\n"
       ]
      }
     ],
     "prompt_number": 3
    },
    {
     "cell_type": "code",
     "collapsed": false,
     "input": [
      "structure = read.poscar('/home/pzawadzk/notebooks/cuxs/data_p107/POSCAR')\n",
      "atoms = ['Cu', 'Sn', 'Zn']\n",
      "k = [2,2,2]\n",
      "cell = structure.cell\n",
      "scell = np.array([[k[0], 0, 0], [0, k[1], 0], [0, 0, k[2]]])\n",
      "cell = np.dot(cell, scell)\n",
      "structure  = supercell(structure, cell)\n",
      "print cell\n",
      "\n",
      "all_atoms = []\n",
      "for atom in structure:\n",
      "    all_atoms.append(atom)\n",
      "print len(all_atoms)"
     ],
     "language": "python",
     "metadata": {},
     "outputs": [
      {
       "output_type": "stream",
       "stream": "stdout",
       "text": [
        "[[  6.69424191e+00   6.69424215e+00  -4.47652340e+00]\n",
        " [ -1.15969881e+01   1.15969883e+01   2.26313660e-06]\n",
        " [ -1.24126737e-02  -1.24084493e-02   1.26695525e+01]]\n",
        "96\n"
       ]
      }
     ],
     "prompt_number": 4
    },
    {
     "cell_type": "code",
     "collapsed": false,
     "input": [
      "index_X = -1 \n",
      "Sn_atoms = []\n",
      "Cu_atoms = []\n",
      "\n",
      "p_X = structure[index_X].pos\n",
      "neighs_X = [n for n in neighbors(structure, 4, p_X)]\n",
      "for nX in neighs_X:  \n",
      "    p_S = nX[0].pos\n",
      "    print 'S', all_atoms.index(nX[0])\n",
      "    neighs_S = [n for n in neighbors(structure, 4, p_S)]   \n",
      "    for nS in neighs_S:  \n",
      "        type =  nS[0].type \n",
      "        index = all_atoms.index(nS[0])\n",
      "        if type == 'Sn' and nS[0] != structure[index_X] and index not in Sn_atoms:\n",
      "            Sn_atoms.append(index)\n",
      "        elif type == 'Cu' and nS[0] != structure[index_X] and index not in Cu_atoms:\n",
      "            Cu_atoms.append(index)\n",
      "all_sites = Cu_atoms + Sn_atoms"
     ],
     "language": "python",
     "metadata": {},
     "outputs": [
      {
       "output_type": "stream",
       "stream": "stdout",
       "text": [
        "S 92\n",
        "S 69\n",
        "S 40\n",
        "S 42\n"
       ]
      }
     ],
     "prompt_number": 5
    },
    {
     "cell_type": "code",
     "collapsed": false,
     "input": [
      "print structure[index_X]"
     ],
     "language": "python",
     "metadata": {},
     "outputs": [
      {
       "output_type": "stream",
       "stream": "stdout",
       "text": [
        "Atom(6.67251, 4.71987, 9.51172, 'Sn', site=11)\n"
       ]
      }
     ],
     "prompt_number": 6
    },
    {
     "cell_type": "code",
     "collapsed": false,
     "input": [
      "print len(Sn_atoms),  len(Cu_atoms)\n",
      "print Sn_atoms, Cu_atoms, all_sites"
     ],
     "language": "python",
     "metadata": {},
     "outputs": [
      {
       "output_type": "stream",
       "stream": "stdout",
       "text": [
        "2 10\n",
        "[22, 10] [84, 39, 86, 63, 62, 61, 72, 25, 15, 38] [84, 39, 86, 63, 62, 61, 72, 25, 15, 38, 22, 10]\n"
       ]
      }
     ],
     "prompt_number": 7
    },
    {
     "cell_type": "code",
     "collapsed": false,
     "input": [
      "for i, comb in enumerate(combinations(all_sites, len(Sn_atoms))):\n",
      "    structure_tmp = structure.copy()\n",
      "    structure_tmp[index_X].type = 'Cu'\n",
      "    for index in all_sites:\n",
      "        if index in comb:\n",
      "            structure_tmp[index].type = 'Sn'\n",
      "        else:\n",
      "            structure_tmp[index].type = 'Cu'\n",
      "    count, dn_tot = count_configurations_5(structure_tmp, 'S', atoms = ['Cu','Zn', 'Sn'], )\n",
      "    #N_Cu = 0 \n",
      "    #for j, atom in enumerate(structure_tmp):\n",
      "    #    if atom.type == 'Cu':\n",
      "    #        N_Cu += 1\n",
      "    #print N_Cu\n",
      "    if dn_tot[9] + dn_tot[12] == 48:\n",
      "        print '###', i\n",
      "        print count, comb\n",
      "\n",
      "\n",
      "            \n",
      "print i"
     ],
     "language": "python",
     "metadata": {},
     "outputs": [
      {
       "output_type": "stream",
       "stream": "stdout",
       "text": [
        "65\n"
       ]
      }
     ],
     "prompt_number": 8
    },
    {
     "cell_type": "code",
     "collapsed": false,
     "input": [
      "dir0 = '/scratch/pzawadzk/DISORDER/CZTS/MC/CTS/data_defects'\n",
      "\n",
      "def get_anti_site_motifs(case = 'Cu_Sn'):\n",
      "    if case == 'Cu_Sn':\n",
      "        n0 = 14\n",
      "        delta = 1\n",
      "    else:\n",
      "        n0 = 5\n",
      "        delta = -1\n",
      "        \n",
      "    data = {}\n",
      "    for dir in os.listdir(dir0):\n",
      "        poscar = os.path.join(dir0, dir, 'poscar_N_Cu_Zn_Sn_.vasp')\n",
      "        if os.path.exists(poscar):\n",
      "            structure = read.poscar(poscar)\n",
      "            N = len(structure)\n",
      "            N_cu = 0\n",
      "            for atom in structure:\n",
      "                if atom.type == 'Cu':\n",
      "                    N_cu += 1\n",
      "            if N_cu == delta + 2* N//6:\n",
      "                count, dn_tot = count_configurations_5(structure, 'S', atoms = ['Cu','Zn', 'Sn'], )\n",
      "\n",
      "                if dn_tot[9] + dn_tot[12] +  dn_tot[n0] == N//2:\n",
      "                    if N not in data.keys():\n",
      "                        data[N] = []\n",
      "                    data[N].append(dn_tot[n0])\n",
      "    return data"
     ],
     "language": "python",
     "metadata": {},
     "outputs": [],
     "prompt_number": 9
    },
    {
     "cell_type": "code",
     "collapsed": false,
     "input": [
      "data = get_anti_site_motifs()\n",
      "x= []\n",
      "N= []\n",
      "for key in sort(data.keys()):\n",
      "    x.append(key)\n",
      "    N.append( min(data[key]))\n",
      "\n",
      "print x, N"
     ],
     "language": "python",
     "metadata": {},
     "outputs": []
    },
    {
     "cell_type": "code",
     "collapsed": false,
     "input": [
      "figure(figsize=(4,5))\n",
      "    \n",
      "ax = gca()\n",
      "\n",
      "plot(x, N, '-x', markeredgewidth=2, markersize=10)\n",
      "\n",
      "\n",
      "ax.axis(xmin=0, xmax=450, ymin=-0.3, ymax=4.5,)\n",
      "\n",
      "ax.yaxis.set_major_locator(FixedLocator(list(np.linspace(0.0,3,4))))\n",
      "ax.xaxis.set_major_locator(FixedLocator(list(np.linspace(100,400,4))))\n",
      "\n",
      "\n",
      "ax.set_ylabel('$n(\\mathrm{S-Cu}_4)$')\n",
      "\n",
      "ax.set_xlabel('Number of atoms') \n",
      "#plt.setp(ax.get_xticklabels(), visible=False)\n",
      "\n",
      "    \n"
     ],
     "language": "python",
     "metadata": {},
     "outputs": [
      {
       "metadata": {},
       "output_type": "pyout",
       "prompt_number": 21,
       "text": [
        "<matplotlib.text.Text at 0x5e5ec50>"
       ]
      },
      {
       "metadata": {},
       "output_type": "display_data",
       "png": "[encoded data removed]",
       "text": [
        "<matplotlib.figure.Figure at 0x4d716d0>"
       ]
      }
     ],
     "prompt_number": 21
    },
    {
     "cell_type": "code",
     "collapsed": false,
     "input": [
      "data = get_anti_site_motifs(case = 'Sn_Cu')\n",
      "x= []\n",
      "N= []\n",
      "for key in sort(data.keys()):\n",
      "    x.append(key)\n",
      "    N.append( min(data[key]))\n",
      "\n",
      "print x, N\n",
      "figure(figsize=(4,6))\n",
      "    \n",
      "ax = gca()\n",
      "\n",
      "plot(x, N, '-x', markeredgewidth=2, markersize=10)\n",
      "\n",
      "\n",
      "ax.axis(xmin=0, xmax=450, ymin=0, ymax=3.5)\n",
      "\n",
      "ax.yaxis.set_major_locator(FixedLocator(list(np.linspace(0.0,3,4))))\n",
      "ax.xaxis.set_major_locator(FixedLocator(list(np.linspace(100,400,4))))\n",
      "\n",
      "\n",
      "\n",
      "ax.set_ylabel('$n(\\mathrm{S-Cu}_4)$', fontsize=30)\n",
      "\n",
      "ax.set_xlabel('Number of atoms') \n",
      "#plt.setp(ax.get_xticklabels(), visible=False)\n"
     ],
     "language": "python",
     "metadata": {},
     "outputs": [
      {
       "output_type": "stream",
       "stream": "stdout",
       "text": [
        "[12, 48, 96, 120, 144, 180, 240, 432] [1.0, 0.0, 0.0, 0.0, 0.0, 0.0, 0.0, 0.0]\n"
       ]
      },
      {
       "metadata": {},
       "output_type": "pyout",
       "prompt_number": 11,
       "text": [
        "<matplotlib.text.Text at 0x545a910>"
       ]
      },
      {
       "metadata": {},
       "output_type": "display_data",
       "png": "[encoded data removed]",
       "text": [
        "<matplotlib.figure.Figure at 0x4c7acd0>"
       ]
      }
     ],
     "prompt_number": 11
    }
   ],
   "metadata": {}
  }
 ]
}