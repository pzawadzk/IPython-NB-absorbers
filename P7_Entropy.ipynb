{
 "metadata": {
  "name": "",
  "signature": "sha256:776242410d338e20a4a5b2fbf06e7279fb8d53095a1be78e3e17f46aa2106dce"
 },
 "nbformat": 3,
 "nbformat_minor": 0,
 "worksheets": [
  {
   "cells": [
    {
     "cell_type": "markdown",
     "metadata": {},
     "source": [
      "## Entropy calcualtions for clusters"
     ]
    },
    {
     "cell_type": "code",
     "collapsed": false,
     "input": [
      "import numpy as np\n",
      "import os\n",
      "from pylada.crystal import  read, write, supercell\n",
      "import sys\n",
      "from pylada.crystal import neighbors\n",
      "from tools import count_configurations_5\n",
      "import pickle\n",
      "%pylab inline"
     ],
     "language": "python",
     "metadata": {},
     "outputs": [
      {
       "output_type": "stream",
       "stream": "stdout",
       "text": [
        "Populating the interactive namespace from numpy and matplotlib\n"
       ]
      }
     ],
     "prompt_number": 1
    },
    {
     "cell_type": "code",
     "collapsed": false,
     "input": [
      "#Processed data\n",
      "data_dir = 'data_p107'\n",
      "if not os.path.exists(data_dir):\n",
      "    os.makedirs(data_dir)   \n",
      "poscar = os.path.join(data_dir, 'POSCAR')\n",
      "#contain entorpy as a function of coordination nubmer\n",
      "entropy_czts_3104_2114 = os.path.join(data_dir, 'entropy_czts_3104_2114')\n",
      "entropy_czts_1124_2114 = os.path.join(data_dir, 'entropy_czts_1124_2114')\n",
      "entropy_cts_3104_2204 = os.path.join(data_dir, 'entropy_cts_3104_2204')"
     ],
     "language": "python",
     "metadata": {},
     "outputs": [],
     "prompt_number": 2
    },
    {
     "cell_type": "code",
     "collapsed": false,
     "input": [
      "from itertools import product\n",
      "from itertools import permutations, combinations \n",
      "prod = product(['Cu', 'Sn' ], repeat=6)\n",
      "#prod = combinations (['Sn', 'Cu', 'Cu', 'Cu' ], 6)\n"
     ],
     "language": "python",
     "metadata": {},
     "outputs": [],
     "prompt_number": 3
    },
    {
     "cell_type": "markdown",
     "metadata": {},
     "source": [
      "## Cluster of 13 motifs"
     ]
    },
    {
     "cell_type": "code",
     "collapsed": false,
     "input": [
      "str213 = read.poscar(poscar)\n",
      "str213 = supercell(str213, np.dot(str213.cell, 3*np.eye(3)))\n",
      "structure = str213"
     ],
     "language": "python",
     "metadata": {},
     "outputs": [],
     "prompt_number": 4
    },
    {
     "cell_type": "code",
     "collapsed": false,
     "input": [
      "S_list = [ structure[100]]\n",
      "neighs= [n for n in neighbors(structure, 52, structure[100].pos)]\n",
      "for n in neighs:\n",
      "    if n[0].type == 'S':\n",
      "        S_list.append(n[0])\n",
      "    if len(S_list) ==13:\n",
      "        break\n",
      "    count = 0\n",
      "           "
     ],
     "language": "python",
     "metadata": {},
     "outputs": [],
     "prompt_number": 5
    },
    {
     "cell_type": "code",
     "collapsed": false,
     "input": [
      "data = {}\n",
      "for i in range(13):\n",
      "    neighs= [n for n in neighbors(structure, 4, S_list[i].pos)]\n",
      "    data[i] = []\n",
      "    for n in neighs:\n",
      "        data[i].append(n[0])"
     ],
     "language": "python",
     "metadata": {},
     "outputs": [],
     "prompt_number": 6
    },
    {
     "cell_type": "code",
     "collapsed": false,
     "input": [
      "\n",
      "all_atoms = []\n",
      "for i in range(13):\n",
      "    for j in range(4):\n",
      "        if data[i][j] not in all_atoms:\n",
      "            all_atoms.append(data[i][j])\n",
      "            \n",
      "    "
     ],
     "language": "python",
     "metadata": {},
     "outputs": [],
     "prompt_number": 7
    },
    {
     "cell_type": "code",
     "collapsed": false,
     "input": [
      "atoms = S_list + all_atoms\n",
      "for i in range(len(structure))[::-1]:\n",
      "    if structure[i] not in atoms:\n",
      "        structure.pop(i)"
     ],
     "language": "python",
     "metadata": {},
     "outputs": [],
     "prompt_number": 8
    },
    {
     "cell_type": "code",
     "collapsed": false,
     "input": [
      "all_counts = zeros(5)\n",
      "for atom in all_atoms:\n",
      "    count = 0\n",
      "    neighs= [n for n in neighbors(structure, 4, atom.pos)]\n",
      "    for n in neighs:\n",
      "        if n[-1]*structure.scale <3.0:\n",
      "            count += 1\n",
      "    all_counts[count] += 1"
     ],
     "language": "python",
     "metadata": {},
     "outputs": [],
     "prompt_number": 9
    },
    {
     "cell_type": "code",
     "collapsed": false,
     "input": [
      "write.poscar(structure, '/home/pzawadzk/cluster.vasp', vasp5=True)"
     ],
     "language": "python",
     "metadata": {},
     "outputs": [],
     "prompt_number": 10
    },
    {
     "cell_type": "code",
     "collapsed": false,
     "input": [
      "all_counts"
     ],
     "language": "python",
     "metadata": {},
     "outputs": [
      {
       "metadata": {},
       "output_type": "pyout",
       "prompt_number": 11,
       "text": [
        "array([  0.,  12.,  12.,   0.,   4.])"
       ]
      }
     ],
     "prompt_number": 11
    },
    {
     "cell_type": "markdown",
     "metadata": {},
     "source": [
      "## Cluster of 4 motifs\n"
     ]
    },
    {
     "cell_type": "code",
     "collapsed": false,
     "input": [
      "atoms_not_to_remove = []\n",
      "for i in range(1, 13):\n",
      "    for j in range(i+1, 13):\n",
      "        for k in range(4):\n",
      "            if data[i][k] in data[j] and data[i][k] not in data[0]:\n",
      "                print i,j\n",
      "        \n",
      "            \n"
     ],
     "language": "python",
     "metadata": {},
     "outputs": [
      {
       "output_type": "stream",
       "stream": "stdout",
       "text": [
        "1 6\n",
        "1 8\n",
        "2 7\n",
        "2 10\n",
        "3 5\n",
        "3 9\n",
        "4 11\n",
        "4 12\n",
        "5 9\n",
        "6 8\n",
        "7 10\n",
        "11 12\n"
       ]
      }
     ],
     "prompt_number": 12
    },
    {
     "cell_type": "code",
     "collapsed": false,
     "input": [
      "atoms_not_to_remove = []\n",
      "for i in [0,1,6,8]:\n",
      "    atoms_not_to_remove += data[i]\n",
      "    atoms_not_to_remove += [S_list[i]]\n",
      "    \n"
     ],
     "language": "python",
     "metadata": {},
     "outputs": [],
     "prompt_number": 13
    },
    {
     "cell_type": "code",
     "collapsed": false,
     "input": [
      "cu_atoms =  data[1] + data[6] + data[8]"
     ],
     "language": "python",
     "metadata": {},
     "outputs": [],
     "prompt_number": 14
    },
    {
     "cell_type": "code",
     "collapsed": false,
     "input": [
      "\n",
      "for i in range(len(structure))[::-1]:\n",
      "    if structure[i] not in atoms_not_to_remove:\n",
      "        structure.pop(i)"
     ],
     "language": "python",
     "metadata": {},
     "outputs": [],
     "prompt_number": 15
    },
    {
     "cell_type": "code",
     "collapsed": false,
     "input": [
      "origin_atoms = []\n",
      "back_atom = []\n",
      "var_atoms = []\n",
      "\n",
      "for i, atom in enumerate(structure):\n",
      "    if atom.type != 'S':\n",
      "        if atom in data[0] and atom in cu_atoms:\n",
      "            origin_atoms.append(i)\n",
      "        elif atom in cu_atoms:\n",
      "            var_atoms.append(i)\n",
      "        else:\n",
      "            back_atom.append(i)\n",
      "print back_atom\n",
      "print origin_atoms\n",
      "print var_atoms"
     ],
     "language": "python",
     "metadata": {},
     "outputs": [
      {
       "output_type": "stream",
       "stream": "stdout",
       "text": [
        "[13]\n",
        "[1, 3, 9]\n",
        "[0, 2, 4, 5, 10, 12]\n"
       ]
      }
     ],
     "prompt_number": 16
    },
    {
     "cell_type": "code",
     "collapsed": false,
     "input": [
      "count_configurations_5(structure, 'S', ['Cu', 'Sn', 'Zn'])"
     ],
     "language": "python",
     "metadata": {},
     "outputs": [
      {
       "metadata": {},
       "output_type": "pyout",
       "prompt_number": 17,
       "text": [
        "({'Cu2_Sn2_Zn0_': 2, 'Cu3_Sn1_Zn0_': 2},\n",
        " [0.0, 0.0, 0.0, 0.0, 0.0, 0.0, 0.0, 0.0, 0.0, 0.0, 0.0, 2.0, 0.0, 2.0, 0.0])"
       ]
      }
     ],
     "prompt_number": 17
    },
    {
     "cell_type": "markdown",
     "metadata": {},
     "source": [
      "## Motifs Entropy"
     ]
    },
    {
     "cell_type": "code",
     "collapsed": false,
     "input": [
      "from itertools import product\n",
      "from itertools import permutations"
     ],
     "language": "python",
     "metadata": {},
     "outputs": [],
     "prompt_number": 18
    },
    {
     "cell_type": "code",
     "collapsed": false,
     "input": [
      "def sum_to_n(n, size, limit=None):\n",
      "    \"\"\"Produce all lists of `size` positive integers in decreasing order\n",
      "    that add up to `n`.\"\"\"\n",
      "    if size == 1:\n",
      "        yield [n]\n",
      "        return\n",
      "    if limit is None:\n",
      "        limit = n\n",
      "    start = (n + size - 1) // size\n",
      "    stop = min(limit, n - size + 1) + 1\n",
      "    for i in range(start, stop):\n",
      "        for tail in sum_to_n(n - i, size - 1, i):\n",
      "            yield [i] + tail"
     ],
     "language": "python",
     "metadata": {},
     "outputs": [],
     "prompt_number": 19
    },
    {
     "cell_type": "code",
     "collapsed": false,
     "input": [
      "def get_divisions(k):\n",
      "    points = []\n",
      "    for i in range(1,5):\n",
      "        for partition in sum_to_n(k, i):\n",
      "            if max(partition)>3:\n",
      "                pass\n",
      "            else:\n",
      "                points.append( partition + [0]*(4-i))\n",
      "    return points"
     ],
     "language": "python",
     "metadata": {},
     "outputs": [],
     "prompt_number": 20
    },
    {
     "cell_type": "code",
     "collapsed": false,
     "input": [
      "def get_random_conf_prob(structure, atoms, conf_to_count = 12, conf_in_origin = True, accepted_conf = [7, 10, 12], max_conf=4):\n",
      "    '''\n",
      "    Calculates number of configuration as a function of motif count given motif origin'''\n",
      "    \n",
      "    print conf_to_count, conf_in_origin, accepted_conf\n",
      "    prod = product(atoms, repeat=6)\n",
      "    str_tmp = structure.copy()\n",
      "    conf_count = np.zeros(4)\n",
      "    M = 0\n",
      "    for i, list_P in enumerate(prod):\n",
      "        #print list_P\n",
      "        for j, element in enumerate(list_P):\n",
      "            str_tmp[var_atoms[j]].type = element\n",
      "        conf, count = count_configurations_5(str_tmp, 'S', ['Cu', 'Zn', 'Sn'])\n",
      "\n",
      "        count_accepted_conf = 0\n",
      "        for k in accepted_conf:\n",
      "            count_accepted_conf += count[k]\n",
      "        if count_accepted_conf == max_conf:\n",
      "           # print conf\n",
      "            weight = 1\n",
      "            M += 1\n",
      "            if conf_in_origin:\n",
      "                conf_count[count[conf_to_count]-1] += weight\n",
      "            else:\n",
      "                conf_count[count[conf_to_count]] += weight\n",
      "    return np.array(conf_count)#/np.sum(conf_count)"
     ],
     "language": "python",
     "metadata": {},
     "outputs": [],
     "prompt_number": 21
    },
    {
     "cell_type": "code",
     "collapsed": false,
     "input": [
      "def get_probab(origin, structure, atoms, conf_to_count = 12, conf_in_origin = True, accepted_conf = [11, 13], max_conf=4):\n",
      "    structure[back_atom[0]].type = origin[0]\n",
      "    for i in range(3):\n",
      "        structure[origin_atoms[i]].type = origin[i+1]\n",
      "    p = get_random_conf_prob(structure, atoms, conf_to_count, conf_in_origin,  accepted_conf, max_conf)\n",
      "    return p"
     ],
     "language": "python",
     "metadata": {},
     "outputs": [],
     "prompt_number": 22
    },
    {
     "cell_type": "code",
     "collapsed": false,
     "input": [
      "def get_coord(probs):\n",
      "    \n",
      "    coord = np.zeros(13)\n",
      "    coord_norm = np.zeros(13)\n",
      "    \n",
      "    for k in range(13):\n",
      "        all_combs = []\n",
      "        points = get_divisions(k)\n",
      "        for point in points:\n",
      "            combs = permutations(point, 4)\n",
      "            for comb in combs:\n",
      "                if comb not in all_combs:\n",
      "                    all_combs.append(comb)\n",
      "                    \n",
      "        #print k, all_combs\n",
      "        for comb in all_combs:\n",
      "            val = 1\n",
      "            for i in range(4):\n",
      "                val *= probs[i][comb[i]]\n",
      "           # for i in range(4):\n",
      "           #     coord_norm[comb[i]+1] += val\n",
      "            coord[k] += val\n",
      "           # coord_norm[k] += val\n",
      "    #coord /= np.arange(1,14)\n",
      "    return coord#, coord_norm"
     ],
     "language": "python",
     "metadata": {},
     "outputs": [],
     "prompt_number": 23
    },
    {
     "cell_type": "markdown",
     "metadata": {},
     "source": [
      "## Entropy diff CZTS"
     ]
    },
    {
     "cell_type": "code",
     "collapsed": false,
     "input": [
      "p1 = get_probab(['Sn', 'Zn', 'Cu', 'Cu' ], structure, ['Cu', 'Sn', 'Zn'], conf_to_count = 12, conf_in_origin = False, accepted_conf = [12,10], max_conf=4)\n",
      "p2 = get_probab(['Zn', 'Sn', 'Cu', 'Cu' ], structure, ['Cu', 'Sn', 'Zn'], conf_to_count = 12, conf_in_origin = False, accepted_conf = [12,10], max_conf=4)\n",
      "p3 = get_probab(['Cu', 'Sn', 'Cu', 'Zn' ], structure, ['Cu', 'Sn', 'Zn'], conf_to_count = 12, conf_in_origin = False, accepted_conf = [12,10], max_conf=4)\n",
      "\n",
      "probs_czts  = [p1.tolist()] + [p2.tolist()] + [p3.tolist()]*2\n",
      "\n"
     ],
     "language": "python",
     "metadata": {},
     "outputs": [
      {
       "output_type": "stream",
       "stream": "stdout",
       "text": [
        "12 False [12, 10]\n",
        "12"
       ]
      },
      {
       "output_type": "stream",
       "stream": "stdout",
       "text": [
        " False [12, 10]\n",
        "12"
       ]
      },
      {
       "output_type": "stream",
       "stream": "stdout",
       "text": [
        " False [12, 10]\n"
       ]
      }
     ],
     "prompt_number": 24
    },
    {
     "cell_type": "code",
     "collapsed": false,
     "input": [
      "p1 = get_probab(['Sn', 'Cu', 'Cu', 'Cu' ], structure, ['Cu', 'Sn', 'Zn'], conf_to_count = 12, conf_in_origin = True, accepted_conf = [12,10], max_conf=4)\n",
      "p2 = get_probab(['Cu', 'Sn', 'Cu', 'Cu' ], structure, ['Cu', 'Sn', 'Zn'], conf_to_count = 12, conf_in_origin = True, accepted_conf = [12,10], max_conf=4)\n",
      "print p1, p2\n",
      "probs_314  = [p1.tolist()] + [p2.tolist()]*3\n",
      "print probs_314\n",
      "print p1*p2**3"
     ],
     "language": "python",
     "metadata": {},
     "outputs": [
      {
       "output_type": "stream",
       "stream": "stdout",
       "text": [
        "12 True [12, 10]\n",
        "12"
       ]
      },
      {
       "output_type": "stream",
       "stream": "stdout",
       "text": [
        " True [12, 10]\n",
        "[  6.  12.   6.   4.]"
       ]
      },
      {
       "output_type": "stream",
       "stream": "stdout",
       "text": [
        " [ 4.  8.  4.  2.]\n",
        "[[6.0, 12.0, 6.0, 4.0], [4.0, 8.0, 4.0, 2.0], [4.0, 8.0, 4.0, 2.0], [4.0, 8.0, 4.0, 2.0]]\n",
        "[  384.  6144.   384.    32.]\n"
       ]
      }
     ],
     "prompt_number": 25
    },
    {
     "cell_type": "code",
     "collapsed": false,
     "input": [
      "\n",
      "figure(figsize=(3,8))\n",
      "ax = gca()\n",
      "ax.yaxis.set_major_locator(FixedLocator(list(np.linspace(0.0,10,3))))\n",
      "ax.xaxis.set_major_locator(FixedLocator(list(np.linspace(4,12,3))))  \n",
      "ax.set_ylabel('$S/k_B$')\n",
      "ax.set_xlabel('$k$') \n",
      "ax.axis(xmin=0.0, xmax=12, ymin=-2, ymax=12)\n",
      "\n",
      "coord_314 = get_coord(probs_314)\n",
      "coord_czts = get_coord(probs_czts)\n",
      "S_314 = np.log(coord_314)#/np.arange(1,14)\n",
      "S_czts = np.log(coord_czts)#/np.arange(1,14)\n",
      "\n",
      "plot(range(0,13),S_314, 'b')\n",
      "plot(range(0,13),S_czts, 'r')\n",
      "dS= S_314 - S_czts\n",
      "plot(range(0,13), dS)\n",
      "\n",
      "if not os.path.exists(entropy_czts_3104_2114):\n",
      "    f = open(entropy_czts_3104_2114, 'w')\n",
      "    pickle.dump([S_314, S_czts], f)\n",
      "    f.close()"
     ],
     "language": "python",
     "metadata": {},
     "outputs": [
      {
       "output_type": "stream",
       "stream": "stderr",
       "text": [
        "-c:13: RuntimeWarning: divide by zero encountered in log\n"
       ]
      },
      {
       "metadata": {},
       "output_type": "display_data",
       "png": "[encoded data removed]",
       "text": [
        "<matplotlib.figure.Figure at 0x3bd8410>"
       ]
      }
     ],
     "prompt_number": 26
    },
    {
     "cell_type": "code",
     "collapsed": false,
     "input": [
      "\n",
      "figure(figsize=(3,8))\n",
      "ax = gca()\n",
      "ax.yaxis.set_major_locator(FixedLocator(list(np.linspace(0.0,10,3))))\n",
      "ax.xaxis.set_major_locator(FixedLocator(list(np.linspace(4,12,3))))  \n",
      "ax.set_ylabel('$S/k_B$')\n",
      "ax.set_xlabel('$k$') \n",
      "ax.axis(xmin=0.0, xmax=12, ymin=-2, ymax=12)\n",
      "\n",
      "k=4\n",
      "plot(range(0,13),S_314, 'b')\n",
      "plot(range(0,13),S_czts, 'r')\n",
      "dS= S_314[k:] - S_czts[:-k]\n",
      "plot(range(0,13-k), dS)\n"
     ],
     "language": "python",
     "metadata": {},
     "outputs": [
      {
       "metadata": {},
       "output_type": "pyout",
       "prompt_number": 27,
       "text": [
        "[<matplotlib.lines.Line2D at 0x43c8bd0>]"
       ]
      },
      {
       "metadata": {},
       "output_type": "display_data",
       "png": "[encoded data removed]",
       "text": [
        "<matplotlib.figure.Figure at 0x3ca7650>"
       ]
      }
     ],
     "prompt_number": 27
    },
    {
     "cell_type": "code",
     "collapsed": false,
     "input": [
      "p1 = get_probab(['Sn', 'Zn', 'Cu', 'Cu' ], structure, ['Cu', 'Sn', 'Zn'], conf_to_count = 7, conf_in_origin = False, accepted_conf = [7,10], max_conf=4)\n",
      "p2 = get_probab(['Zn', 'Sn', 'Cu', 'Cu' ], structure, ['Cu', 'Sn', 'Zn'], conf_to_count = 7, conf_in_origin = False, accepted_conf = [7,10], max_conf=4)\n",
      "p3 = get_probab(['Cu', 'Sn', 'Cu', 'Zn' ], structure, ['Cu', 'Sn', 'Zn'], conf_to_count = 7, conf_in_origin = False, accepted_conf = [7,10], max_conf=4)\n",
      "\n",
      "probs_czts  = [p1.tolist()] + [p2.tolist()] + [p3.tolist()]*2\n",
      "\n",
      "print p1*p2*p3**2"
     ],
     "language": "python",
     "metadata": {},
     "outputs": [
      {
       "output_type": "stream",
       "stream": "stdout",
       "text": [
        "7 False [7, 10]\n",
        "7"
       ]
      },
      {
       "output_type": "stream",
       "stream": "stdout",
       "text": [
        " False [7, 10]\n",
        "7"
       ]
      },
      {
       "output_type": "stream",
       "stream": "stdout",
       "text": [
        " False [7, 10]\n",
        "[  144.  3136.  2352.    36.]"
       ]
      },
      {
       "output_type": "stream",
       "stream": "stdout",
       "text": [
        "\n"
       ]
      }
     ],
     "prompt_number": 29
    },
    {
     "cell_type": "code",
     "collapsed": false,
     "input": [
      "p1 = get_probab(['Sn', 'Zn', 'Cu', 'Zn' ], structure, ['Cu', 'Sn', 'Zn'], conf_to_count = 7, conf_in_origin = True, accepted_conf = [7,10], max_conf=4)\n",
      "p2 = get_probab(['Cu', 'Sn', 'Zn', 'Zn' ], structure, ['Cu', 'Sn', 'Zn'], conf_to_count = 7, conf_in_origin = True, accepted_conf = [7,10], max_conf=4)\n",
      "p3 = get_probab(['Zn', 'Sn', 'Cu', 'Zn' ], structure, ['Cu', 'Sn', 'Zn'], conf_to_count = 7, conf_in_origin = True, accepted_conf = [7,10], max_conf=4)\n",
      "print p1, p2, p3\n",
      "probs_1124  = [p1.tolist()] + [p2.tolist()] + [p3.tolist()]*2\n",
      "\n",
      "print p1*p2*p3**2\n"
     ],
     "language": "python",
     "metadata": {},
     "outputs": [
      {
       "output_type": "stream",
       "stream": "stdout",
       "text": [
        "7 True [7, 10]\n",
        "7"
       ]
      },
      {
       "output_type": "stream",
       "stream": "stdout",
       "text": [
        " True [7, 10]\n",
        "7"
       ]
      },
      {
       "output_type": "stream",
       "stream": "stdout",
       "text": [
        " True [7, 10]\n",
        "[ 2.  8.  8.  4.]"
       ]
      },
      {
       "output_type": "stream",
       "stream": "stdout",
       "text": [
        " [ 2.  6.  8.  4.] [ 3.  7.  7.  3.]\n",
        "[   36.  2352.  3136.   144.]\n"
       ]
      }
     ],
     "prompt_number": 31
    },
    {
     "cell_type": "code",
     "collapsed": false,
     "input": [
      "\n",
      "figure(figsize=(3,8))\n",
      "ax = gca()\n",
      "ax.yaxis.set_major_locator(FixedLocator(list(np.linspace(0.0,10,3))))\n",
      "ax.xaxis.set_major_locator(FixedLocator(list(np.linspace(4,12,3))))  \n",
      "ax.set_ylabel('$S/k_B$')\n",
      "ax.set_xlabel('$k$, S-CuSnZn$_2$') \n",
      "ax.axis(xmin=0.0, xmax=12, ymin=-2, ymax=12)\n",
      "\n",
      "coord_1124 = get_coord(probs_1124)\n",
      "coord_czts = get_coord(probs_czts)\n",
      "S_1124 = np.log(coord_1124)#/np.arange(1,14)\n",
      "S_czts = np.log(coord_czts)#/np.arange(1,14)\n",
      "\n",
      "plot(range(0,13),S_1124, 'b')\n",
      "plot(range(0,13),S_czts, 'r')\n",
      "\n",
      "dS= S_1124 - S_czts\n",
      "plot(range(0,13),dS, 'r')\n",
      "\n",
      "\n",
      "if not os.path.exists(entropy_czts_1124_2114):\n",
      "    f = open(entropy_czts_1124_2114, 'w')\n",
      "    pickle.dump([S_1124, S_czts], f)\n",
      "    f.close()\n"
     ],
     "language": "python",
     "metadata": {},
     "outputs": [
      {
       "metadata": {},
       "output_type": "display_data",
       "png": "[encoded data removed]",
       "text": [
        "<matplotlib.figure.Figure at 0x3be9b50>"
       ]
      }
     ],
     "prompt_number": 32
    },
    {
     "cell_type": "code",
     "collapsed": false,
     "input": [
      "\n",
      "figure(figsize=(3,8))\n",
      "ax = gca()\n",
      "ax.yaxis.set_major_locator(FixedLocator(list(np.linspace(0.0,10,3))))\n",
      "ax.xaxis.set_major_locator(FixedLocator(list(np.linspace(4,12,3))))  \n",
      "ax.set_ylabel('$S/k_B$')\n",
      "ax.set_xlabel('$k$, S-CuSnZn$_2$') \n",
      "ax.axis(xmin=0.0, xmax=12, ymin=-2, ymax=12)\n",
      "\n",
      "plot(range(0,13),S_1124, 'b')\n",
      "plot(range(0,13),S_czts, 'r')\n",
      "\n",
      "dS= S_1124[2:] - S_czts[:-2]\n",
      "plot(range(0,11),dS, 'r')\n",
      "\n",
      "\n"
     ],
     "language": "python",
     "metadata": {},
     "outputs": [
      {
       "metadata": {},
       "output_type": "pyout",
       "prompt_number": 33,
       "text": [
        "[<matplotlib.lines.Line2D at 0x3f00cd0>]"
       ]
      },
      {
       "metadata": {},
       "output_type": "display_data",
       "png": "[encoded data removed]",
       "text": [
        "<matplotlib.figure.Figure at 0x3bc2f10>"
       ]
      }
     ],
     "prompt_number": 33
    },
    {
     "cell_type": "markdown",
     "metadata": {},
     "source": [
      "## Entropy diff CTS\n"
     ]
    },
    {
     "cell_type": "code",
     "collapsed": false,
     "input": [
      "p1 = get_probab(['Cu', 'Cu', 'Cu', 'Cu' ], structure, ['Cu'], conf_to_count = 14, conf_in_origin = True, accepted_conf = [14], max_conf=4)\n",
      "p2 = get_probab(['Cu', 'Cu', 'Cu', 'Cu' ], structure, ['Cu'], conf_to_count = 14, conf_in_origin = True, accepted_conf = [14], max_conf=4)\n",
      "print p1, p2\n",
      "probs_314  = [p1.tolist()] + [p2.tolist()]*3\n",
      "print probs_314\n",
      "print p1*p2**3\n",
      "print get_coord(probs_314)"
     ],
     "language": "python",
     "metadata": {},
     "outputs": []
    },
    {
     "cell_type": "code",
     "collapsed": false,
     "input": [
      "p1 = get_probab(['Sn', 'Cu', 'Cu', 'Cu' ], structure, ['Cu', 'Sn'], conf_to_count = 12, conf_in_origin = True, accepted_conf = [12,9], max_conf=4)\n",
      "p2 = get_probab(['Cu', 'Sn', 'Cu', 'Cu' ], structure, ['Cu', 'Sn'], conf_to_count = 12, conf_in_origin = True, accepted_conf = [12,9], max_conf=4)\n",
      "print p1, p2\n",
      "probs_314  = [p1.tolist()] + [p2.tolist()]*3\n",
      "p\n",
      "print p1*p2**3"
     ],
     "language": "python",
     "metadata": {},
     "outputs": []
    },
    {
     "cell_type": "code",
     "collapsed": false,
     "input": [
      "p1 = get_probab(['Sn', 'Sn', 'Cu', 'Cu' ], structure, ['Cu', 'Sn'], conf_to_count = 9, conf_in_origin = True, accepted_conf = [12,9], max_conf=4)\n",
      "p2 = get_probab(['Cu', 'Sn', 'Sn', 'Cu' ], structure, ['Cu', 'Sn'], conf_to_count = 9, conf_in_origin = True, accepted_conf = [12,9], max_conf=4)\n",
      "print p1, p2\n",
      "probs_224  = [p1.tolist()]*2 + [p2.tolist()]*2\n",
      "print p1*p2**3"
     ],
     "language": "python",
     "metadata": {},
     "outputs": []
    },
    {
     "cell_type": "code",
     "collapsed": false,
     "input": [
      "coord_314 = get_coord(probs_314)\n",
      "coord_224 = get_coord(probs_224)\n",
      "S_314 = np.log(coord_314[::-1])#/np.arange(1,14)\n",
      "S_224 = np.log(coord_224)#/np.arange(1,14)\n",
      "ax = gca()\n",
      "plot(range(0,13),S_314, 'b')\n",
      "print '314', np.argmax(S_314)\n",
      "plot(range(0,13),S_224, 'r')\n",
      "print '224', np.argmax(S_224)\n",
      "dS= S_314 - S_224\n",
      "plot(range(0,13),dS, 'k')\n",
      "plot([0,12], [0,0], '--k')\n",
      "\n",
      "if 1:#not os.path.exists(entropy_cts_3104_2204):\n",
      "    f = open(entropy_cts_3104_2204, 'w')\n",
      "    pickle.dump([S_314, S_224], f)\n",
      "    f.close()\n",
      "\n",
      "\n",
      "S0 = S_314[8]+S_224[11]\n",
      "for i in range(4):\n",
      "    S = S_314[8+i] + S_224[11-i]\n",
      "    print S-S0"
     ],
     "language": "python",
     "metadata": {},
     "outputs": []
    },
    {
     "cell_type": "code",
     "collapsed": false,
     "input": [
      "p1 = get_probab(['Sn', 'Cu', 'Cu', 'Cu' ], structure, ['Cu', 'Sn'], conf_to_count = 9, conf_in_origin = False, accepted_conf = [12,9], max_conf=4)\n",
      "p2 = get_probab(['Cu', 'Sn', 'Cu', 'Cu' ], structure, ['Cu', 'Sn'], conf_to_count = 9, conf_in_origin = False, accepted_conf = [12,9], max_conf=4)\n",
      "print p1, p2\n",
      "probs_314  = [p1.tolist()] + [p2.tolist()]*3\n",
      "print p1*p2**3"
     ],
     "language": "python",
     "metadata": {},
     "outputs": []
    },
    {
     "cell_type": "code",
     "collapsed": false,
     "input": [
      "p1 = get_probab(['Sn', 'Sn', 'Cu', 'Cu' ], structure, ['Cu', 'Sn'], conf_to_count = 9, conf_in_origin = True, accepted_conf = [12,9], max_conf=4)\n",
      "p2 = get_probab(['Cu', 'Sn', 'Sn', 'Cu' ], structure, ['Cu', 'Sn'], conf_to_count = 9, conf_in_origin = True, accepted_conf = [12,9], max_conf=4)\n",
      "print p1, p2\n",
      "probs_224  = [p1.tolist()]*2 + [p2.tolist()]*2\n",
      "print p1*p2**3"
     ],
     "language": "python",
     "metadata": {},
     "outputs": []
    },
    {
     "cell_type": "code",
     "collapsed": false,
     "input": [
      "coord_314 = get_coord(probs_314)\n",
      "coord_224 = get_coord(probs_224)\n",
      "S_314 = np.log(coord_314)#/np.arange(1,14)\n",
      "S_224 = np.log(coord_224)#/np.arange(1,14)\n",
      "\n",
      "plot(range(0,13),S_314, 'b')\n",
      "plot(range(0,13),S_224, 'r')\n",
      "\n",
      "dS= S_314 - S_224\n",
      "plot(range(0,13),dS, 'k')\n",
      "dS= S_1124 - S_czts\n",
      "plot(range(0,13),dS, 'k')\n",
      "#plot(S_1124[1:]-S_1124[:-1])\n",
      "#plot(S_czts[1:]-S_czts[:-1])\n",
      "plot([0,12], [0,0], '--k')\n",
      "ax = gca()"
     ],
     "language": "python",
     "metadata": {},
     "outputs": []
    },
    {
     "cell_type": "code",
     "collapsed": false,
     "input": [],
     "language": "python",
     "metadata": {},
     "outputs": []
    },
    {
     "cell_type": "code",
     "collapsed": false,
     "input": [],
     "language": "python",
     "metadata": {},
     "outputs": []
    },
    {
     "cell_type": "code",
     "collapsed": false,
     "input": [],
     "language": "python",
     "metadata": {},
     "outputs": []
    },
    {
     "cell_type": "code",
     "collapsed": false,
     "input": [],
     "language": "python",
     "metadata": {},
     "outputs": []
    }
   ],
   "metadata": {}
  }
 ]
}