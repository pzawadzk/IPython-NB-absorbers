{
 "metadata": {
  "name": "",
  "signature": "sha256:3766385c234e008f3c17570323ce8910c12b2d2ed9f1cbef0fe60422f25fe803"
 },
 "nbformat": 3,
 "nbformat_minor": 0,
 "worksheets": [
  {
   "cells": [
    {
     "cell_type": "markdown",
     "metadata": {},
     "source": [
      "#Fit of the motif based model Hamiltonian to formation energies"
     ]
    },
    {
     "cell_type": "code",
     "collapsed": false,
     "input": [
      "import numpy as np\n",
      "import os\n",
      "import sys\n",
      "import pickle\n",
      "from tools import *\n",
      "from sklearn import cross_validation\n",
      "import pickle\n",
      "from tools import *\n",
      "from sklearn import cross_validation\n",
      "from pylada.vasp import MassExtract\n",
      "\n",
      "%pylab inline\n",
      "dir0  = os.getcwd()"
     ],
     "language": "python",
     "metadata": {},
     "outputs": [
      {
       "output_type": "stream",
       "stream": "stdout",
       "text": [
        "Populating the interactive namespace from numpy and matplotlib\n"
       ]
      }
     ],
     "prompt_number": 19
    },
    {
     "cell_type": "code",
     "collapsed": false,
     "input": [
      "#Original data:\n",
      "\n",
      "# diffnert Cu-Sn-Zn compsotions\n",
      "dir_model_1 = '/scratch/pzawadzk/DISORDER/CZTS/DATA'\n",
      "origin_model_1 = [\n",
      "        'Binary',\n",
      "         'random',\n",
      "        'CZTS_X_Sn_1-32','CZTS_X_Sn_2-32',\n",
      "        'CZTS_X_Sn_3-32','CZTS_X_Sn_4-32','CZTS_X_Sn_5-32',\n",
      "     'CZTS_X_Sn_6-32','CZTS_X_Sn_7-32','CZTS_X_Sn_8-32',\n",
      "       'CZTS_X_Sn_9-32','CZTS_X_Sn_10-32', 'CZTS_X_Sn_X-32'\n",
      "       #'3_2_1_0', '4_2_1_1', '5_2_1_2',\n",
      "            #'CTS/CTS',\n",
      "            #'CTS/Cu2SnS3',\n",
      "            ]\n",
      "\n",
      "#refit of paramters to MC calcualted strcutres\n",
      "dir_model_2 = '/scratch/pzawadzk/DISORDER/CZTS'\n",
      "origin_model_2 = ['czts_phase_transtition']\n",
      "# ['/scratch/pzawadzk/DISORDER/CZTS/cts_mix_3']\n"
     ],
     "language": "python",
     "metadata": {},
     "outputs": [],
     "prompt_number": 20
    },
    {
     "cell_type": "code",
     "collapsed": false,
     "input": [
      "#Processed data\n",
      "data_dir = 'data_p107'\n",
      "if not os.path.exists(data_dir):\n",
      "    os.makedirs(data_dir)   \n",
      "proc_model_1 = os.path.join(data_dir, 'proc_model_1')\n",
      "proc_model_2 = os.path.join(data_dir, 'proc_model_2')"
     ],
     "language": "python",
     "metadata": {},
     "outputs": [],
     "prompt_number": 21
    },
    {
     "cell_type": "code",
     "collapsed": false,
     "input": [
      "import pickle\n",
      "from tools import *\n",
      "from sklearn import cross_validation"
     ],
     "language": "python",
     "metadata": {},
     "outputs": [],
     "prompt_number": 22
    },
    {
     "cell_type": "code",
     "collapsed": false,
     "input": [
      "atoms = ['Cu','Zn','Sn' ]"
     ],
     "language": "python",
     "metadata": {},
     "outputs": [],
     "prompt_number": 23
    },
    {
     "cell_type": "code",
     "collapsed": false,
     "input": [
      "def get_mea(x, E, dh):\n",
      "    count = 0\n",
      "    dE_mea = 0\n",
      "    \n",
      "    for i, xi in enumerate(x):\n",
      "        count += 1\n",
      "        dE = np.abs(np.dot(dh, xi)-E[i])\n",
      "        #print dE\n",
      "        dE_mea += dE\n",
      "    return dE_mea / count\n",
      "    "
     ],
     "language": "python",
     "metadata": {},
     "outputs": [],
     "prompt_number": 24
    },
    {
     "cell_type": "code",
     "collapsed": false,
     "input": [
      "if os.path.exists(proc_model_1):\n",
      "    f = open(proc_model_1, 'r')\n",
      "    x, E, pl_coarse, out_of_sample_err = pickle.load(f)\n",
      "else:\n",
      "    os.chdir(dir_model_1)\n",
      "    x, E = extract_motifs(origin_model_1, 'S', atoms)\n",
      "    os.chdir(dir0)\n",
      "    \n",
      "    x = np.array(x)\n",
      "    E = np.array(E)\n",
      "    \n",
      "    N = len(x)\n",
      "    print N\n",
      "    Niter = 5\n",
      "    \n",
      "    bs = cross_validation.Bootstrap(N, n_iter=Niter, random_state=0, train_size=0.66)\n",
      "    error = 0\n",
      "    for train_index, test_index in bs:\n",
      "        x_train, x_test = x[train_index], x[test_index]\n",
      "        E_train, E_test = E[train_index], E[test_index]\n",
      "        pl, Efit = fit_motifs(x_train,E_train)\n",
      "        \n",
      "        e = get_mea(x_train, E_train, pl) *1000\n",
      "        e = get_mea(x_test, E_test, pl) *1000\n",
      "        error += e\n",
      "    out_of_sample_err = error/Niter   \n",
      "    \n",
      "    \n",
      "    pl_coarse, Efit = fit_motifs(x,E)\n",
      "    \n",
      "    f = open(proc_model_1, 'w')\n",
      "    pickle.dump([x, E, pl_coarse, out_of_sample_err], f)\n",
      "    f.close()\n",
      "    \n",
      "print 'Final Error',  out_of_sample_err, 'meV'\n",
      "E_motifs = {}\n",
      "motifs =[  'S-Sn4', 'S-Sn3Zn', 'S-Sn2Zn2', 'S-SnZn3', 'S-Zn4', 'S-CuSn3', 'S-CuSn2Zn', 'S-CuSnZn2', 'S-CuZn3', 'S-Cu2Sn2', 'S-Cu2SnZn', 'S-Cu2Zn2', 'S-Cu3Sn', 'S-Cu3Zn', 'S-Cu4']\n",
      "#motifs =[  'Sn4S4', 'Sn3Zn1S4', 'Sn2Zn2S4', 'Sn1Zn3S4', 'Zn4S4', 'Cu1Sn3S4', 'Cu1Sn2Zn1S4', 'Cu1Sn1Zn2S4', 'Cu1Zn3S4', 'Cu2Sn2S4', 'Cu2Sn1Zn1S4', 'Cu2Zn2S4', 'Cu3Sn1S4', 'Cu3Zn1S4', 'Cu4S4']\n",
      "for i in range(15):\n",
      "    print i, motifs[i],  '\\t%.3f'% (pl[i])\n",
      "    E_motifs[motifs[i]] = pl_coarse[i]\n",
      "       "
     ],
     "language": "python",
     "metadata": {},
     "outputs": [
      {
       "output_type": "stream",
       "stream": "stdout",
       "text": [
        "Final Error 3.74778126547 meV\n",
        "0 S-Sn4 \t-0.026\n",
        "1 S-Sn3Zn \t-0.379\n",
        "2 S-Sn2Zn2 \t-0.565\n",
        "3 S-SnZn3 \t-0.880\n",
        "4 S-Zn4 \t-1.083\n",
        "5 S-CuSn3 \t-0.254\n",
        "6 S-CuSn2Zn \t-0.563\n",
        "7 S-CuSnZn2 \t-0.790\n",
        "8 S-CuZn3 \t-0.914\n",
        "9 S-Cu2Sn2 \t-0.463\n",
        "10 S-Cu2SnZn \t-0.663\n",
        "11 S-Cu2Zn2 \t-0.679\n",
        "12 S-Cu3Sn \t-0.492\n",
        "13 S-Cu3Zn \t-0.404\n",
        "14 S-Cu4 \t-0.238\n"
       ]
      }
     ],
     "prompt_number": 34
    },
    {
     "cell_type": "code",
     "collapsed": false,
     "input": [
      "fig=plt.figure(figsize=(6,6))\n",
      "ax = fig.add_subplot(111)\n",
      "\n",
      "plt.plot(Efit, E, 'b+', markeredgewidth = 2, markersize =28)\n",
      "ax.plot([-1.2, 0.0] , [-1.2, 0], 'k--', linewidth=1.0)\n",
      "ax.text(-1.1, -0.2,'CV MAE', fontsize=40)\n",
      "ax.text(-1.1, -0.35,'%.1f meV' % 5.8, fontsize=40)\n",
      "ax.axis(xmin=-1.2, xmax=0.0, ymin=-1.2, ymax=0.0)\n",
      "ax.set_ylabel('$\\Delta H_f$ [eV]')\n",
      "ax.set_xlabel('$\\Delta H_f^\\mathrm{MOTIF}(\\mathbf{n})$ [eV]')\n",
      "\n",
      "rc('axes', linewidth=2)\n",
      "for item in ([ax.title, ax.xaxis.label, ax.yaxis.label] +\n",
      "                 ax.get_xticklabels() + ax.get_yticklabels()):\n",
      "        item.set_fontsize(40)\n",
      "ax.xaxis.set_major_locator(FixedLocator(list(np.linspace(-1,0,3))))\n",
      "ax.yaxis.set_major_locator(FixedLocator(list(np.linspace(-1, 0,3))))"
     ],
     "language": "python",
     "metadata": {},
     "outputs": [
      {
       "metadata": {},
       "output_type": "display_data",
       "png": "[encoded data removed]",
       "text": [
        "<matplotlib.figure.Figure at 0x5c4f210>"
       ]
      }
     ],
     "prompt_number": 28
    },
    {
     "cell_type": "code",
     "collapsed": false,
     "input": [
      "if os.path.exists(proc_model_2):\n",
      "    f = open(proc_model_2, 'r')\n",
      "    x, E, pl, out_of_sample_err = pickle.load(f)\n",
      "else:\n",
      "    os.chdir(dir_model_2)\n",
      "    x, E = extract_motifs(origin_model_2, 'S', atoms)\n",
      "    os.chdir(dir0)\n",
      "\n",
      "    \n",
      "    x = np.array(x)\n",
      "    E = np.array(E)\n",
      "    N = len(x)\n",
      "    print N\n",
      "    Niter = 5\n",
      "    \n",
      "    \n",
      "    bs = cross_validation.Bootstrap(N, n_iter=Niter, random_state=0)\n",
      "    error = 0\n",
      "    indexes = [7, 10]\n",
      "    for train_index, test_index in bs:\n",
      "    \n",
      "        x_train, x_test = x[train_index], x[test_index]\n",
      "        E_train, E_test = E[train_index], E[test_index]\n",
      "        p, Efit = fit_motifs(x_train,E_train, pl, indexes =indexes)\n",
      "    \n",
      "            \n",
      "        e = get_mea(x_train, E_train, pl) *1000\n",
      "        e = get_mea(x_test, E_test, pl) *1000\n",
      "        error += e\n",
      "    out_of_sample_err = error/Niter     \n",
      "    \n",
      "    pl, Efit = fit_motifs(x,E,  pl, indexes = indexes)\n",
      "    \n",
      "    f = open(proc_model_2, 'w')\n",
      "    pickle.dump([x, E, pl, out_of_sample_err], f)\n",
      "    f.close()\n",
      "    \n",
      "print 'Final Error',  out_of_sample_err, 'meV'\n",
      "E_motifs = {}\n",
      "motifs =[  'S-Sn4', 'S-Sn3Zn', 'S-Sn2Zn2', 'S-SnZn3', 'S-Zn4', 'S-CuSn3', 'S-CuSn2Zn', 'S-CuSnZn2', 'S-CuZn3', 'S-Cu2Sn2', 'S-Cu2SnZn', 'S-Cu2Zn2', 'S-Cu3Sn', 'S-Cu3Zn', 'S-Cu4']\n",
      "#motifs =[  'Sn4S4', 'Sn3Zn1S4', 'Sn2Zn2S4', 'Sn1Zn3S4', 'Zn4S4', 'Cu1Sn3S4', 'Cu1Sn2Zn1S4', 'Cu1Sn1Zn2S4', 'Cu1Zn3S4', 'Cu2Sn2S4', 'Cu2Sn1Zn1S4', 'Cu2Zn2S4', 'Cu3Sn1S4', 'Cu3Zn1S4', 'Cu4S4']\n",
      "for i in range(15):\n",
      "    print motifs[i],  '\\t%.3f'% (pl[i])\n",
      "    E_motifs[motifs[i]] = pl[i]\n",
      "       \n"
     ],
     "language": "python",
     "metadata": {},
     "outputs": [
      {
       "output_type": "stream",
       "stream": "stdout",
       "text": [
        "Final Error 0.43046254615 meV\n",
        "S-Sn4 \t-0.026\n",
        "S-Sn3Zn \t-0.379\n",
        "S-Sn2Zn2 \t-0.565\n",
        "S-SnZn3 \t-0.880\n",
        "S-Zn4 \t-1.083\n",
        "S-CuSn3 \t-0.254\n",
        "S-CuSn2Zn \t-0.563\n",
        "S-CuSnZn2 \t-0.790\n",
        "S-CuZn3 \t-0.914\n",
        "S-Cu2Sn2 \t-0.463\n",
        "S-Cu2SnZn \t-0.663\n",
        "S-Cu2Zn2 \t-0.679\n",
        "S-Cu3Sn \t-0.492\n",
        "S-Cu3Zn \t-0.404\n",
        "S-Cu4 \t-0.238\n"
       ]
      }
     ],
     "prompt_number": 30
    },
    {
     "cell_type": "code",
     "collapsed": false,
     "input": [
      "dE = 2*E_motifs['S-Cu2SnZn'] - E_motifs['S-Cu3Sn'] - E_motifs['S-CuSnZn2']\n",
      "print 2*dE*1000"
     ],
     "language": "python",
     "metadata": {},
     "outputs": [
      {
       "output_type": "stream",
       "stream": "stdout",
       "text": [
        "-89.9734980197\n"
       ]
      }
     ],
     "prompt_number": 7
    },
    {
     "cell_type": "code",
     "collapsed": false,
     "input": [
      "dE = 2*E_motifs['S-Cu2Sn2'] - E_motifs['S-Cu3Sn'] - E_motifs['S-CuSn3']\n",
      "print 2*dE*1000"
     ],
     "language": "python",
     "metadata": {},
     "outputs": [
      {
       "output_type": "stream",
       "stream": "stdout",
       "text": [
        "-358.121925129\n"
       ]
      }
     ],
     "prompt_number": 8
    },
    {
     "cell_type": "code",
     "collapsed": false,
     "input": [
      "dE = 2*E_motifs['S-Cu3Sn'] - E_motifs['S-Cu2Sn2'] - E_motifs['S-Cu4']\n",
      "print 2*dE*1000"
     ],
     "language": "python",
     "metadata": {},
     "outputs": [
      {
       "output_type": "stream",
       "stream": "stdout",
       "text": [
        "-566.990522126\n"
       ]
      }
     ],
     "prompt_number": 9
    },
    {
     "cell_type": "code",
     "collapsed": false,
     "input": [
      "dE = 2*E_motifs['S-Cu3Zn'] - E_motifs['S-Cu4'] - E_motifs['S-Cu2Zn2']\n",
      "print 2*dE*1000"
     ],
     "language": "python",
     "metadata": {},
     "outputs": [
      {
       "output_type": "stream",
       "stream": "stdout",
       "text": [
        "218.48377741\n"
       ]
      }
     ],
     "prompt_number": 10
    },
    {
     "cell_type": "markdown",
     "metadata": {},
     "source": [
      "#Reactions"
     ]
    },
    {
     "cell_type": "code",
     "collapsed": false,
     "input": [
      "E_motifs"
     ],
     "language": "python",
     "metadata": {},
     "outputs": [
      {
       "metadata": {},
       "output_type": "pyout",
       "prompt_number": 33,
       "text": [
        "{'S-Cu2Sn2': -0.46260833999619161,\n",
        " 'S-Cu2SnZn': -0.66333670252181354,\n",
        " 'S-Cu2Zn2': -0.67863595055279913,\n",
        " 'S-Cu3Sn': -0.49199266110727313,\n",
        " 'S-Cu3Zn': -0.40363801248304942,\n",
        " 'S-Cu4': -0.23787355384994147,\n",
        " 'S-CuSn2Zn': -0.56331283556366762,\n",
        " 'S-CuSn3': -0.25416485572564729,\n",
        " 'S-CuSnZn2': -0.78969399498328641,\n",
        " 'S-CuZn3': -0.91357426379836304,\n",
        " 'S-Sn2Zn2': -0.56470331404026575,\n",
        " 'S-Sn3Zn': -0.3786708456887693,\n",
        " 'S-Sn4': -0.025629895660331248,\n",
        " 'S-SnZn3': -0.88008505908181922,\n",
        " 'S-Zn4': -1.0830345292984394}"
       ]
      }
     ],
     "prompt_number": 33
    },
    {
     "cell_type": "markdown",
     "metadata": {},
     "source": [
      "#Test of accuarcy of the model "
     ]
    },
    {
     "cell_type": "code",
     "collapsed": false,
     "input": [
      "dir0 = '/scratch/pzawadzk/DISORDER/CZTS/cts_defets'\n",
      "E0 = -.45508518E+02/12 \n",
      "#E0 = -.36415082E+03/96.\n",
      "calcs = MassExtract(dir0)\n",
      "dat = []\n",
      "for key in calcs.keys():\n",
      "    try:\n",
      "        calc = calcs[key]\n",
      "        de =  (calc.energy_sigma0.__float__() / len(calc.structure)) - E0\n",
      "        if 'cu_48' in key:\n",
      "            dat.append(de)\n",
      "    except:\n",
      "        pass"
     ],
     "language": "python",
     "metadata": {},
     "outputs": [],
     "prompt_number": 17
    },
    {
     "cell_type": "code",
     "collapsed": false,
     "input": [
      "print np.mean(dat)\n",
      "print dat"
     ],
     "language": "python",
     "metadata": {},
     "outputs": [
      {
       "output_type": "stream",
       "stream": "stdout",
       "text": [
        "0.00873709206019\n",
        "[0.007500551458333948, 0.012264691874999567, 0.009111124722222197, 0.008523410000000009, 0.007808991180555669, 0.007213783125000095]\n"
       ]
      }
     ],
     "prompt_number": 18
    },
    {
     "cell_type": "code",
     "collapsed": false,
     "input": [
      "dir0 = '/scratch/pzawadzk/DISORDER/CZTS/cts_mix_3'\n",
      "\n",
      "E0 = -59.80779162/16\n",
      "calcs = MassExtract(dir0)\n",
      "dat = []\n",
      "for key in calcs.keys():\n",
      "    try:\n",
      "        calc = calcs[key]\n",
      "        de =  (calc.energy_sigma0.__float__() / len(calc.structure)) - E0\n",
      "        if 'cu_0_' in key and 'non-magnetic' in key:\n",
      "            print key\n",
      "            dat.append(de)\n",
      "    except:\n",
      "        pass"
     ],
     "language": "python",
     "metadata": {},
     "outputs": [
      {
       "output_type": "stream",
       "stream": "stdout",
       "text": [
        "/cu_0_2/non-magnetic\n",
        "/cu_0_3/non-magnetic"
       ]
      },
      {
       "output_type": "stream",
       "stream": "stdout",
       "text": [
        "\n",
        "/cu_0_5/non-magnetic"
       ]
      },
      {
       "output_type": "stream",
       "stream": "stdout",
       "text": [
        "\n",
        "/cu_0_1/non-magnetic"
       ]
      },
      {
       "output_type": "stream",
       "stream": "stdout",
       "text": [
        "\n",
        "/cu_0_4/non-magnetic"
       ]
      },
      {
       "output_type": "stream",
       "stream": "stdout",
       "text": [
        "\n"
       ]
      }
     ],
     "prompt_number": 13
    },
    {
     "cell_type": "code",
     "collapsed": false,
     "input": [
      "print np.mean(dat)\n",
      "print dat"
     ],
     "language": "python",
     "metadata": {},
     "outputs": [
      {
       "output_type": "stream",
       "stream": "stdout",
       "text": [
        "0.00545270187037\n",
        "[0.007963465277777804, 0.004825011018518399, 0.004825011018518399, 0.004825011018518399, 0.004825011018518399]\n"
       ]
      }
     ],
     "prompt_number": 14
    }
   ],
   "metadata": {}
  }
 ]
}