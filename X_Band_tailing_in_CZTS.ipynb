{
 "metadata": {
  "name": "",
  "signature": "sha256:62169427c6b886196e2a80fe1f572a55919238d46dded5dcb1fcb68bbc3014cb"
 },
 "nbformat": 3,
 "nbformat_minor": 0,
 "worksheets": [
  {
   "cells": [
    {
     "cell_type": "markdown",
     "metadata": {},
     "source": [
      "#Band tailing in CZTS due to formation of motifs\n",
      "\n",
      "data files:\n",
      "\n",
      "    1. compensated_band_tailing.pckl\n",
      "    \n",
      "    2. czts_band_tailing.pckl"
     ]
    },
    {
     "cell_type": "code",
     "collapsed": false,
     "input": [
      "%pylab inline\n",
      "import numpy as np\n",
      "import os\n",
      "import sys\n",
      "from tools import count_configurations_5\n",
      "from pylada.vasp import Extract\n",
      "from ase.calculators.vasp import VaspDos\n",
      "import pickle\n"
     ],
     "language": "python",
     "metadata": {},
     "outputs": [
      {
       "output_type": "stream",
       "stream": "stdout",
       "text": [
        "Populating the interactive namespace from numpy and matplotlib\n"
       ]
      }
     ],
     "prompt_number": 1
    },
    {
     "cell_type": "code",
     "collapsed": false,
     "input": [
      "from tools import count_configurations_5\n",
      "from pylada.vasp import Extract\n",
      "from ase.calculators.vasp import VaspDos\n",
      "import pickle"
     ],
     "language": "python",
     "metadata": {},
     "outputs": [],
     "prompt_number": 2
    },
    {
     "cell_type": "code",
     "collapsed": false,
     "input": [
      "from pylada.vasp import  MassExtract\n",
      "\n",
      "calc = MassExtract('/scratch/pzawadzk/DISORDER/CZTS/band_tailing')"
     ],
     "language": "python",
     "metadata": {},
     "outputs": [],
     "prompt_number": 3
    },
    {
     "cell_type": "code",
     "collapsed": false,
     "input": [
      "\n",
      "for key, element in calc.items():\n",
      "    conf, count_conf = count_configurations_5(element.structure,'S', atoms = ['Cu','Zn','Sn' ])\n",
      "    \n",
      "    #print key, conf"
     ],
     "language": "python",
     "metadata": {},
     "outputs": [],
     "prompt_number": 4
    },
    {
     "cell_type": "code",
     "collapsed": false,
     "input": [
      "def get_data(case, data_dir):\n",
      "    data_file = 'data/%s_band_tailing.pckl'%case\n",
      "    if os.path.exists(data_file):\n",
      "        f = open(data_file, 'r')\n",
      "        Efs, Evbm, Ecbm, Pdos_ref, Pdos_vbm, Pdos_cbm, x, y, Es, Dos, Avgs = pickle.load(f)\n",
      "    else:    \n",
      "        cutoff_min, cutoff_max = -20.0, -16.0\n",
      "        x, y, Es, Dos = [],[],[],[]\n",
      "        Pdos_ref, Pdos_vbm, Pdos_cbm = [], [], []\n",
      "        Efs = []\n",
      "        Evbm = []\n",
      "        Ecbm = []\n",
      "        Avgs = []\n",
      "    \n",
      "        for dir in os.listdir(data_dir):\n",
      "            outcar = os.path.join(data_dir, dir, 'non-magnetic', 'OUTCAR')\n",
      "            print outcar\n",
      "            if os.path.exists(outcar) and dir != 'cu_62_seed_2':\n",
      "                print dir\n",
      "                calc = Extract(outcar)\n",
      "                vol = calc.volume.__float__()\n",
      "                dos = VaspDos(os.path.join(data_dir, dir, 'non-magnetic', 'DOSCAR'))\n",
      "                Dos.append(1e3*dos.dos/vol)\n",
      "                energy = dos.energy \n",
      "                Ngrid = len(energy)\n",
      "                pdos_ref = zeros(Ngrid)\n",
      "                pdos_vbm = zeros(Ngrid)\n",
      "                pdos_cbm = zeros(Ngrid)\n",
      "                if case == 'compensated':\n",
      "                    Ncu = 0\n",
      "                    for atom in calc.structure:\n",
      "                        if atom.type == 'Cu':\n",
      "                            Ncu += 1\n",
      "                    x.append(Ncu/(108.-Ncu))\n",
      "                else:\n",
      "                    count, conf_count = count_configurations_5(calc.structure,'S', atoms = ['Cu','Zn','Sn' ])\n",
      "                    x.append(2*conf_count[7]/108.)\n",
      "                    print count, conf_count\n",
      "                for i, atom in enumerate(calc.structure):\n",
      "                  if atom.type == 'Sn':\n",
      "                    for id in [4,5,6,7,8]:#d\n",
      "                      pdos_ref += dos.site_dos(i, id)\n",
      "                  if atom.type == 'Sn':\n",
      "                    for id in [0,]:#d\n",
      "                      pdos_cbm += dos.site_dos(i, id)\n",
      "                  if atom.type == 'Cu':\n",
      "                    for id in [4,5,6,7,8]:#d\n",
      "                      pdos_vbm += dos.site_dos(i, id)\n",
      "                avg, weight = 0, 0\n",
      "                Pdos_ref.append(1e3*pdos_ref/vol)\n",
      "                Pdos_vbm.append(1e3*pdos_vbm/vol)\n",
      "                Pdos_cbm.append(1e3*pdos_cbm/vol)\n",
      "                for i in range(Ngrid):\n",
      "                  if energy[i] > cutoff_min and energy[i] < cutoff_max:\n",
      "                    avg += energy[i] * pdos_ref[i]\n",
      "                    weight +=\tpdos_ref[i]\n",
      "                avg /= weight\n",
      "                Ef =\tfloat(calc.fermi_energy) - avg #- calc.vbm.__float__()\n",
      "                Efs.append(Ef)\n",
      "                print dir, avg, Ef\n",
      "                Avgs.append(avg)\n",
      "                Es.append(energy-avg)\n",
      "                Evbm.append(calc.vbm.__float__()-avg)\n",
      "                Ecbm.append(calc.cbm.__float__()-avg)\n",
      "            \n",
      "        f = open(data_file, 'w')\n",
      "        pickle.dump([Efs, Evbm, Ecbm, Pdos_ref, Pdos_vbm, Pdos_cbm, x, y, Es, Dos, Avgs], f)\n",
      "    f.close()\n",
      "    \n",
      "    #print Evbm[0]\n",
      "    '''\n",
      "    for i in range(len(Dos)):\n",
      "        fig = figure()\n",
      "        plot(Es[i], Dos[i], '-%s' %'k', label='%d'%i)\n",
      "        plot(Es[i], 1*Pdos_ref[i], '-b') \n",
      "        plot(Es[i], 1*Pdos_vbm[i], '-r') \n",
      "        plot(Es[i], 1*Pdos_cbm[i], '-g')\n",
      "        #axis(xmin = -25, xmax = 2, ymin = 0, ymax=40)\n",
      "        legend()\n",
      "    '''\n",
      "    print x\n",
      "    xs = []\n",
      "    Ecbm_ = {}\n",
      "    Evbm_ = {}\n",
      "    DOS_ = {}\n",
      "    ES_ = {}\n",
      "    for i, xi in enumerate(x):\n",
      "        if xi not in xs:\n",
      "            xs.append(xi)\n",
      "            Ecbm_[xi]=[Ecbm[i]*1000]\n",
      "            Evbm_[xi]=[Evbm[i]*1000]\n",
      "            #DOS_[xi]= Dos[i]\n",
      "            #ES_[xi]=Es[i]\n",
      "        else:\n",
      "            Ecbm_[xi].append(Ecbm[i]*1000)\n",
      "            Evbm_[xi].append(Evbm[i]*1000)\n",
      "            #DOS_[xi] += Dos[i]\n",
      "\n",
      "\n",
      "            \n",
      "    Ecbm_m = []\n",
      "    Ecbm_s = []\n",
      "    Evbm_m = []\n",
      "    Evbm_s = []\n",
      "    for xi in xs:\n",
      "        Ecbm_m.append(np.mean(Ecbm_[xi]))\n",
      "        Ecbm_s.append(np.std(Ecbm_[xi]))\n",
      "        Evbm_m.append(np.mean(Evbm_[xi]))\n",
      "        Evbm_s.append(np.std(Evbm_[xi]))\n",
      "    \n",
      "    list1, Ecbm_m = (list(x) for x in zip(*sorted(zip(xs, Ecbm_m))))\n",
      "    list1, Ecbm_s = (list(x) for x in zip(*sorted(zip(xs, Ecbm_s))))\n",
      "    list1, Evbm_m = (list(x) for x in zip(*sorted(zip(xs, Evbm_m))))\n",
      "    xs, Evbm_s = (list(x) for x in zip(*sorted(zip(xs, Evbm_s))))\n",
      "    return xs, Evbm_m, Ecbm_m, Evbm_s, Ecbm_s, DOS_, ES_"
     ],
     "language": "python",
     "metadata": {},
     "outputs": [],
     "prompt_number": 5
    },
    {
     "cell_type": "code",
     "collapsed": false,
     "input": [],
     "language": "python",
     "metadata": {},
     "outputs": [],
     "prompt_number": 5
    },
    {
     "cell_type": "code",
     "collapsed": false,
     "input": [
      "\n",
      "case = 'compensated'\n",
      "data_dir = '/scratch/pzawadzk/DISORDER/CZTS/band_tailing'\n",
      "xs_comp, Evbm_m_comp, Ecbm_m_comp, Evbm_s_comp, Ecbm_s_comp, DOS_comp, ES_comp = get_data(case, data_dir)\n",
      "#print xs_comp\n",
      "\n",
      "case = 'czts'\n",
      "data_dir = '/scratch/pzawadzk/DISORDER/CZTS/cts_mix_3'\n",
      "xs_czts, Evbm_m_czts, Ecbm_m_czts, Evbm_s_czts, Ecbm_s_czts, DOS_czts, ES_czts = get_data(case, data_dir)\n",
      "#Evbm_m_czts  -= Evbm_m_czts[czts_index]"
     ],
     "language": "python",
     "metadata": {},
     "outputs": [
      {
       "output_type": "stream",
       "stream": "stdout",
       "text": [
        "[0.8620689655172413, 1.16, 1.16, 1.0, 0.8620689655172413, 0.7419354838709677, 1.0, 0.8620689655172413, 1.16, 1.0, 0.7419354838709677, 0.8620689655172413, 0.8620689655172413, 0.7419354838709677, 0.7419354838709677, 1.0, 1.0, 0.7419354838709677, 1.16, 0.8620689655172413, 1.16, 1.0, 1.3478260869565217, 1.3478260869565217, 1.0, 1.3478260869565217, 1.16, 1.3478260869565217, 1.3478260869565217, 1.3478260869565217, 1.0, 0.8620689655172413, 0.7419354838709677, 1.16, 1.3478260869565217, 0.7419354838709677, 1.16, 0.7419354838709677, 0.8620689655172413]\n",
        "[0.1111111111111111, 0.1111111111111111, 0.37037037037037035, 0.37037037037037035, 0.05555555555555555, 0.05555555555555555, 0.18518518518518517, 0.0, 0.18518518518518517, 0.05555555555555555, 0.05555555555555555, 0.18518518518518517, 0.1111111111111111, 0.37037037037037035, 0.05555555555555555, 0.37037037037037035, 0.0, 0.18518518518518517, 0.18518518518518517, 0.0, 0.1111111111111111, 0.0, 0.1111111111111111, 0.37037037037037035, 0.0]\n"
       ]
      }
     ],
     "prompt_number": 6
    },
    {
     "cell_type": "code",
     "collapsed": false,
     "input": [
      "print Evbm_m_czts"
     ],
     "language": "python",
     "metadata": {},
     "outputs": [
      {
       "output_type": "stream",
       "stream": "stdout",
       "text": [
        "[   0.           20.31134309   51.87437845   74.91230892  124.80359875]\n"
       ]
      }
     ],
     "prompt_number": 15
    },
    {
     "cell_type": "code",
     "collapsed": false,
     "input": [
      "\n",
      "\n",
      "print 'case:', 'compensated'\n",
      "print 'x\\t Ecbm\\t Evbm [meV]'\n",
      "for i in range(len(xs_comp)):\n",
      "    print '%.2f\\t%.2f\\t%.2f' %(xs_comp[i], Ecbm_m_comp[i], Evbm_m_comp[i])\n",
      "\n",
      "\n",
      "print 'x\\t Ecbm\\t sigma\\t Evbm\\t sigma[meV]'\n",
      "for i in range(len(xs_comp)):\n",
      "    print '%.2f\\t%.2f\\t%.2f\\t%.2f\\t%.2f' %(xs_comp[i], Ecbm_m_comp[i], Ecbm_s_comp[i], Evbm_m_comp[i], Evbm_s_comp[i])\n",
      "    \n",
      "comp_index = 2\n",
      "czts_index = 0\n",
      "\n",
      "#correction of band at stochiometric condtions\n",
      "Evbm_m_comp[comp_index] = Evbm_m_czts[3]\n",
      "Ecbm_m_comp[comp_index] = Ecbm_m_czts[3]\n",
      "Evbm_s_comp[comp_index] = Evbm_s_czts[3]\n",
      "Ecbm_s_comp[comp_index] = Ecbm_s_czts[3]\n",
      "\n",
      "Ecbm_m_comp = np.array(Ecbm_m_comp)\n",
      "Ecbm_m_comp_0 = Ecbm_m_comp[comp_index]\n",
      "#Ecbm_m_comp -= Ecbm_m_comp[comp_index]\n",
      "Ecbm_m_comp -= Ecbm_m_czts[0]\n",
      "#print Ecbm_m_czts\n",
      "\n",
      "Evbm_m_comp = np.array(Evbm_m_comp)\n",
      "Evbm_m_comp_0 = Evbm_m_comp[comp_index]\n",
      "#Evbm_m_comp -= Evbm_m_comp[comp_index]\n",
      "Evbm_m_comp -= Evbm_m_czts[0]\n",
      "\n",
      "Ecbm_m_czts = np.array(Ecbm_m_czts )\n",
      "Ecbm_m_czts_0 = Ecbm_m_czts[czts_index]\n",
      "\n",
      "Ecbm_m_czts -= Ecbm_m_czts[czts_index]\n",
      "\n",
      "Evbm_m_czts  = np.array(Evbm_m_czts )\n",
      "Evbm_m_czts_0 = Evbm_m_czts[czts_index]\n",
      "\n",
      "Evbm_m_czts  -= Evbm_m_czts[czts_index]"
     ],
     "language": "python",
     "metadata": {},
     "outputs": [
      {
       "output_type": "stream",
       "stream": "stdout",
       "text": [
        "case: compensated\n",
        "x\t Ecbm\t Evbm [meV]\n",
        "0.74\t22562.71\t22079.31\n",
        "0.86\t22499.94\t22082.61\n",
        "1.00\t22500.00\t21997.06\n",
        "1.16\t22294.06\t22166.67\n",
        "1.35\t22222.81\t22200.67\n",
        "x\t Ecbm\t sigma\t Evbm\t sigma[meV]\n",
        "0.74\t22562.71\t11.10\t22079.31\t27.06\n",
        "0.86\t22499.94\t32.49\t22082.61\t20.24\n",
        "1.00\t22500.00\t26.55\t21997.06\t27.78\n",
        "1.16\t22294.06\t20.79\t22166.67\t36.02\n",
        "1.35\t22222.81\t54.45\t22200.67\t45.75\n"
       ]
      }
     ],
     "prompt_number": 7
    },
    {
     "cell_type": "raw",
     "metadata": {},
     "source": [
      "\n",
      "case: compensated\n",
      "x\t Ecbm\t Evbm [meV]\n",
      "0.85\t22493.37\t22053.74\n",
      "0.93\t22474.56\t22041.46\n",
      "1.00\t22471.86\t21961.26\n",
      "1.07\t22281.56\t22151.53\n",
      "1.15\t22211.70\t22190.55\n",
      "x\t Ecbm\t sigma\t Evbm\t sigma[meV]\n",
      "0.85\t21.50\t39.34\t92.48\t92.48\n",
      "0.93\t2.70\t34.45\t80.20\t80.20\n",
      "1.00\t0.00\t0.43\t0.00\t0.00\n",
      "1.07\t-190.30\t19.47\t190.27\t190.27\n",
      "1.15\t-260.17\t63.01\t229.28\t229.28\n",
      "\n",
      "case: czts\n",
      "x\t Ecbm\t Evbm [meV]\n",
      "0.00\t22507.21\t21968.79\n",
      "0.06\t22484.00\t21989.10\n",
      "0.11\t22457.60\t22020.66\n",
      "0.19\t22449.98\t22043.70\n",
      "0.37\t22404.27\t22093.59\n",
      "x\t Ecbm\t sigma\t Evbm\t sigma[meV]\n",
      "0.00\t0.00\t32.63\t0.00\t24.33\n",
      "0.06\t-23.21\t29.54\t20.31\t19.66\n",
      "0.11\t-49.61\t42.37\t51.87\t21.43\n",
      "0.19\t-57.23\t25.44\t74.91\t21.43\n",
      "0.37\t-102.94\t4.60\t124.80\t8.70\n",
      "\n",
      "\n",
      "\n",
      "CZTS:\n",
      "Ecbm     Evbm\n",
      "22513.525 21942.125\n",
      "\n",
      "Stannite\n",
      "22418.73  21995.13 \n"
     ]
    },
    {
     "cell_type": "markdown",
     "metadata": {},
     "source": [
      "\n"
     ]
    },
    {
     "cell_type": "code",
     "collapsed": false,
     "input": [
      "Ecbm_kesterite = 22513.5251237\n",
      "Evbm_kesterite = 21942.1251237 \n",
      "\n",
      "Ecbm_shift = Ecbm_m_czts_0 - Ecbm_m_comp_0\n",
      "Evbm_shift = Evbm_m_czts_0- Evbm_m_comp_0\n",
      "print Ecbm_kesterite - Evbm_kesterite\n",
      "\n",
      "#print Ecbm_shift, Evbm_shift, Ecbm_stechio, Ecbm_m_czts[0] "
     ],
     "language": "python",
     "metadata": {},
     "outputs": [
      {
       "output_type": "stream",
       "stream": "stdout",
       "text": [
        "571.4\n"
       ]
      }
     ],
     "prompt_number": 8
    },
    {
     "cell_type": "code",
     "collapsed": false,
     "input": [
      "#Ecbm_m_comp += Ecbm_shift\n",
      "#Evbm_m_comp += Evbm_shift"
     ],
     "language": "python",
     "metadata": {},
     "outputs": [],
     "prompt_number": 9
    },
    {
     "cell_type": "code",
     "collapsed": false,
     "input": [
      "fig=plt.figure()\n",
      "\n",
      "ax = fig.add_subplot(111)\n",
      "ax.set_xlabel('Cu/(Zn+Sn)')\n",
      "ax.set_ylabel('$\\Delta E$ [meV]')\n",
      "#plt.gca().set_yscale('log',basey=10)\n",
      "\n",
      "    \n",
      "col = {3:'g', 7:'r', 10:'k', 12:'b'}\n",
      "\n",
      "plt.fill_between([0.6, 1.6], Evbm_s_czts[0], Ecbm_s_czts[0], facecolor='r', alpha=0.4)\n",
      "plt.fill_between([0.6, 1.6], - Ecbm_s_czts[0], -Evbm_s_czts[0], facecolor='r', alpha=0.4)\n",
      "plt.fill_between([0.6, 1.6], - Evbm_s_czts[0], Evbm_s_czts[0], facecolor='b', alpha=0.3)\n",
      "plt.plot(xs_comp, Ecbm_m_comp, 'r-', markersize=8, linewidth=2., markeredgewidth = 2,label='CBM')\n",
      "plt.errorbar(xs_comp, Ecbm_m_comp, yerr=Ecbm_s_comp, fmt='ko')\n",
      "plt.plot(xs_comp, Evbm_m_comp, 'b-', markersize=8, linewidth=2., markeredgewidth = 2,label='VBM')\n",
      "plt.errorbar(xs_comp, Evbm_m_comp, yerr=Evbm_s_comp, fmt='ko')\n",
      "plt.plot([0.7, 1.4], [0,0], 'k--', markersize=8, linewidth=2., markeredgewidth = 2,)\n",
      "\n",
      "\n",
      "ax.axis(xmin=0.7, xmax=1.4, ymin=-350, ymax=290.0)\n",
      "legend(loc=3)"
     ],
     "language": "python",
     "metadata": {},
     "outputs": [
      {
       "metadata": {},
       "output_type": "pyout",
       "prompt_number": 10,
       "text": [
        "<matplotlib.legend.Legend at 0x4faf250>"
       ]
      },
      {
       "metadata": {},
       "output_type": "display_data",
       "png": "[encoded data removed]",
       "text": [
        "<matplotlib.figure.Figure at 0x4d03cd0>"
       ]
      }
     ],
     "prompt_number": 10
    },
    {
     "cell_type": "code",
     "collapsed": false,
     "input": [
      "\n",
      "fig=plt.figure(figsize=(6,2))\n",
      "ax = fig.add_subplot(111)\n",
      "#ax.set_xlabel('$n(\\mathrm{S-Cu}_3\\mathrm{Sn})/n_0$', )#fontsize=40)\n",
      "#ax.set_ylabel('$\\Delta E_\\mathrm{CBM}$ [meV]',)# fontsize=40)\n",
      "\n",
      "\n",
      "from matplotlib.ticker import FixedLocator\n",
      "majorLocator   = FixedLocator(np.linspace(0,0.2,5))\n",
      "ax.xaxis.set_major_locator(majorLocator)\n",
      "ax.ticklabel_format(fontsize=40)\n",
      "#plt.tick_params(axis='both', which='major', labelsize=30)\n",
      "\n",
      "col = {3:'g', 7:'r', 10:'k', 12:'b'}\n",
      "\n",
      "xs_314 = np.array(xs_czts)*0.5\n",
      "plt.plot(xs_314, Ecbm_m_czts, 'y-', markersize=8, linewidth=2., markeredgewidth = 2,)\n",
      "plt.errorbar(xs_314, Ecbm_m_czts, yerr=Ecbm_s_czts, fmt='ko')\n",
      "\n",
      "#ax.axis(xmin=0.7, xmax=1.4, ymin=-350, ymax=250.0)\n",
      "ax.axis(xmin=-0.005, xmax=.19, ymin=-145, ymax=45.0)\n",
      "plt.setp(ax.get_xticklabels(), visible=False)\n",
      "savefig('czts_cbm.pdf', bbox_inches='tight' )"
     ],
     "language": "python",
     "metadata": {},
     "outputs": [
      {
       "metadata": {},
       "output_type": "display_data",
       "png": "[encoded data removed]",
       "text": [
        "<matplotlib.figure.Figure at 0x4d03990>"
       ]
      }
     ],
     "prompt_number": 11
    },
    {
     "cell_type": "code",
     "collapsed": false,
     "input": [
      "fig=plt.figure(figsize=(6,2))\n",
      "ax = fig.add_subplot(111)\n",
      "ax.set_xlabel('Concentration of $\\mathrm{S-Cu}_3\\mathrm{Sn}$ motifs', )#fontsize=40)\n",
      "#ax.set_ylabel('$\\Delta E_\\mathrm{VBM}$ [meV]',)# fontsize=40)\n",
      "\n",
      "\n",
      "from matplotlib.ticker import FixedLocator\n",
      "majorLocator   = FixedLocator(np.linspace(0,0.2,5))\n",
      "ax.xaxis.set_major_locator(majorLocator)\n",
      "ax.ticklabel_format(fontsize=40)\n",
      "#plt.tick_params(axis='both', which='major', labelsize=30)\n",
      "\n",
      "col = {3:'g', 7:'r', 10:'k', 12:'b'}\n",
      "\n",
      "xs_314 = np.array(xs_czts)*0.5\n",
      "plt.plot(xs_314, Evbm_m_czts, 'b-', markersize=8, linewidth=2., markeredgewidth = 2,)\n",
      "plt.errorbar(xs_314, Evbm_m_czts, yerr=Evbm_s_czts, fmt='ko')\n",
      "#plt.plot([0.7, 1.4], [0,0], 'k--', markersize=8, linewidth=2., markeredgewidth = 2,)\n",
      "\n",
      "\n",
      "#ax.axis(xmin=0.7, xmax=1.4, ymin=-350, ymax=250.0)\n",
      "ax.axis(xmin=-0.005, xmax=.19, ymin=-45, ymax=145.0)\n",
      "savefig('czts_vbm.pdf', bbox_inches='tight' )"
     ],
     "language": "python",
     "metadata": {},
     "outputs": [
      {
       "metadata": {},
       "output_type": "display_data",
       "png": "[encoded data removed]",
       "text": [
        "<matplotlib.figure.Figure at 0x53ea7d0>"
       ]
      }
     ],
     "prompt_number": 12
    },
    {
     "cell_type": "code",
     "collapsed": false,
     "input": [
      "DOS_czts"
     ],
     "language": "python",
     "metadata": {},
     "outputs": [
      {
       "metadata": {},
       "output_type": "pyout",
       "prompt_number": 13,
       "text": [
        "{}"
       ]
      }
     ],
     "prompt_number": 13
    },
    {
     "cell_type": "code",
     "collapsed": false,
     "input": [],
     "language": "python",
     "metadata": {},
     "outputs": [],
     "prompt_number": 13
    },
    {
     "cell_type": "code",
     "collapsed": false,
     "input": [],
     "language": "python",
     "metadata": {},
     "outputs": []
    }
   ],
   "metadata": {}
  }
 ]
}