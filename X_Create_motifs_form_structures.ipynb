{
 "metadata": {
  "name": "",
  "signature": "sha256:113b6466e2774bd3adf4340c728e5f7b3839945174e98de0707b1f56f4ae91cc"
 },
 "nbformat": 3,
 "nbformat_minor": 0,
 "worksheets": [
  {
   "cells": [
    {
     "cell_type": "markdown",
     "metadata": {},
     "source": [
      "#Creates motifs from structures"
     ]
    },
    {
     "cell_type": "code",
     "collapsed": false,
     "input": [
      "from pylada.crystal import read, write\n",
      "from tools import  remove_atoms\n",
      "import os"
     ],
     "language": "python",
     "metadata": {},
     "outputs": [],
     "prompt_number": 1
    },
    {
     "cell_type": "code",
     "collapsed": false,
     "input": [
      "dir = '/scratch/pzawadzk/DISORDER/CZTS/MC/CTS/energy_dis_069/cu_48_72_seed_6_count_24_48/charge'\n",
      "#dir = '/scratch/pzawadzk/DISORDER/CZTS/MC/CTS/energy_cc_069/CTS_cc_48_144/charge_221'\n",
      "dir = '/scratch/pzawadzk/DISORDER/CZTS/pot_wf_plot/czts_9_v0'\n",
      "structure = read.poscar(os.path.join(dir, 'POSCAR'))\n",
      "\n",
      "structure = remove_atoms(structure, atoms_0 = ['S'], confs = [[3, 1, 0],[1, 1, 2]], remove_metal=False)\n",
      "print len(structure)\n",
      "count = {'N':0, 'P':0, 'S':0, 'O':0, 'Zn':0, 'Sn':0, 'Cu':0}\n",
      "for atom in structure:\n",
      "    count[atom.type] +=1\n",
      "print count\n",
      "write.poscar(structure, os.path.join(dir, 'czts_motifs_removed.vasp'), vasp5=True)"
     ],
     "language": "python",
     "metadata": {},
     "outputs": [
      {
       "output_type": "stream",
       "stream": "stdout",
       "text": [
        "67\n",
        "{'Zn': 11, 'O': 0, 'N': 0, 'P': 0, 'S': 18, 'Sn': 12, 'Cu': 26}\n"
       ]
      }
     ],
     "prompt_number": 3
    },
    {
     "cell_type": "code",
     "collapsed": false,
     "input": [],
     "language": "python",
     "metadata": {},
     "outputs": []
    }
   ],
   "metadata": {}
  }
 ]
}