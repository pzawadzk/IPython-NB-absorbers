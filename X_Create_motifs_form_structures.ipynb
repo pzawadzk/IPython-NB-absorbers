{
 "metadata": {
  "name": "",
  "signature": "sha256:f088c4069b0e98aa68638cc037f4b8a183d713c651d052267e87cbe741c91f77"
 },
 "nbformat": 3,
 "nbformat_minor": 0,
 "worksheets": [
  {
   "cells": [
    {
     "cell_type": "markdown",
     "metadata": {},
     "source": [
      "#Creates motifs from structures"
     ]
    },
    {
     "cell_type": "code",
     "collapsed": false,
     "input": [
      "from pylada.crystal import read, write\n",
      "from tools import  remove_atoms\n",
      "import os"
     ],
     "language": "python",
     "metadata": {},
     "outputs": [],
     "prompt_number": 2
    },
    {
     "cell_type": "code",
     "collapsed": false,
     "input": [
      "dir = '/scratch/pzawadzk/DISORDER/CZTS/MC/CTS/energy_dis_069/cu_48_72_seed_6_count_24_48/charge'\n",
      "#dir = '/scratch/pzawadzk/DISORDER/CZTS/MC/CTS/energy_cc_069/CTS_cc_48_144/charge_221'\n",
      "structure = read.poscar(os.path.join(dir, 'POSCAR'))\n",
      "\n",
      "structure = remove_atoms(structure, atoms_0 = ['S'], confs = [[2, 2, 0],], remove_metal=True)\n",
      "print len(structure)\n",
      "count = {'N':0, 'P':0, 'S':0, 'O':0, 'Sn':0, 'Cu':0}\n",
      "for atom in structure:\n",
      "    count[atom.type] +=1\n",
      "print count\n",
      "write.poscar(structure, os.path.join(dir, 'cu2sn2.vasp'), vasp5=True)"
     ],
     "language": "python",
     "metadata": {},
     "outputs": [
      {
       "output_type": "stream",
       "stream": "stdout",
       "text": [
        "24\n",
        "{'O': 0, 'N': 0, 'P': 0, 'S': 24, 'Sn': 0, 'Cu': 0}\n"
       ]
      }
     ],
     "prompt_number": 3
    },
    {
     "cell_type": "code",
     "collapsed": false,
     "input": [],
     "language": "python",
     "metadata": {},
     "outputs": []
    }
   ],
   "metadata": {}
  }
 ]
}