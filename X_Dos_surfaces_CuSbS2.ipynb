{
 "metadata": {
  "name": "",
  "signature": "sha256:2317120d2b0abcad68860879dd7509575f8b5ff7225a3868c9c62cb6e1f26cdc"
 },
 "nbformat": 3,
 "nbformat_minor": 0,
 "worksheets": [
  {
   "cells": [
    {
     "cell_type": "markdown",
     "metadata": {},
     "source": [
      "## DOS of surfaces in CuSbS2"
     ]
    },
    {
     "cell_type": "code",
     "collapsed": false,
     "input": [
      "%pylab inline\n",
      "import numpy as np\n",
      "import os\n",
      "import sys\n",
      "\n",
      "os.chdir('/scratch/pzawadzk/surfaces/CuSbS2')\n",
      "!pwd"
     ],
     "language": "python",
     "metadata": {},
     "outputs": [
      {
       "output_type": "stream",
       "stream": "stdout",
       "text": [
        "Populating the interactive namespace from numpy and matplotlib\n",
        "/scratch/pzawadzk/surfaces/CuSbS2\r\n"
       ]
      }
     ],
     "prompt_number": 1
    },
    {
     "cell_type": "code",
     "collapsed": false,
     "input": [
      "from ase.calculators.vasp import VaspDos\n",
      "from pylada.vasp import Extract\n",
      "\n",
      "dirs = ['010/CuSbS2/lay_7/non-magnetic','001/CuSbS2/lay_3/non-magnetic', 'bulk/CuSbS2/CuSbS2/non-magnetic']\n",
      "\n",
      "cutoff_min = [-14, -15, -11]\n",
      "cutoff_max = [-9, -10, -7]\n",
      "\n",
      "Es = []\n",
      "Dos = []\n",
      "Pdos = []\n",
      "Efs = []\n",
      "Evbm = []\n",
      "Ecbm = []\n",
      "Avgs = []\n",
      "Pdos_S = []\n",
      "Pdos_B = []\n",
      "cut_z = 4\n",
      "\n",
      "for k, dir in enumerate(dirs):\n",
      "    \n",
      "    calc = Extract(os.path.join(dir, 'dos/OUTCAR'))\n",
      "    vol = calc.volume.__float__()\n",
      "    dos = VaspDos(os.path.join(dir, 'dos/DOSCAR'))\n",
      "    Dos.append(1e3*dos.dos/vol)\n",
      "    energy = dos.energy \n",
      "    Ngrid = len(energy)\n",
      "    pdos_s = zeros(Ngrid)\n",
      "    pdos_S = zeros(Ngrid)\n",
      "    pdos_B = zeros(Ngrid)\n",
      "    z_pos = []\n",
      "    for i, atom in enumerate(calc.structure):\n",
      "        z_pos.append(atom.pos[2])\n",
      "        if atom.type == 'S':\n",
      "            for id in [0]:\n",
      "                pdos_s += dos.site_dos(i, id)\n",
      "\n",
      "    for i, atom in enumerate(calc.structure):\n",
      "        max_z = max(z_pos) * float(calc.structure.scale) - cut_z\n",
      "        min_z = min(z_pos) * float(calc.structure.scale) + cut_z\n",
      "        if atom.pos[2] > min_z and  atom.pos[2] < max_z:\n",
      "            for id in range(9):\n",
      "                pdos_B += dos.site_dos(i, id)\n",
      "        else:\n",
      "            for id in range(9):\n",
      "                pdos_S += dos.site_dos(i, id)\n",
      "    print min_z, max_z, max_z-min_z            \n",
      "    Pdos_S.append(pdos_S)\n",
      "    Pdos_B.append(pdos_B)\n",
      "    avg = 0\n",
      "    weight = 0\n",
      "    Pdos.append(1e3*pdos_s/vol)\n",
      "    for i in range(Ngrid):\n",
      "        if energy[i] < cutoff_max[k] and energy[i] > cutoff_min[k]:\n",
      "            avg += energy[i] * pdos_s[i]\n",
      "            weight +=\tpdos_s[i]\n",
      "\n",
      "    avg /= weight\n",
      "    print dir, avg\n",
      "    avg =  avg#Avgs_ref[k]\n",
      "    Ef = float(calc.fermi_energy) - avg #- calc.vbm.__float__()\n",
      "    Efs.append(Ef)\n",
      "    print dir, avg, Ef\n",
      "    Avgs.append(avg)\n",
      "    Es.append(energy-avg)\n",
      "    print  calc.vbm.__float__(),  calc.cbm.__float__()\n",
      "    Evbm.append( calc.vbm.__float__()-avg)\n",
      "\n",
      "\n",
      "    Ecbm.append( calc.cbm.__float__()-avg)"
     ],
     "language": "python",
     "metadata": {},
     "outputs": [
      {
       "output_type": "stream",
       "stream": "stdout",
       "text": [
        "14.8191176128 32.079729293 17.2606116802\n",
        "010/CuSbS2/lay_7/non-magnetic -12.3829397334\n",
        "010/CuSbS2/lay_7/non-magnetic -12.3829397334 12.8843397334\n",
        "0.4824"
       ]
      },
      {
       "output_type": "stream",
       "stream": "stdout",
       "text": [
        " 1.5136\n",
        "15.0048935702"
       ]
      },
      {
       "output_type": "stream",
       "stream": "stdout",
       "text": [
        " 48.4534967128 33.4486031426\n",
        "001/CuSbS2/lay_3/non-magnetic -11.1067652127\n",
        "001/CuSbS2/lay_3/non-magnetic -11.1067652127 13.0002652127\n",
        "1.8899"
       ]
      },
      {
       "output_type": "stream",
       "stream": "stdout",
       "text": [
        " 2.7182\n",
        "4.90257893988"
       ]
      },
      {
       "output_type": "stream",
       "stream": "stdout",
       "text": [
        " 9.58357834858 4.68099940871\n",
        "bulk/CuSbS2/CuSbS2/non-magnetic -8.11888483563\n",
        "bulk/CuSbS2/CuSbS2/non-magnetic -8.11888483563 12.9148848356\n",
        "4.7873"
       ]
      },
      {
       "output_type": "stream",
       "stream": "stdout",
       "text": [
        " 5.8992\n"
       ]
      }
     ],
     "prompt_number": 75
    },
    {
     "cell_type": "code",
     "collapsed": false,
     "input": [
      "Es = np.array(Es)\n",
      "Evbm = np.array(Evbm)\n",
      "Ecbm = np.array(Ecbm)\n",
      "\n",
      "Es -= Evbm[2]\n",
      "\n",
      "Ecbm -= Evbm[2]\n",
      "Evbm -= Evbm[2]"
     ],
     "language": "python",
     "metadata": {},
     "outputs": [],
     "prompt_number": 76
    },
    {
     "cell_type": "code",
     "collapsed": false,
     "input": [
      "######################################################################################################\n",
      "rc('axes', linewidth=2)\n",
      "\n",
      "fig=plt.figure(num=None, figsize=(6, 4), dpi=80,\tedgecolor='k')\n",
      "\n",
      "plt.subplots_adjust(hspace=0.001)\n",
      "\n",
      "left=0.15\n",
      "bottom=0.20\n",
      "w=0.83\n",
      "h=0.78\n",
      "\n",
      "\n",
      "axis = []\n",
      "ax1 = plt.subplot(311)\n",
      "\n",
      "axis.append(ax1)\n",
      "axis.append(plt.subplot(312,sharex = ax1))\n",
      "axis.append(plt.subplot(313,sharex = ax1))\n",
      "\n",
      "s = ['(010)', '(001)', 'bulk']\n",
      "for i, ax in enumerate(axis):\n",
      "    ax.set_position([left,bottom+i*h/3, w, h/3])\n",
      "    ax.plot(Es[i], Dos[i], '-%s'%'k')\n",
      "    ax.plot([Evbm[i], Evbm[i]], [0,100], '--k', linewidth=2)\n",
      "    ax.plot([Ecbm[i], Ecbm[i]], [0,100], '--k', linewidth=2)\n",
      "    ax.text(0.4,20, s[i])\n",
      "\n",
      "    #ax.plot(Es[i], 5*Pdos[i], '-b') \n",
      "    for index, e in enumerate(Es[i]):\n",
      "        if e > 0.5:\n",
      "            break\n",
      "    cc = '0.75'\n",
      "\n",
      "    ax.fill_between(Es[i][:index], 0, Dos[i][:index], facecolor = cc, edgecolor=cc)\n",
      "    if i != 2:\n",
      "        ax.plot(Es[i][:index], 2*Pdos_B[i][:index], '-b', linewidth=2)\n",
      "        ax.plot(Es[i][index:], 4*Pdos_B[i][index:], '-b', linewidth=2)\n",
      "        ax.plot(Es[i][:index], 2*Pdos_S[i][:index], '-r', linewidth=2)\n",
      "        ax.plot(Es[i][index:], 4*Pdos_S[i][index:], '-r', linewidth=2)\n",
      "        #  ax.fill_between(Es[i][:index], 0, Pdos_B[i][:index], facecolor = 'blue', edgecolor=cc, alpha=1)\n",
      "       #ax.fill_between(Es[i][index:], 0, 4*Pdos_B[i][index:], facecolor = 'blue', edgecolor=cc, alpha=1)\n",
      "        #ax.fill_between(Es[i][:index], 0, Pdos_S[i][:index], facecolor = 'red', edgecolor=cc, alpha=1)\n",
      "        #ax.fill_between(Es[i][index:], 0, 4*Pdos_S[i][index:], facecolor = 'red', edgecolor=cc, alpha=1)\n",
      "\n",
      "\n",
      "    ax.axis(xmin = -0.5, xmax = 1.5, ymin = 0.5, ymax=40)\n",
      "\n",
      "    loc=list(linspace(20,20,1))\n",
      "    ax.yaxis.set_major_locator(FixedLocator(loc))\n",
      "\n",
      "\n",
      "    xx=ax.xaxis.get_ticklabels()\n",
      "    for x in xx:\n",
      "        x.set_fontsize(20)\n",
      "\n",
      "    xx=ax.yaxis.get_ticklabels()\n",
      "    for x in xx:\n",
      "        x.set_fontsize(20)\n",
      "\n",
      "    for line in ax.xaxis.get_ticklines():\n",
      "        line.set_markersize(10)\n",
      "        line.set_markeredgewidth(2)\n",
      "\n",
      "    for line in ax.yaxis.get_ticklines():\n",
      "        line.set_markersize(10)\n",
      "        line.set_markeredgewidth(2)\n",
      "\n",
      "for ax in axis[1:]:\n",
      "    plt.setp(ax.get_xticklabels(), visible=False)\n",
      "for j in range(3):\n",
      "    axis[j].plot([Evbm[2], Evbm[2]], [0,100], '-k', linewidth=2) \n",
      "    axis[j].plot([Ecbm[2], Ecbm[2]], [0,100], '-k', linewidth=2) \n",
      "#axis[2].plot([Ecbm_2, Ecbm_2], [0,100], '--b', linewidth=2) \n",
      "#axis[0].plot([Evbm_1, Evbm_1], [0,100], '--b', linewidth=2) \n",
      "\n",
      "######################################################################################################\n",
      "ax1.set_xlabel(r'$ E- E_{vbm} $ [eV]', fontsize=25)\n",
      "axis[1].set_ylabel(r'DOS [eV$^{-1}$nm$^{-3}$]', fontsize=20)\n",
      "######################################################################################################\n",
      "\n",
      "#plt.show()\n",
      "plt.legend()#prop = {'size':15})\n",
      "#plt.savefig('dos.png')"
     ],
     "language": "python",
     "metadata": {},
     "outputs": [
      {
       "metadata": {},
       "output_type": "display_data",
       "png": "[encoded data removed]",
       "text": [
        "<matplotlib.figure.Figure at 0x3a137d0>"
       ]
      }
     ],
     "prompt_number": 84
    }
   ],
   "metadata": {}
  }
 ]
}