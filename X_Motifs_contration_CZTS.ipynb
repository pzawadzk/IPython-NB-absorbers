{
 "metadata": {
  "name": "",
  "signature": "sha256:e089ec4f2fcc7c2bc6f39c430662c877619cc3464f762abce03d56fea7aedb63"
 },
 "nbformat": 3,
 "nbformat_minor": 0,
 "worksheets": [
  {
   "cells": [
    {
     "cell_type": "markdown",
     "metadata": {},
     "source": [
      "#Concentration of motifs in CZTS as a function of composition"
     ]
    },
    {
     "cell_type": "code",
     "collapsed": false,
     "input": [
      "%pylab inline\n",
      "import numpy as np\n",
      "import os\n",
      "import sys"
     ],
     "language": "python",
     "metadata": {},
     "outputs": [
      {
       "output_type": "stream",
       "stream": "stdout",
       "text": [
        "Populating the interactive namespace from numpy and matplotlib\n"
       ]
      }
     ],
     "prompt_number": 1
    },
    {
     "cell_type": "code",
     "collapsed": false,
     "input": [],
     "language": "python",
     "metadata": {},
     "outputs": [],
     "prompt_number": 1
    },
    {
     "cell_type": "code",
     "collapsed": false,
     "input": [
      "import pickle\n",
      "from pylada.vasp import Extract\n",
      "\n",
      "dir = '/scratch/pzawadzk/DISORDER/CZTS/MC/CZTS/CZTS'\n",
      "Nat = 500\n",
      "\n",
      "if Nat == 108:\n",
      "    cu_dat = [ 46, 50, 52, 54, 58, 62]\n",
      "    seeds = range(1,5)\n",
      "\n",
      "    range_start = 115000\n",
      "    range_end = 120000\n",
      "    data_file  = '/home/pzawadzk/notebooks/cuxs/data/p100_4_cluster_contration_108.pckl'\n",
      "elif Nat == 2048:\n",
      "    cu_dat = [870, 920, 970, 1020, 1024, 1028, 1100, 1190]\n",
      "    seeds = range(1,9)\n",
      "    range_start = 23000\n",
      "    range_end = 240000\n",
      "    data_file  = '/home/pzawadzk/notebooks/cuxs/data/p100_4_cluster_contration_2048.pckl'\n",
      "else:\n",
      "    cu_dat = [210,  230, 250, 270, 290]\n",
      "    seeds = range(1,5)\n",
      "    range_start = 117000\n",
      "    range_end = 120000\n",
      "    range_start = 157000\n",
      "    range_end = 160000\n",
      "    data_file  = '/home/pzawadzk/notebooks/cuxs/data/p100_4_cluster_contration.pckl'\n",
      "\n",
      "\n",
      "import pickle\n",
      "file = 'data/czts_motif_conc.pckl'\n",
      "if 0:#s.path.exists(file):\n",
      "  f = open(file, 'r')\n",
      "  [x,ys]=pickle.load(f)\n",
      "  f.close()\n",
      "else:\n",
      "  y = [] \n",
      "  ys = []\n",
      "  x = [] \n",
      "  for cu in cu_dat:\n",
      "    yi=np.zeros(15)\n",
      "    yis = []\n",
      "    count = 0\n",
      "    for seed in seeds:\n",
      "      if Nat == 108:\n",
      "          dir1 =  'cu_%d_108_T_-200.0_seed_%d_mc_final'% (cu,seed)\n",
      "      elif Nat == 2048:\n",
      "          dir1 =  'cu_%d_2048_T_-200.0_seed_%d_mc_comp'% (cu,seed)\n",
      "      else:\n",
      "          dir1 =  'cu_%d_500_T_-200.0_seed_%d_mc_final'% (cu,seed)\n",
      "      dir2 = os.path.join(dir,dir1)\n",
      "      print dir2\n",
      "      if 'mc_N_Cu_Zn_Sn_.dat' in os.listdir(dir2):\n",
      "        data = np.loadtxt(os.path.join(dir2,'mc_N_Cu_Zn_Sn_.dat'))\n",
      "        Nelem = Nat * len(data[range_start:range_end, 0])\n",
      "\n",
      "        dat = data[range_start:range_end, 1:16].sum(axis=0)/Nelem\n",
      "        yi +=  dat\n",
      "        count += 1\n",
      "        yis.append(dat)\n",
      "\n",
      "    ys.append(np.std(yis, axis=0))\n",
      "    y.append(yi/count)\n",
      "    x.append(cu/float(Nat-cu))\n",
      "  #x.append((81.-cu)/cu)\n",
      "\n",
      "  y = np.array(y)\n",
      "  f = open(file, 'w')\n",
      "  pickle.dump([x,y],f)\n",
      "  f.close()"
     ],
     "language": "python",
     "metadata": {},
     "outputs": [
      {
       "output_type": "stream",
       "stream": "stdout",
       "text": [
        "/scratch/pzawadzk/DISORDER/CZTS/MC/CZTS/CZTS/cu_210_500_T_-200.0_seed_1_mc_final\n",
        "/scratch/pzawadzk/DISORDER/CZTS/MC/CZTS/CZTS/cu_210_500_T_-200.0_seed_2_mc_final"
       ]
      },
      {
       "output_type": "stream",
       "stream": "stdout",
       "text": [
        "\n",
        "/scratch/pzawadzk/DISORDER/CZTS/MC/CZTS/CZTS/cu_210_500_T_-200.0_seed_3_mc_final"
       ]
      },
      {
       "output_type": "stream",
       "stream": "stdout",
       "text": [
        "\n",
        "/scratch/pzawadzk/DISORDER/CZTS/MC/CZTS/CZTS/cu_210_500_T_-200.0_seed_4_mc_final"
       ]
      },
      {
       "output_type": "stream",
       "stream": "stdout",
       "text": [
        "\n",
        "/scratch/pzawadzk/DISORDER/CZTS/MC/CZTS/CZTS/cu_230_500_T_-200.0_seed_1_mc_final"
       ]
      },
      {
       "output_type": "stream",
       "stream": "stdout",
       "text": [
        "\n",
        "/scratch/pzawadzk/DISORDER/CZTS/MC/CZTS/CZTS/cu_230_500_T_-200.0_seed_2_mc_final"
       ]
      },
      {
       "output_type": "stream",
       "stream": "stdout",
       "text": [
        "\n",
        "/scratch/pzawadzk/DISORDER/CZTS/MC/CZTS/CZTS/cu_230_500_T_-200.0_seed_3_mc_final"
       ]
      },
      {
       "output_type": "stream",
       "stream": "stdout",
       "text": [
        "\n",
        "/scratch/pzawadzk/DISORDER/CZTS/MC/CZTS/CZTS/cu_230_500_T_-200.0_seed_4_mc_final"
       ]
      },
      {
       "output_type": "stream",
       "stream": "stdout",
       "text": [
        "\n",
        "/scratch/pzawadzk/DISORDER/CZTS/MC/CZTS/CZTS/cu_250_500_T_-200.0_seed_1_mc_final"
       ]
      },
      {
       "output_type": "stream",
       "stream": "stdout",
       "text": [
        "\n",
        "/scratch/pzawadzk/DISORDER/CZTS/MC/CZTS/CZTS/cu_250_500_T_-200.0_seed_2_mc_final"
       ]
      },
      {
       "output_type": "stream",
       "stream": "stdout",
       "text": [
        "\n",
        "/scratch/pzawadzk/DISORDER/CZTS/MC/CZTS/CZTS/cu_250_500_T_-200.0_seed_3_mc_final"
       ]
      },
      {
       "output_type": "stream",
       "stream": "stdout",
       "text": [
        "\n",
        "/scratch/pzawadzk/DISORDER/CZTS/MC/CZTS/CZTS/cu_250_500_T_-200.0_seed_4_mc_final"
       ]
      },
      {
       "output_type": "stream",
       "stream": "stdout",
       "text": [
        "\n",
        "/scratch/pzawadzk/DISORDER/CZTS/MC/CZTS/CZTS/cu_270_500_T_-200.0_seed_1_mc_final"
       ]
      },
      {
       "output_type": "stream",
       "stream": "stdout",
       "text": [
        "\n",
        "/scratch/pzawadzk/DISORDER/CZTS/MC/CZTS/CZTS/cu_270_500_T_-200.0_seed_2_mc_final"
       ]
      },
      {
       "output_type": "stream",
       "stream": "stdout",
       "text": [
        "\n",
        "/scratch/pzawadzk/DISORDER/CZTS/MC/CZTS/CZTS/cu_270_500_T_-200.0_seed_3_mc_final"
       ]
      },
      {
       "output_type": "stream",
       "stream": "stdout",
       "text": [
        "\n",
        "/scratch/pzawadzk/DISORDER/CZTS/MC/CZTS/CZTS/cu_270_500_T_-200.0_seed_4_mc_final"
       ]
      },
      {
       "output_type": "stream",
       "stream": "stdout",
       "text": [
        "\n",
        "/scratch/pzawadzk/DISORDER/CZTS/MC/CZTS/CZTS/cu_290_500_T_-200.0_seed_1_mc_final"
       ]
      },
      {
       "output_type": "stream",
       "stream": "stdout",
       "text": [
        "\n",
        "/scratch/pzawadzk/DISORDER/CZTS/MC/CZTS/CZTS/cu_290_500_T_-200.0_seed_2_mc_final"
       ]
      },
      {
       "output_type": "stream",
       "stream": "stdout",
       "text": [
        "\n",
        "/scratch/pzawadzk/DISORDER/CZTS/MC/CZTS/CZTS/cu_290_500_T_-200.0_seed_3_mc_final"
       ]
      },
      {
       "output_type": "stream",
       "stream": "stdout",
       "text": [
        "\n",
        "/scratch/pzawadzk/DISORDER/CZTS/MC/CZTS/CZTS/cu_290_500_T_-200.0_seed_4_mc_final"
       ]
      },
      {
       "output_type": "stream",
       "stream": "stdout",
       "text": [
        "\n"
       ]
      }
     ],
     "prompt_number": 12
    },
    {
     "cell_type": "code",
     "collapsed": false,
     "input": [
      "y, np.array(ys)[:,1], x\n",
      "for i in range(15):\n",
      "    if y[4][i]>0.01:\n",
      "        print i, y[4][i]\n",
      "y += 1e-8"
     ],
     "language": "python",
     "metadata": {},
     "outputs": [
      {
       "output_type": "stream",
       "stream": "stdout",
       "text": [
        "9 0.16000001\n",
        "10 0.515994343333\n",
        "12 0.322002843333\n"
       ]
      }
     ],
     "prompt_number": 16
    },
    {
     "cell_type": "code",
     "collapsed": false,
     "input": [
      "y"
     ],
     "language": "python",
     "metadata": {},
     "outputs": [
      {
       "metadata": {},
       "output_type": "pyout",
       "prompt_number": 17,
       "text": [
        "array([[  2.00000000e-08,   2.00000000e-08,   2.00000000e-08,\n",
        "          3.80685333e-03,   6.64710200e-02,   2.00000000e-08,\n",
        "          2.00000000e-08,   1.34144687e-01,   8.33701867e-02,\n",
        "          2.00000000e-08,   6.63978020e-01,   1.01588533e-02,\n",
        "          3.80705200e-02,   2.00000000e-08,   2.00000000e-08],\n",
        "       [  2.00000000e-08,   2.00000000e-08,   2.00000000e-08,\n",
        "          2.74268667e-03,   2.08838533e-02,   2.00000000e-08,\n",
        "          2.00000000e-08,   1.03197687e-01,   4.69373533e-02,\n",
        "          2.00000000e-08,   7.76671687e-01,   1.21788533e-02,\n",
        "          3.73880200e-02,   2.00000000e-08,   2.00000000e-08],\n",
        "       [  2.00000000e-08,   2.00000000e-08,   2.00000000e-08,\n",
        "          2.00000000e-08,   2.00000000e-08,   2.00000000e-08,\n",
        "          2.00000000e-08,   2.16041867e-02,   2.00000000e-08,\n",
        "          2.00000000e-08,   9.56791687e-01,   2.00000000e-08,\n",
        "          2.16041867e-02,   2.00000000e-08,   2.00000000e-08],\n",
        "       [  2.00000000e-08,   2.00000000e-08,   2.00000000e-08,\n",
        "          2.00000000e-08,   2.00000000e-08,   2.00000000e-08,\n",
        "          6.17353333e-04,   8.40885333e-03,   2.00000000e-08,\n",
        "          7.93826867e-02,   7.42565020e-01,   2.00000000e-08,\n",
        "          1.69026187e-01,   2.00000000e-08,   2.00000000e-08],\n",
        "       [  2.00000000e-08,   2.00000000e-08,   2.00000000e-08,\n",
        "          2.00000000e-08,   2.00000000e-08,   2.00000000e-08,\n",
        "          2.00000000e-08,   2.00285333e-03,   2.00000000e-08,\n",
        "          1.60000020e-01,   5.15994353e-01,   2.00000000e-08,\n",
        "          3.22002853e-01,   2.00000000e-08,   2.00000000e-08]])"
       ]
      }
     ],
     "prompt_number": 17
    },
    {
     "cell_type": "code",
     "collapsed": false,
     "input": [
      "\n",
      "fig=plt.figure()\n",
      "\n",
      "ax = fig.add_subplot(111)\n",
      "#ax.set_xlabel('Cu/(Zn+Sn)', fontsize=20)\n",
      "ax.set_ylabel('$n/n_0$', fontsize=25)\n",
      "#plt.gca().set_yscale('log',basey=10)\n",
      "\n",
      "    \n",
      "col = {0: '-k',\n",
      " 1: '-k',\n",
      " 2: '-k',\n",
      " 3: '-r', #\n",
      " 4: '-.r', #Zn4\n",
      " 5: '-k',\n",
      " 6: '-k',\n",
      " 7: '-k', #CuSnZn2\n",
      " 8: '-g', #CuZn3\n",
      " 9: '--b', #Cu2Sn2\n",
      " 10: '-k', #CZTS\n",
      " 11: '-m', #Cu2Zn2\n",
      " 12: '-b', #Cu3Sn\n",
      " 13: '-k',\n",
      " 14: '-k'}\n",
      "\n",
      "for m in range(15):#[3, 7, 10, 12]:\n",
      "    #plt.plot(x, y[:, m], '%s'%col[m], markersize=0, markeredgewidth = 0)\n",
      "    plt.errorbar(x, y[:, m], yerr=np.array(ys)[:,m], fmt='%s'%col[m])\n",
      "\n",
      "ax.axis(xmin=0.7, xmax=1.4, ymin=0.002, ymax=1.0)\n",
      "plt.setp(ax.get_xticklabels(), visible=False)\n",
      "\n",
      "\n",
      "legend()"
     ],
     "language": "python",
     "metadata": {},
     "outputs": [
      {
       "metadata": {},
       "output_type": "display_data",
       "png": "[encoded data removed]",
       "text": [
        "<matplotlib.figure.Figure at 0x40b6bd0>"
       ]
      }
     ],
     "prompt_number": 18
    },
    {
     "cell_type": "code",
     "collapsed": false,
     "input": [
      "        a = np.ones(4)\n",
      "aa= [a, 2*a, 3*a]"
     ],
     "language": "python",
     "metadata": {},
     "outputs": [],
     "prompt_number": 23
    },
    {
     "cell_type": "code",
     "collapsed": false,
     "input": [
      "col"
     ],
     "language": "python",
     "metadata": {},
     "outputs": [
      {
       "metadata": {},
       "output_type": "pyout",
       "prompt_number": 7,
       "text": [
        "{0: '-k',\n",
        " 1: '-k',\n",
        " 2: '-k',\n",
        " 3: '-r',\n",
        " 4: '-.r',\n",
        " 5: '-k',\n",
        " 6: '-k',\n",
        " 7: '-k',\n",
        " 8: '-g',\n",
        " 9: '--b',\n",
        " 10: '-k',\n",
        " 11: '-m',\n",
        " 12: '-b',\n",
        " 13: '-k',\n",
        " 14: '-k'}"
       ]
      }
     ],
     "prompt_number": 7
    },
    {
     "cell_type": "code",
     "collapsed": false,
     "input": [
      "np.std(aa, axis=0)"
     ],
     "language": "python",
     "metadata": {},
     "outputs": [
      {
       "metadata": {},
       "output_type": "pyout",
       "prompt_number": 8,
       "text": [
        "array([ 0.81649658,  0.81649658,  0.81649658,  0.81649658])"
       ]
      }
     ],
     "prompt_number": 8
    }
   ],
   "metadata": {}
  }
 ]
}