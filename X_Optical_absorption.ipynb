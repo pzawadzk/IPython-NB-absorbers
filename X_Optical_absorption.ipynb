{
 "metadata": {
  "name": "",
  "signature": "sha256:f0b56c83a76bb9d6f31b81418ee414197f395e20657ebe8d8738818a2a310c3e"
 },
 "nbformat": 3,
 "nbformat_minor": 0,
 "worksheets": [
  {
   "cells": [
    {
     "cell_type": "markdown",
     "metadata": {},
     "source": [
      "#Optical absorption\n",
      "\n"
     ]
    },
    {
     "cell_type": "code",
     "collapsed": false,
     "input": [
      "import numpy as np\n",
      "import re\n",
      "%pylab inline"
     ],
     "language": "python",
     "metadata": {},
     "outputs": [
      {
       "output_type": "stream",
       "stream": "stdout",
       "text": [
        "Populating the interactive namespace from numpy and matplotlib\n"
       ]
      }
     ],
     "prompt_number": 1
    },
    {
     "cell_type": "code",
     "collapsed": false,
     "input": [
      "def get_eps(file):\n",
      "    '''Extracts dielectric function from vasp output'''\n",
      "    \n",
      "    pattern = re.compile(\"\\s*([-+]?\\d{0,4}\\.\\d{0,8})\\s+([-+]?\\d{0,4}\\.\\d{0,8})\\s+([-+]?\\d{0,4}\\.\\d{0,8})\\s+([-+]?\\d{0,4}\\.\\d{0,8})\\s+([-+]?\\d{0,4}\\.\\d{0,8})\\s+([-+]?\\d{0,4}\\.\\d{0,8})\\s+([-+]?\\d{0,4}\\.\\d{0,8})\\s*\")\n",
      "    eps_r = []\n",
      "    eps_i = []\n",
      "    real_tag = False\n",
      "    img_tag = False\n",
      "    f = open(file, 'r')\n",
      "    for line in f.readlines():\n",
      "        if 'REAL DIELECTRIC FUNCTION' in line:\n",
      "            real_tag = True\n",
      "            img_tag = False\n",
      "        elif 'IMAGINARY DIELECTRIC FUNCTION' in line:\n",
      "            real_tag = False\n",
      "            img_tag = True\n",
      "        if real_tag:\n",
      "            if pattern.match(line):\n",
      "                m = pattern.search(line)\n",
      "                e= float(m.group(1))\n",
      "                eps = (float(m.group(2))+ float(m.group(3))+ float(m.group(4)))/3.\n",
      "                eps_r.append([e, eps])\n",
      "            else:\n",
      "                pass\n",
      "                #print line\n",
      "        elif img_tag:\n",
      "            if pattern.match(line):\n",
      "                m = pattern.search(line)\n",
      "                e= float(m.group(1))\n",
      "                eps = (float(m.group(2))+ float(m.group(3))+ float(m.group(4)))/3.\n",
      "                eps_i.append([e, eps])\n",
      "            else:\n",
      "                pass\n",
      "                #print line\n",
      "        if len(eps_i) == len(eps_r) and len(eps_i)>0:\n",
      "            break\n",
      "    f.close()\n",
      "    return  eps_r, eps_i"
     ],
     "language": "python",
     "metadata": {},
     "outputs": [],
     "prompt_number": 10
    },
    {
     "cell_type": "code",
     "collapsed": false,
     "input": [
      "def get_alpha(eps_r, eps_i):\n",
      "    h = 4.136e-15 #ev/s\n",
      "    c = 3e10 #cm/s\n",
      "    e_r = np.array(eps_r)[:,1]\n",
      "    e_i = np.array(eps_i)[:,1]\n",
      "    en = np.array(eps_r)[:,0]\n",
      "\n",
      "    kappa = (((e_r**2 + e_i**2)**0.5 - e_r)/2)**0.5\n",
      "    alpha = 4*np.pi*en*kappa/(h*c)\n",
      "\n",
      "    return en, alpha"
     ],
     "language": "python",
     "metadata": {},
     "outputs": [],
     "prompt_number": 11
    },
    {
     "cell_type": "code",
     "collapsed": false,
     "input": [
      "vals = [7,10,4]"
     ],
     "language": "python",
     "metadata": {},
     "outputs": [],
     "prompt_number": 67
    },
    {
     "cell_type": "code",
     "collapsed": false,
     "input": [
      "#file = '/scratch/pzawadzk/DISORDER/CZTS/MC/CTS/energy_cc_069/CTS_cc_48_144/lopt_u7/OUTCAR'"
     ],
     "language": "python",
     "metadata": {},
     "outputs": [],
     "prompt_number": 68
    },
    {
     "cell_type": "code",
     "collapsed": false,
     "input": [
      "count = 0\n",
      "a = np.zeros(5001)\n",
      "for val in vals:\n",
      "    try:\n",
      "\n",
      "        file = '/scratch/pzawadzk/DISORDER/CZTS/MC/CTS/energy_dis_069/cu_48_72_seed_%d_count_24_48/lopt_u7/OUTCAR'%val\n",
      "        eps_r, eps_i = get_eps(file)\n",
      "        en, alpha = get_alpha(eps_r, eps_i)\n",
      "        a+=alpha\n",
      "        count +=1\n",
      "    except:\n",
      "        pass\n",
      "alpha = a/count        \n",
      "plot(en, alpha)\n",
      "ax = gca()\n",
      "ax.set_xlabel('Photon energy [eV]')\n",
      "ax.set_ylabel('Absorption [cm-1]')\n",
      "ax.set_yscale('log',basey=10)\n",
      "ax.axis(xmin=0.02, xmax=3, ymin=0, ymax=5e5)"
     ],
     "language": "python",
     "metadata": {},
     "outputs": [
      {
       "metadata": {},
       "output_type": "pyout",
       "prompt_number": 69,
       "text": [
        "(0.02, 3, 0.15185258827636941, 500000.0)"
       ]
      },
      {
       "metadata": {},
       "output_type": "display_data",
       "png": "[encoded data removed]",
       "text": [
        "<matplotlib.figure.Figure at 0x3828b50>"
       ]
      }
     ],
     "prompt_number": 69
    },
    {
     "cell_type": "code",
     "collapsed": false,
     "input": [
      "count"
     ],
     "language": "python",
     "metadata": {},
     "outputs": [
      {
       "metadata": {},
       "output_type": "pyout",
       "prompt_number": 70,
       "text": [
        "3"
       ]
      }
     ],
     "prompt_number": 70
    },
    {
     "cell_type": "code",
     "collapsed": false,
     "input": [],
     "language": "python",
     "metadata": {},
     "outputs": [],
     "prompt_number": 58
    },
    {
     "cell_type": "code",
     "collapsed": false,
     "input": [],
     "language": "python",
     "metadata": {},
     "outputs": []
    }
   ],
   "metadata": {}
  }
 ]
}